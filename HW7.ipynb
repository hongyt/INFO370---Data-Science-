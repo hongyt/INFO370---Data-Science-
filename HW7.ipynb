{
 "cells": [
  {
   "cell_type": "markdown",
   "metadata": {},
   "source": [
    "## HW 7 - Hongyi Tang"
   ]
  },
  {
   "cell_type": "code",
   "execution_count": 22,
   "metadata": {},
   "outputs": [],
   "source": [
    "import numpy as np\n",
    "import pandas as pd\n",
    "import matplotlib.pyplot as plt\n",
    "import seaborn as sns\n",
    "import statsmodels.formula.api as smf"
   ]
  },
  {
   "cell_type": "markdown",
   "metadata": {},
   "source": [
    "## 1 Heart Attack Prediction"
   ]
  },
  {
   "cell_type": "markdown",
   "metadata": {},
   "source": [
    "1.1"
   ]
  },
  {
   "cell_type": "code",
   "execution_count": 23,
   "metadata": {},
   "outputs": [
    {
     "data": {
      "text/html": [
       "<div>\n",
       "<style scoped>\n",
       "    .dataframe tbody tr th:only-of-type {\n",
       "        vertical-align: middle;\n",
       "    }\n",
       "\n",
       "    .dataframe tbody tr th {\n",
       "        vertical-align: top;\n",
       "    }\n",
       "\n",
       "    .dataframe thead th {\n",
       "        text-align: right;\n",
       "    }\n",
       "</style>\n",
       "<table border=\"1\" class=\"dataframe\">\n",
       "  <thead>\n",
       "    <tr style=\"text-align: right;\">\n",
       "      <th></th>\n",
       "      <th>age</th>\n",
       "      <th>sex</th>\n",
       "      <th>cp</th>\n",
       "      <th>trtbps</th>\n",
       "      <th>chol</th>\n",
       "      <th>fbs</th>\n",
       "      <th>restecg</th>\n",
       "      <th>thalachh</th>\n",
       "      <th>exng</th>\n",
       "      <th>oldpeak</th>\n",
       "      <th>slp</th>\n",
       "      <th>caa</th>\n",
       "      <th>thall</th>\n",
       "      <th>output</th>\n",
       "    </tr>\n",
       "  </thead>\n",
       "  <tbody>\n",
       "    <tr>\n",
       "      <th>0</th>\n",
       "      <td>63</td>\n",
       "      <td>1</td>\n",
       "      <td>3</td>\n",
       "      <td>145</td>\n",
       "      <td>233</td>\n",
       "      <td>1</td>\n",
       "      <td>0</td>\n",
       "      <td>150</td>\n",
       "      <td>0</td>\n",
       "      <td>2.3</td>\n",
       "      <td>0</td>\n",
       "      <td>0</td>\n",
       "      <td>1</td>\n",
       "      <td>1</td>\n",
       "    </tr>\n",
       "    <tr>\n",
       "      <th>1</th>\n",
       "      <td>37</td>\n",
       "      <td>1</td>\n",
       "      <td>2</td>\n",
       "      <td>130</td>\n",
       "      <td>250</td>\n",
       "      <td>0</td>\n",
       "      <td>1</td>\n",
       "      <td>187</td>\n",
       "      <td>0</td>\n",
       "      <td>3.5</td>\n",
       "      <td>0</td>\n",
       "      <td>0</td>\n",
       "      <td>2</td>\n",
       "      <td>1</td>\n",
       "    </tr>\n",
       "    <tr>\n",
       "      <th>2</th>\n",
       "      <td>41</td>\n",
       "      <td>0</td>\n",
       "      <td>1</td>\n",
       "      <td>130</td>\n",
       "      <td>204</td>\n",
       "      <td>0</td>\n",
       "      <td>0</td>\n",
       "      <td>172</td>\n",
       "      <td>0</td>\n",
       "      <td>1.4</td>\n",
       "      <td>2</td>\n",
       "      <td>0</td>\n",
       "      <td>2</td>\n",
       "      <td>1</td>\n",
       "    </tr>\n",
       "  </tbody>\n",
       "</table>\n",
       "</div>"
      ],
      "text/plain": [
       "   age  sex  cp  trtbps  chol  fbs  restecg  thalachh  exng  oldpeak  slp  \\\n",
       "0   63    1   3     145   233    1        0       150     0      2.3    0   \n",
       "1   37    1   2     130   250    0        1       187     0      3.5    0   \n",
       "2   41    0   1     130   204    0        0       172     0      1.4    2   \n",
       "\n",
       "   caa  thall  output  \n",
       "0    0      1       1  \n",
       "1    0      2       1  \n",
       "2    0      2       1  "
      ]
     },
     "execution_count": 23,
     "metadata": {},
     "output_type": "execute_result"
    }
   ],
   "source": [
    "heart = pd.read_csv(\"../data/heart.csv\")\n",
    "heart.head(3)"
   ]
  },
  {
   "cell_type": "code",
   "execution_count": 24,
   "metadata": {},
   "outputs": [],
   "source": [
    "# drop unwanted columns\n",
    "heart.drop([\"slp\", \"oldpeak\", \"thall\"], axis=1, inplace=True)"
   ]
  },
  {
   "cell_type": "code",
   "execution_count": 25,
   "metadata": {},
   "outputs": [
    {
     "data": {
      "text/plain": [
       "(303, 11)"
      ]
     },
     "execution_count": 25,
     "metadata": {},
     "output_type": "execute_result"
    }
   ],
   "source": [
    "# check the shape of heart\n",
    "heart.shape"
   ]
  },
  {
   "cell_type": "code",
   "execution_count": 26,
   "metadata": {},
   "outputs": [
    {
     "data": {
      "text/plain": [
       "age         0\n",
       "sex         0\n",
       "cp          0\n",
       "trtbps      0\n",
       "chol        0\n",
       "fbs         0\n",
       "restecg     0\n",
       "thalachh    0\n",
       "exng        0\n",
       "caa         0\n",
       "output      0\n",
       "dtype: int64"
      ]
     },
     "execution_count": 26,
     "metadata": {},
     "output_type": "execute_result"
    }
   ],
   "source": [
    "# check NAs in this csv file\n",
    "heart.isna().sum()"
   ]
  },
  {
   "cell_type": "code",
   "execution_count": 27,
   "metadata": {},
   "outputs": [
    {
     "data": {
      "text/html": [
       "<div>\n",
       "<style scoped>\n",
       "    .dataframe tbody tr th:only-of-type {\n",
       "        vertical-align: middle;\n",
       "    }\n",
       "\n",
       "    .dataframe tbody tr th {\n",
       "        vertical-align: top;\n",
       "    }\n",
       "\n",
       "    .dataframe thead th {\n",
       "        text-align: right;\n",
       "    }\n",
       "</style>\n",
       "<table border=\"1\" class=\"dataframe\">\n",
       "  <thead>\n",
       "    <tr style=\"text-align: right;\">\n",
       "      <th></th>\n",
       "      <th>age</th>\n",
       "      <th>sex</th>\n",
       "      <th>cp</th>\n",
       "      <th>trtbps</th>\n",
       "      <th>chol</th>\n",
       "      <th>fbs</th>\n",
       "      <th>restecg</th>\n",
       "      <th>thalachh</th>\n",
       "      <th>exng</th>\n",
       "      <th>caa</th>\n",
       "      <th>output</th>\n",
       "    </tr>\n",
       "  </thead>\n",
       "  <tbody>\n",
       "    <tr>\n",
       "      <th>count</th>\n",
       "      <td>303.000000</td>\n",
       "      <td>303.000000</td>\n",
       "      <td>303.000000</td>\n",
       "      <td>303.000000</td>\n",
       "      <td>303.000000</td>\n",
       "      <td>303.000000</td>\n",
       "      <td>303.000000</td>\n",
       "      <td>303.000000</td>\n",
       "      <td>303.000000</td>\n",
       "      <td>303.000000</td>\n",
       "      <td>303.000000</td>\n",
       "    </tr>\n",
       "    <tr>\n",
       "      <th>mean</th>\n",
       "      <td>54.366337</td>\n",
       "      <td>0.683168</td>\n",
       "      <td>0.966997</td>\n",
       "      <td>131.623762</td>\n",
       "      <td>246.264026</td>\n",
       "      <td>0.148515</td>\n",
       "      <td>0.528053</td>\n",
       "      <td>149.646865</td>\n",
       "      <td>0.326733</td>\n",
       "      <td>0.729373</td>\n",
       "      <td>0.544554</td>\n",
       "    </tr>\n",
       "    <tr>\n",
       "      <th>std</th>\n",
       "      <td>9.082101</td>\n",
       "      <td>0.466011</td>\n",
       "      <td>1.032052</td>\n",
       "      <td>17.538143</td>\n",
       "      <td>51.830751</td>\n",
       "      <td>0.356198</td>\n",
       "      <td>0.525860</td>\n",
       "      <td>22.905161</td>\n",
       "      <td>0.469794</td>\n",
       "      <td>1.022606</td>\n",
       "      <td>0.498835</td>\n",
       "    </tr>\n",
       "    <tr>\n",
       "      <th>min</th>\n",
       "      <td>29.000000</td>\n",
       "      <td>0.000000</td>\n",
       "      <td>0.000000</td>\n",
       "      <td>94.000000</td>\n",
       "      <td>126.000000</td>\n",
       "      <td>0.000000</td>\n",
       "      <td>0.000000</td>\n",
       "      <td>71.000000</td>\n",
       "      <td>0.000000</td>\n",
       "      <td>0.000000</td>\n",
       "      <td>0.000000</td>\n",
       "    </tr>\n",
       "    <tr>\n",
       "      <th>25%</th>\n",
       "      <td>47.500000</td>\n",
       "      <td>0.000000</td>\n",
       "      <td>0.000000</td>\n",
       "      <td>120.000000</td>\n",
       "      <td>211.000000</td>\n",
       "      <td>0.000000</td>\n",
       "      <td>0.000000</td>\n",
       "      <td>133.500000</td>\n",
       "      <td>0.000000</td>\n",
       "      <td>0.000000</td>\n",
       "      <td>0.000000</td>\n",
       "    </tr>\n",
       "    <tr>\n",
       "      <th>50%</th>\n",
       "      <td>55.000000</td>\n",
       "      <td>1.000000</td>\n",
       "      <td>1.000000</td>\n",
       "      <td>130.000000</td>\n",
       "      <td>240.000000</td>\n",
       "      <td>0.000000</td>\n",
       "      <td>1.000000</td>\n",
       "      <td>153.000000</td>\n",
       "      <td>0.000000</td>\n",
       "      <td>0.000000</td>\n",
       "      <td>1.000000</td>\n",
       "    </tr>\n",
       "    <tr>\n",
       "      <th>75%</th>\n",
       "      <td>61.000000</td>\n",
       "      <td>1.000000</td>\n",
       "      <td>2.000000</td>\n",
       "      <td>140.000000</td>\n",
       "      <td>274.500000</td>\n",
       "      <td>0.000000</td>\n",
       "      <td>1.000000</td>\n",
       "      <td>166.000000</td>\n",
       "      <td>1.000000</td>\n",
       "      <td>1.000000</td>\n",
       "      <td>1.000000</td>\n",
       "    </tr>\n",
       "    <tr>\n",
       "      <th>max</th>\n",
       "      <td>77.000000</td>\n",
       "      <td>1.000000</td>\n",
       "      <td>3.000000</td>\n",
       "      <td>200.000000</td>\n",
       "      <td>564.000000</td>\n",
       "      <td>1.000000</td>\n",
       "      <td>2.000000</td>\n",
       "      <td>202.000000</td>\n",
       "      <td>1.000000</td>\n",
       "      <td>4.000000</td>\n",
       "      <td>1.000000</td>\n",
       "    </tr>\n",
       "  </tbody>\n",
       "</table>\n",
       "</div>"
      ],
      "text/plain": [
       "              age         sex          cp      trtbps        chol         fbs  \\\n",
       "count  303.000000  303.000000  303.000000  303.000000  303.000000  303.000000   \n",
       "mean    54.366337    0.683168    0.966997  131.623762  246.264026    0.148515   \n",
       "std      9.082101    0.466011    1.032052   17.538143   51.830751    0.356198   \n",
       "min     29.000000    0.000000    0.000000   94.000000  126.000000    0.000000   \n",
       "25%     47.500000    0.000000    0.000000  120.000000  211.000000    0.000000   \n",
       "50%     55.000000    1.000000    1.000000  130.000000  240.000000    0.000000   \n",
       "75%     61.000000    1.000000    2.000000  140.000000  274.500000    0.000000   \n",
       "max     77.000000    1.000000    3.000000  200.000000  564.000000    1.000000   \n",
       "\n",
       "          restecg    thalachh        exng         caa      output  \n",
       "count  303.000000  303.000000  303.000000  303.000000  303.000000  \n",
       "mean     0.528053  149.646865    0.326733    0.729373    0.544554  \n",
       "std      0.525860   22.905161    0.469794    1.022606    0.498835  \n",
       "min      0.000000   71.000000    0.000000    0.000000    0.000000  \n",
       "25%      0.000000  133.500000    0.000000    0.000000    0.000000  \n",
       "50%      1.000000  153.000000    0.000000    0.000000    1.000000  \n",
       "75%      1.000000  166.000000    1.000000    1.000000    1.000000  \n",
       "max      2.000000  202.000000    1.000000    4.000000    1.000000  "
      ]
     },
     "execution_count": 27,
     "metadata": {},
     "output_type": "execute_result"
    }
   ],
   "source": [
    "# desriptive statistics\n",
    "heart.describe()"
   ]
  },
  {
   "cell_type": "markdown",
   "metadata": {},
   "source": [
    "1.2"
   ]
  },
  {
   "cell_type": "code",
   "execution_count": 28,
   "metadata": {},
   "outputs": [
    {
     "name": "stdout",
     "output_type": "stream",
     "text": [
      "Optimization terminated successfully.\n",
      "         Current function value: 0.355396\n",
      "         Iterations 7\n"
     ]
    }
   ],
   "source": [
    "# transform to categorical variable\n",
    "m = smf.logit('output ~ age+sex+C(cp)+trtbps+chol+fbs+C(restecg)+thalachh+exng+C(caa)', data=heart).fit()"
   ]
  },
  {
   "cell_type": "code",
   "execution_count": 29,
   "metadata": {},
   "outputs": [
    {
     "data": {
      "text/html": [
       "<table class=\"simpletable\">\n",
       "<caption>Logit Regression Results</caption>\n",
       "<tr>\n",
       "  <th>Dep. Variable:</th>        <td>output</td>      <th>  No. Observations:  </th>  <td>   303</td>  \n",
       "</tr>\n",
       "<tr>\n",
       "  <th>Model:</th>                 <td>Logit</td>      <th>  Df Residuals:      </th>  <td>   286</td>  \n",
       "</tr>\n",
       "<tr>\n",
       "  <th>Method:</th>                 <td>MLE</td>       <th>  Df Model:          </th>  <td>    16</td>  \n",
       "</tr>\n",
       "<tr>\n",
       "  <th>Date:</th>            <td>Mon, 07 Mar 2022</td> <th>  Pseudo R-squ.:     </th>  <td>0.4843</td>  \n",
       "</tr>\n",
       "<tr>\n",
       "  <th>Time:</th>                <td>17:23:29</td>     <th>  Log-Likelihood:    </th> <td> -107.69</td> \n",
       "</tr>\n",
       "<tr>\n",
       "  <th>converged:</th>             <td>True</td>       <th>  LL-Null:           </th> <td> -208.82</td> \n",
       "</tr>\n",
       "<tr>\n",
       "  <th>Covariance Type:</th>     <td>nonrobust</td>    <th>  LLR p-value:       </th> <td>2.759e-34</td>\n",
       "</tr>\n",
       "</table>\n",
       "<table class=\"simpletable\">\n",
       "<tr>\n",
       "         <td></td>            <th>coef</th>     <th>std err</th>      <th>z</th>      <th>P>|z|</th>  <th>[0.025</th>    <th>0.975]</th>  \n",
       "</tr>\n",
       "<tr>\n",
       "  <th>Intercept</th>       <td>    0.4035</td> <td>    2.469</td> <td>    0.163</td> <td> 0.870</td> <td>   -4.435</td> <td>    5.242</td>\n",
       "</tr>\n",
       "<tr>\n",
       "  <th>C(cp)[T.1]</th>      <td>    1.5343</td> <td>    0.543</td> <td>    2.827</td> <td> 0.005</td> <td>    0.470</td> <td>    2.598</td>\n",
       "</tr>\n",
       "<tr>\n",
       "  <th>C(cp)[T.2]</th>      <td>    1.6907</td> <td>    0.441</td> <td>    3.838</td> <td> 0.000</td> <td>    0.827</td> <td>    2.554</td>\n",
       "</tr>\n",
       "<tr>\n",
       "  <th>C(cp)[T.3]</th>      <td>    1.8970</td> <td>    0.667</td> <td>    2.843</td> <td> 0.004</td> <td>    0.589</td> <td>    3.205</td>\n",
       "</tr>\n",
       "<tr>\n",
       "  <th>C(restecg)[T.1]</th> <td>    0.4206</td> <td>    0.361</td> <td>    1.165</td> <td> 0.244</td> <td>   -0.287</td> <td>    1.128</td>\n",
       "</tr>\n",
       "<tr>\n",
       "  <th>C(restecg)[T.2]</th> <td>   -0.9518</td> <td>    2.118</td> <td>   -0.449</td> <td> 0.653</td> <td>   -5.103</td> <td>    3.199</td>\n",
       "</tr>\n",
       "<tr>\n",
       "  <th>C(caa)[T.1]</th>     <td>   -1.8571</td> <td>    0.458</td> <td>   -4.052</td> <td> 0.000</td> <td>   -2.756</td> <td>   -0.959</td>\n",
       "</tr>\n",
       "<tr>\n",
       "  <th>C(caa)[T.2]</th>     <td>   -3.0485</td> <td>    0.647</td> <td>   -4.712</td> <td> 0.000</td> <td>   -4.317</td> <td>   -1.780</td>\n",
       "</tr>\n",
       "<tr>\n",
       "  <th>C(caa)[T.3]</th>     <td>   -2.3741</td> <td>    0.783</td> <td>   -3.032</td> <td> 0.002</td> <td>   -3.908</td> <td>   -0.840</td>\n",
       "</tr>\n",
       "<tr>\n",
       "  <th>C(caa)[T.4]</th>     <td>    0.4676</td> <td>    1.586</td> <td>    0.295</td> <td> 0.768</td> <td>   -2.642</td> <td>    3.577</td>\n",
       "</tr>\n",
       "<tr>\n",
       "  <th>age</th>             <td>    0.0237</td> <td>    0.024</td> <td>    0.992</td> <td> 0.321</td> <td>   -0.023</td> <td>    0.070</td>\n",
       "</tr>\n",
       "<tr>\n",
       "  <th>sex</th>             <td>   -2.1367</td> <td>    0.457</td> <td>   -4.671</td> <td> 0.000</td> <td>   -3.033</td> <td>   -1.240</td>\n",
       "</tr>\n",
       "<tr>\n",
       "  <th>trtbps</th>          <td>   -0.0285</td> <td>    0.011</td> <td>   -2.656</td> <td> 0.008</td> <td>   -0.050</td> <td>   -0.007</td>\n",
       "</tr>\n",
       "<tr>\n",
       "  <th>chol</th>            <td>   -0.0061</td> <td>    0.004</td> <td>   -1.524</td> <td> 0.128</td> <td>   -0.014</td> <td>    0.002</td>\n",
       "</tr>\n",
       "<tr>\n",
       "  <th>fbs</th>             <td>    0.4437</td> <td>    0.501</td> <td>    0.886</td> <td> 0.375</td> <td>   -0.537</td> <td>    1.425</td>\n",
       "</tr>\n",
       "<tr>\n",
       "  <th>thalachh</th>        <td>    0.0357</td> <td>    0.011</td> <td>    3.391</td> <td> 0.001</td> <td>    0.015</td> <td>    0.056</td>\n",
       "</tr>\n",
       "<tr>\n",
       "  <th>exng</th>            <td>   -1.1615</td> <td>    0.418</td> <td>   -2.781</td> <td> 0.005</td> <td>   -1.980</td> <td>   -0.343</td>\n",
       "</tr>\n",
       "</table>"
      ],
      "text/plain": [
       "<class 'statsmodels.iolib.summary.Summary'>\n",
       "\"\"\"\n",
       "                           Logit Regression Results                           \n",
       "==============================================================================\n",
       "Dep. Variable:                 output   No. Observations:                  303\n",
       "Model:                          Logit   Df Residuals:                      286\n",
       "Method:                           MLE   Df Model:                           16\n",
       "Date:                Mon, 07 Mar 2022   Pseudo R-squ.:                  0.4843\n",
       "Time:                        17:23:29   Log-Likelihood:                -107.69\n",
       "converged:                       True   LL-Null:                       -208.82\n",
       "Covariance Type:            nonrobust   LLR p-value:                 2.759e-34\n",
       "===================================================================================\n",
       "                      coef    std err          z      P>|z|      [0.025      0.975]\n",
       "-----------------------------------------------------------------------------------\n",
       "Intercept           0.4035      2.469      0.163      0.870      -4.435       5.242\n",
       "C(cp)[T.1]          1.5343      0.543      2.827      0.005       0.470       2.598\n",
       "C(cp)[T.2]          1.6907      0.441      3.838      0.000       0.827       2.554\n",
       "C(cp)[T.3]          1.8970      0.667      2.843      0.004       0.589       3.205\n",
       "C(restecg)[T.1]     0.4206      0.361      1.165      0.244      -0.287       1.128\n",
       "C(restecg)[T.2]    -0.9518      2.118     -0.449      0.653      -5.103       3.199\n",
       "C(caa)[T.1]        -1.8571      0.458     -4.052      0.000      -2.756      -0.959\n",
       "C(caa)[T.2]        -3.0485      0.647     -4.712      0.000      -4.317      -1.780\n",
       "C(caa)[T.3]        -2.3741      0.783     -3.032      0.002      -3.908      -0.840\n",
       "C(caa)[T.4]         0.4676      1.586      0.295      0.768      -2.642       3.577\n",
       "age                 0.0237      0.024      0.992      0.321      -0.023       0.070\n",
       "sex                -2.1367      0.457     -4.671      0.000      -3.033      -1.240\n",
       "trtbps             -0.0285      0.011     -2.656      0.008      -0.050      -0.007\n",
       "chol               -0.0061      0.004     -1.524      0.128      -0.014       0.002\n",
       "fbs                 0.4437      0.501      0.886      0.375      -0.537       1.425\n",
       "thalachh            0.0357      0.011      3.391      0.001       0.015       0.056\n",
       "exng               -1.1615      0.418     -2.781      0.005      -1.980      -0.343\n",
       "===================================================================================\n",
       "\"\"\""
      ]
     },
     "execution_count": 29,
     "metadata": {},
     "output_type": "execute_result"
    }
   ],
   "source": [
    "m.summary()"
   ]
  },
  {
   "cell_type": "code",
   "execution_count": 30,
   "metadata": {},
   "outputs": [
    {
     "data": {
      "text/html": [
       "<table class=\"simpletable\">\n",
       "<caption>Logit Marginal Effects</caption>\n",
       "<tr>\n",
       "  <th>Dep. Variable:</th> <td>output</td> \n",
       "</tr>\n",
       "<tr>\n",
       "  <th>Method:</th>         <td>dydx</td>  \n",
       "</tr>\n",
       "<tr>\n",
       "  <th>At:</th>            <td>overall</td>\n",
       "</tr>\n",
       "</table>\n",
       "<table class=\"simpletable\">\n",
       "<tr>\n",
       "         <th></th>            <th>dy/dx</th>    <th>std err</th>      <th>z</th>      <th>P>|z|</th>  <th>[0.025</th>    <th>0.975]</th>  \n",
       "</tr>\n",
       "<tr>\n",
       "  <th>C(cp)[T.1]</th>      <td>    0.1716</td> <td>    0.058</td> <td>    2.975</td> <td> 0.003</td> <td>    0.059</td> <td>    0.285</td>\n",
       "</tr>\n",
       "<tr>\n",
       "  <th>C(cp)[T.2]</th>      <td>    0.1891</td> <td>    0.045</td> <td>    4.234</td> <td> 0.000</td> <td>    0.102</td> <td>    0.277</td>\n",
       "</tr>\n",
       "<tr>\n",
       "  <th>C(cp)[T.3]</th>      <td>    0.2122</td> <td>    0.071</td> <td>    2.986</td> <td> 0.003</td> <td>    0.073</td> <td>    0.351</td>\n",
       "</tr>\n",
       "<tr>\n",
       "  <th>C(restecg)[T.1]</th> <td>    0.0470</td> <td>    0.040</td> <td>    1.173</td> <td> 0.241</td> <td>   -0.032</td> <td>    0.126</td>\n",
       "</tr>\n",
       "<tr>\n",
       "  <th>C(restecg)[T.2]</th> <td>   -0.1065</td> <td>    0.237</td> <td>   -0.450</td> <td> 0.653</td> <td>   -0.570</td> <td>    0.358</td>\n",
       "</tr>\n",
       "<tr>\n",
       "  <th>C(caa)[T.1]</th>     <td>   -0.2077</td> <td>    0.046</td> <td>   -4.532</td> <td> 0.000</td> <td>   -0.298</td> <td>   -0.118</td>\n",
       "</tr>\n",
       "<tr>\n",
       "  <th>C(caa)[T.2]</th>     <td>   -0.3410</td> <td>    0.062</td> <td>   -5.515</td> <td> 0.000</td> <td>   -0.462</td> <td>   -0.220</td>\n",
       "</tr>\n",
       "<tr>\n",
       "  <th>C(caa)[T.3]</th>     <td>   -0.2655</td> <td>    0.082</td> <td>   -3.241</td> <td> 0.001</td> <td>   -0.426</td> <td>   -0.105</td>\n",
       "</tr>\n",
       "<tr>\n",
       "  <th>C(caa)[T.4]</th>     <td>    0.0523</td> <td>    0.177</td> <td>    0.295</td> <td> 0.768</td> <td>   -0.295</td> <td>    0.400</td>\n",
       "</tr>\n",
       "<tr>\n",
       "  <th>age</th>             <td>    0.0026</td> <td>    0.003</td> <td>    0.998</td> <td> 0.318</td> <td>   -0.003</td> <td>    0.008</td>\n",
       "</tr>\n",
       "<tr>\n",
       "  <th>sex</th>             <td>   -0.2390</td> <td>    0.045</td> <td>   -5.331</td> <td> 0.000</td> <td>   -0.327</td> <td>   -0.151</td>\n",
       "</tr>\n",
       "<tr>\n",
       "  <th>trtbps</th>          <td>   -0.0032</td> <td>    0.001</td> <td>   -2.776</td> <td> 0.006</td> <td>   -0.005</td> <td>   -0.001</td>\n",
       "</tr>\n",
       "<tr>\n",
       "  <th>chol</th>            <td>   -0.0007</td> <td>    0.000</td> <td>   -1.539</td> <td> 0.124</td> <td>   -0.002</td> <td>    0.000</td>\n",
       "</tr>\n",
       "<tr>\n",
       "  <th>fbs</th>             <td>    0.0496</td> <td>    0.056</td> <td>    0.890</td> <td> 0.374</td> <td>   -0.060</td> <td>    0.159</td>\n",
       "</tr>\n",
       "<tr>\n",
       "  <th>thalachh</th>        <td>    0.0040</td> <td>    0.001</td> <td>    3.628</td> <td> 0.000</td> <td>    0.002</td> <td>    0.006</td>\n",
       "</tr>\n",
       "<tr>\n",
       "  <th>exng</th>            <td>   -0.1299</td> <td>    0.045</td> <td>   -2.912</td> <td> 0.004</td> <td>   -0.217</td> <td>   -0.042</td>\n",
       "</tr>\n",
       "</table>"
      ],
      "text/plain": [
       "<class 'statsmodels.iolib.summary.Summary'>\n",
       "\"\"\"\n",
       "        Logit Marginal Effects       \n",
       "=====================================\n",
       "Dep. Variable:                 output\n",
       "Method:                          dydx\n",
       "At:                           overall\n",
       "===================================================================================\n",
       "                     dy/dx    std err          z      P>|z|      [0.025      0.975]\n",
       "-----------------------------------------------------------------------------------\n",
       "C(cp)[T.1]          0.1716      0.058      2.975      0.003       0.059       0.285\n",
       "C(cp)[T.2]          0.1891      0.045      4.234      0.000       0.102       0.277\n",
       "C(cp)[T.3]          0.2122      0.071      2.986      0.003       0.073       0.351\n",
       "C(restecg)[T.1]     0.0470      0.040      1.173      0.241      -0.032       0.126\n",
       "C(restecg)[T.2]    -0.1065      0.237     -0.450      0.653      -0.570       0.358\n",
       "C(caa)[T.1]        -0.2077      0.046     -4.532      0.000      -0.298      -0.118\n",
       "C(caa)[T.2]        -0.3410      0.062     -5.515      0.000      -0.462      -0.220\n",
       "C(caa)[T.3]        -0.2655      0.082     -3.241      0.001      -0.426      -0.105\n",
       "C(caa)[T.4]         0.0523      0.177      0.295      0.768      -0.295       0.400\n",
       "age                 0.0026      0.003      0.998      0.318      -0.003       0.008\n",
       "sex                -0.2390      0.045     -5.331      0.000      -0.327      -0.151\n",
       "trtbps             -0.0032      0.001     -2.776      0.006      -0.005      -0.001\n",
       "chol               -0.0007      0.000     -1.539      0.124      -0.002       0.000\n",
       "fbs                 0.0496      0.056      0.890      0.374      -0.060       0.159\n",
       "thalachh            0.0040      0.001      3.628      0.000       0.002       0.006\n",
       "exng               -0.1299      0.045     -2.912      0.004      -0.217      -0.042\n",
       "===================================================================================\n",
       "\"\"\""
      ]
     },
     "execution_count": 30,
     "metadata": {},
     "output_type": "execute_result"
    }
   ],
   "source": [
    "m.get_margeff().summary()"
   ]
  },
  {
   "cell_type": "markdown",
   "metadata": {},
   "source": [
    "(a): males have 23.90 pct points larger chance to get heart attack, compared to females, if their other characteristics are the same. It is statistically significant since the p-value is 0\n",
    "\n",
    "(b): comparing with patient who has typical angina chest pain, patient who has atypical angina have 17.16 pct point higher chance of getting the heart attack;this is statistically significant since the p value is very low (0.003). Just like that, patient who has non-anginal pain has 18.91 pct point higher chance of getting the heart attack; this is statistically significant since the p value is very low (0). Patient who has asymptomatic pain has 21.22 pct point higher chance of getting a heart attack; it is also statistically significant since the p value is very low (0.003) \n",
    "\n",
    "(c): when there is 1 unit increase on age, the probability of getting heart attack increase 0.26 pct point. it is not staticsally significant since the p value is very large (0.318)\n",
    "\n",
    "*(d): \n",
    "- SS. stands for statistical significance\n",
    "     \n",
    "| Variable    | SS.         |Intuitive|\n",
    "| ----------- | ----------- |----------|\n",
    "| restecg - Value2   | No        |No|\n",
    "| chol   | No        |No|\n",
    "| exng   | Yes        |No|\n",
    "| caa - 0   | Yes        |No|\n",
    "| caa - 1   | Yes        |No|\n",
    "| caa - 2   | Yes        |No|\n",
    "| sex   | Yes        |No|\n",
    "| trtbps   | Yes        |No|\n",
    "\n",
    "Why:\n",
    "restecg - Value2 - It doesn't make sense that people who have ST-T wave abnormality, the probability of gettiing heart attack is decreasing\n",
    "\n",
    "Sex - It doesn't make sense that one gender is more likely to get heart attack than the other\n",
    "\n",
    "trtbps - It doesn't make sense that someone with higher blood pressure has a lower chance of getting a heart attack\n",
    "\n",
    "chol - It doesn't make sense that people with higher cholesterol level has a lower chance of getting a heart attack\n",
    "\n",
    "exng - It doesn't make sense that exercise induced angina will lower the chance of gettint a heart attack\n",
    "\n",
    "caa(0,1,2,3) - I believe that it is not intuitive since more major vessels should better preventing heart attacks, and people with few vessels should be more likely to get heart attacks"
   ]
  },
  {
   "cell_type": "markdown",
   "metadata": {},
   "source": [
    "1.3"
   ]
  },
  {
   "cell_type": "code",
   "execution_count": 31,
   "metadata": {},
   "outputs": [],
   "source": [
    "from sklearn.linear_model import LogisticRegression\n",
    "from sklearn.model_selection import train_test_split\n",
    "from sklearn.metrics import accuracy_score"
   ]
  },
  {
   "cell_type": "code",
   "execution_count": 32,
   "metadata": {},
   "outputs": [],
   "source": [
    "var = heart.drop(['output'], axis=1)\n",
    "X = pd.get_dummies(var, drop_first = True, columns = ['cp', 'restecg', 'caa'])\n",
    "y = heart['output']"
   ]
  },
  {
   "cell_type": "code",
   "execution_count": 33,
   "metadata": {},
   "outputs": [],
   "source": [
    "logistic = LogisticRegression(penalty='none', solver='newton-cg').fit(X,y)"
   ]
  },
  {
   "cell_type": "code",
   "execution_count": 34,
   "metadata": {},
   "outputs": [
    {
     "data": {
      "text/plain": [
       "array([[ 0.02366493, -2.13671462, -0.02850622, -0.00606629,  0.44373721,\n",
       "         0.03574632, -1.16147349,  1.534265  ,  1.69073286,  1.89700888,\n",
       "         0.42062829, -0.9517973 , -1.8571451 , -3.0484795 , -2.37405273,\n",
       "         0.46760006]])"
      ]
     },
     "execution_count": 34,
     "metadata": {},
     "output_type": "execute_result"
    }
   ],
   "source": [
    "# coefficient\n",
    "logistic.coef_"
   ]
  },
  {
   "cell_type": "code",
   "execution_count": 35,
   "metadata": {},
   "outputs": [
    {
     "data": {
      "text/plain": [
       "array([0.4034782])"
      ]
     },
     "execution_count": 35,
     "metadata": {},
     "output_type": "execute_result"
    }
   ],
   "source": [
    "# intercept\n",
    "logistic.intercept_"
   ]
  },
  {
   "cell_type": "markdown",
   "metadata": {},
   "source": [
    "I get the same intercept and coefficients as what I got from the statsmodel package"
   ]
  },
  {
   "cell_type": "markdown",
   "metadata": {},
   "source": [
    "1.4"
   ]
  },
  {
   "cell_type": "markdown",
   "metadata": {},
   "source": [
    "1.41"
   ]
  },
  {
   "cell_type": "code",
   "execution_count": 36,
   "metadata": {},
   "outputs": [
    {
     "data": {
      "text/plain": [
       "array([[0.12858798, 0.87141202],\n",
       "       [0.06204112, 0.93795888],\n",
       "       [0.01609467, 0.98390533],\n",
       "       [0.0449013 , 0.9550987 ],\n",
       "       [0.21926213, 0.78073787],\n",
       "       [0.4573165 , 0.5426835 ],\n",
       "       [0.04936884, 0.95063116],\n",
       "       [0.08085049, 0.91914951],\n",
       "       [0.15019385, 0.84980615],\n",
       "       [0.06587713, 0.93412287]])"
      ]
     },
     "execution_count": 36,
     "metadata": {},
     "output_type": "execute_result"
    }
   ],
   "source": [
    "# probability of having heart attacks \n",
    "train_pred = logistic.predict_proba(X)\n",
    "train_pred[:10]"
   ]
  },
  {
   "cell_type": "markdown",
   "metadata": {},
   "source": [
    "1. first column: $P(output=0|X)$\n",
    "2. second column: $P(output=1|X)$"
   ]
  },
  {
   "cell_type": "code",
   "execution_count": 37,
   "metadata": {},
   "outputs": [
    {
     "data": {
      "text/plain": [
       "array([0.87141202, 0.93795888, 0.98390533, 0.9550987 , 0.78073787,\n",
       "       0.5426835 , 0.95063116, 0.91914951, 0.84980615, 0.93412287])"
      ]
     },
     "execution_count": 37,
     "metadata": {},
     "output_type": "execute_result"
    }
   ],
   "source": [
    "# take out the second column, which are the probabilities of output=1.\n",
    "train_predict = train_pred[:,1]\n",
    "# select the first 10 probabilities \n",
    "train_predict[:10]"
   ]
  },
  {
   "cell_type": "markdown",
   "metadata": {},
   "source": [
    "1.42"
   ]
  },
  {
   "cell_type": "code",
   "execution_count": 38,
   "metadata": {},
   "outputs": [
    {
     "data": {
      "text/plain": [
       "array([1, 1, 1, 1, 1, 1, 1, 1, 1, 1])"
      ]
     },
     "execution_count": 38,
     "metadata": {},
     "output_type": "execute_result"
    }
   ],
   "source": [
    "## directly predict the labels for wherher or not the person will have a heart attack: either 1 or 0.\n",
    "labels = logistic.predict(X)\n",
    "labels[:10]"
   ]
  },
  {
   "cell_type": "markdown",
   "metadata": {},
   "source": [
    "1.43"
   ]
  },
  {
   "cell_type": "code",
   "execution_count": 41,
   "metadata": {},
   "outputs": [
    {
     "data": {
      "text/plain": [
       "array([1., 1., 1., 1., 1., 1., 1., 1., 1., 1., 1., 1., 1., 1., 1., 1., 1.,\n",
       "       1., 1., 1., 1., 1., 1., 1., 1., 1., 1., 1., 1., 1., 1., 1., 1., 0.,\n",
       "       0., 1., 1., 1., 1., 1., 1., 1., 0., 1., 1., 1., 1., 1., 1., 1., 1.,\n",
       "       0., 0., 1., 1., 1., 1., 1., 1., 1., 1., 1., 1., 1., 1., 1., 1., 1.,\n",
       "       1., 1., 1., 1., 1., 0., 1., 1., 1., 1., 1., 1., 1., 1., 1., 1., 1.,\n",
       "       1., 1., 1., 1., 1., 1., 0., 1., 1., 1., 0., 1., 0., 0., 1., 0., 1.,\n",
       "       1., 1., 1., 1., 0., 1., 1., 1., 0., 1., 1., 1., 1., 1., 1., 1., 1.,\n",
       "       1., 0., 1., 1., 1., 1., 1., 1., 1., 1., 0., 1., 1., 1., 1., 1., 1.,\n",
       "       1., 1., 0., 0., 1., 1., 1., 1., 1., 1., 1., 1., 1., 1., 0., 1., 1.,\n",
       "       1., 1., 1., 1., 1., 1., 1., 1., 1., 1., 1., 1., 0., 0., 0., 0., 0.,\n",
       "       0., 1., 1., 0., 0., 0., 0., 1., 0., 0., 0., 0., 1., 1., 0., 0., 0.,\n",
       "       0., 1., 1., 1., 0., 0., 0., 1., 0., 1., 0., 0., 0., 0., 0., 0., 0.,\n",
       "       0., 0., 0., 0., 0., 0., 0., 0., 0., 0., 0., 0., 1., 0., 0., 0., 0.,\n",
       "       0., 1., 0., 0., 0., 0., 0., 1., 0., 1., 0., 0., 0., 0., 0., 0., 0.,\n",
       "       0., 0., 0., 0., 0., 0., 0., 1., 0., 0., 0., 0., 0., 0., 0., 0., 0.,\n",
       "       0., 0., 0., 1., 1., 0., 0., 0., 0., 0., 0., 0., 0., 0., 0., 0., 0.,\n",
       "       0., 0., 0., 0., 0., 1., 1., 0., 0., 0., 1., 1., 0., 0., 0., 0., 0.,\n",
       "       0., 0., 0., 0., 1., 0., 0., 1., 0., 0., 1., 0., 0., 1.])"
      ]
     },
     "execution_count": 41,
     "metadata": {},
     "output_type": "execute_result"
    }
   ],
   "source": [
    "# set up a threshold\n",
    "threshold = 0.5\n",
    "\n",
    "# compare probabilities of y=1 with the threshold:\n",
    "# if probability > threshold, predict y=1\n",
    "# if probability <= threshold, predict y=0\n",
    "\n",
    "1.0*(train_predict>threshold)"
   ]
  },
  {
   "cell_type": "markdown",
   "metadata": {},
   "source": [
    "1.5"
   ]
  },
  {
   "cell_type": "code",
   "execution_count": 42,
   "metadata": {},
   "outputs": [
    {
     "data": {
      "text/plain": [
       "0.858085808580858"
      ]
     },
     "execution_count": 42,
     "metadata": {},
     "output_type": "execute_result"
    }
   ],
   "source": [
    "# accuracy socre\n",
    "accuracy_score(labels,y)"
   ]
  },
  {
   "cell_type": "markdown",
   "metadata": {},
   "source": [
    "About 85% of the predicted labels match with the true labels on the this training set. I'm comfortable enough to depoly this model to the real life since the accuracy score 0.85 is pretty high for predictions"
   ]
  },
  {
   "cell_type": "markdown",
   "metadata": {},
   "source": [
    "1.6"
   ]
  },
  {
   "cell_type": "code",
   "execution_count": 43,
   "metadata": {},
   "outputs": [],
   "source": [
    "# create a confusion matrix\n",
    "from sklearn.metrics import confusion_matrix\n",
    "from sklearn.metrics import precision_score\n",
    "from sklearn.metrics import recall_score"
   ]
  },
  {
   "cell_type": "code",
   "execution_count": 44,
   "metadata": {},
   "outputs": [
    {
     "data": {
      "text/plain": [
       "array([[113,  25],\n",
       "       [ 18, 147]])"
      ]
     },
     "execution_count": 44,
     "metadata": {},
     "output_type": "execute_result"
    }
   ],
   "source": [
    "yhat = logistic.predict(X)\n",
    "cm = confusion_matrix(y, yhat)\n",
    "cm"
   ]
  },
  {
   "cell_type": "code",
   "execution_count": 45,
   "metadata": {},
   "outputs": [
    {
     "data": {
      "text/plain": [
       "0.858085808580858"
      ]
     },
     "execution_count": 45,
     "metadata": {},
     "output_type": "execute_result"
    }
   ],
   "source": [
    "# accuracy_score\n",
    "accuracy_score(y, yhat)"
   ]
  },
  {
   "cell_type": "code",
   "execution_count": 46,
   "metadata": {},
   "outputs": [
    {
     "data": {
      "text/plain": [
       "0.8546511627906976"
      ]
     },
     "execution_count": 46,
     "metadata": {},
     "output_type": "execute_result"
    }
   ],
   "source": [
    "# precision_score\n",
    "precision_score(y, yhat)"
   ]
  },
  {
   "cell_type": "code",
   "execution_count": 47,
   "metadata": {},
   "outputs": [
    {
     "data": {
      "text/plain": [
       "0.8909090909090909"
      ]
     },
     "execution_count": 47,
     "metadata": {},
     "output_type": "execute_result"
    }
   ],
   "source": [
    "# recall_score\n",
    "recall_score(y, yhat)"
   ]
  },
  {
   "cell_type": "markdown",
   "metadata": {},
   "source": [
    "## 2  Airbnb Price Prediction"
   ]
  },
  {
   "cell_type": "markdown",
   "metadata": {},
   "source": [
    "**2.1**"
   ]
  },
  {
   "cell_type": "code",
   "execution_count": 48,
   "metadata": {},
   "outputs": [
    {
     "data": {
      "text/html": [
       "<div>\n",
       "<style scoped>\n",
       "    .dataframe tbody tr th:only-of-type {\n",
       "        vertical-align: middle;\n",
       "    }\n",
       "\n",
       "    .dataframe tbody tr th {\n",
       "        vertical-align: top;\n",
       "    }\n",
       "\n",
       "    .dataframe thead th {\n",
       "        text-align: right;\n",
       "    }\n",
       "</style>\n",
       "<table border=\"1\" class=\"dataframe\">\n",
       "  <thead>\n",
       "    <tr style=\"text-align: right;\">\n",
       "      <th></th>\n",
       "      <th>host_is_superhost</th>\n",
       "      <th>room_type</th>\n",
       "      <th>accommodates</th>\n",
       "      <th>bathrooms</th>\n",
       "      <th>bedrooms</th>\n",
       "      <th>price</th>\n",
       "    </tr>\n",
       "  </thead>\n",
       "  <tbody>\n",
       "    <tr>\n",
       "      <th>0</th>\n",
       "      <td>f</td>\n",
       "      <td>Entire home/apt</td>\n",
       "      <td>9</td>\n",
       "      <td>2.0</td>\n",
       "      <td>3.0</td>\n",
       "      <td>$831.00</td>\n",
       "    </tr>\n",
       "    <tr>\n",
       "      <th>1</th>\n",
       "      <td>f</td>\n",
       "      <td>Private room</td>\n",
       "      <td>2</td>\n",
       "      <td>1.0</td>\n",
       "      <td>1.0</td>\n",
       "      <td>$1,197.00</td>\n",
       "    </tr>\n",
       "    <tr>\n",
       "      <th>2</th>\n",
       "      <td>t</td>\n",
       "      <td>Entire home/apt</td>\n",
       "      <td>2</td>\n",
       "      <td>1.0</td>\n",
       "      <td>1.0</td>\n",
       "      <td>$598.00</td>\n",
       "    </tr>\n",
       "  </tbody>\n",
       "</table>\n",
       "</div>"
      ],
      "text/plain": [
       "  host_is_superhost        room_type  accommodates  bathrooms  bedrooms  \\\n",
       "0                 f  Entire home/apt             9        2.0       3.0   \n",
       "1                 f     Private room             2        1.0       1.0   \n",
       "2                 t  Entire home/apt             2        1.0       1.0   \n",
       "\n",
       "       price  \n",
       "0    $831.00  \n",
       "1  $1,197.00  \n",
       "2    $598.00  "
      ]
     },
     "execution_count": 48,
     "metadata": {},
     "output_type": "execute_result"
    }
   ],
   "source": [
    "airbnb = pd.read_csv(\"../data/airbnb-beijing-listings.csv.bz2\", sep=\",\", \\\n",
    "                     usecols=['price', 'bedrooms', 'room_type', 'accommodates', 'bathrooms','host_is_superhost'])\n",
    "airbnb.head(3)"
   ]
  },
  {
   "cell_type": "code",
   "execution_count": 49,
   "metadata": {},
   "outputs": [],
   "source": [
    "airbnb['price'] = airbnb['price'].replace({'\\$':'' , ',':''}, regex=True)\n",
    "airbnb.price = airbnb.price.astype(float)"
   ]
  },
  {
   "cell_type": "code",
   "execution_count": 50,
   "metadata": {},
   "outputs": [
    {
     "data": {
      "text/plain": [
       "host_is_superhost     72\n",
       "room_type              0\n",
       "accommodates           0\n",
       "bathrooms              7\n",
       "bedrooms             114\n",
       "price                  0\n",
       "dtype: int64"
      ]
     },
     "execution_count": 50,
     "metadata": {},
     "output_type": "execute_result"
    }
   ],
   "source": [
    "airbnb.isna().sum()"
   ]
  },
  {
   "cell_type": "code",
   "execution_count": 51,
   "metadata": {},
   "outputs": [],
   "source": [
    "airbnb = airbnb.dropna()"
   ]
  },
  {
   "cell_type": "code",
   "execution_count": 52,
   "metadata": {},
   "outputs": [
    {
     "data": {
      "text/plain": [
       "host_is_superhost    0\n",
       "room_type            0\n",
       "accommodates         0\n",
       "bathrooms            0\n",
       "bedrooms             0\n",
       "price                0\n",
       "dtype: int64"
      ]
     },
     "execution_count": 52,
     "metadata": {},
     "output_type": "execute_result"
    }
   ],
   "source": [
    "airbnb.isna().sum()"
   ]
  },
  {
   "cell_type": "code",
   "execution_count": 53,
   "metadata": {},
   "outputs": [
    {
     "data": {
      "text/plain": [
       "(38614, 6)"
      ]
     },
     "execution_count": 53,
     "metadata": {},
     "output_type": "execute_result"
    }
   ],
   "source": [
    "# filter out airbnbs where price is 0 \n",
    "airbnb_cleaned = airbnb[airbnb['price'] !=0]\n",
    "airbnb_cleaned.shape"
   ]
  },
  {
   "cell_type": "code",
   "execution_count": 54,
   "metadata": {},
   "outputs": [
    {
     "data": {
      "text/html": [
       "<div>\n",
       "<style scoped>\n",
       "    .dataframe tbody tr th:only-of-type {\n",
       "        vertical-align: middle;\n",
       "    }\n",
       "\n",
       "    .dataframe tbody tr th {\n",
       "        vertical-align: top;\n",
       "    }\n",
       "\n",
       "    .dataframe thead th {\n",
       "        text-align: right;\n",
       "    }\n",
       "</style>\n",
       "<table border=\"1\" class=\"dataframe\">\n",
       "  <thead>\n",
       "    <tr style=\"text-align: right;\">\n",
       "      <th></th>\n",
       "      <th>host_is_superhost</th>\n",
       "      <th>room_type</th>\n",
       "      <th>accommodates</th>\n",
       "      <th>bathrooms</th>\n",
       "      <th>bedrooms</th>\n",
       "      <th>price</th>\n",
       "      <th>bedroom_catgory</th>\n",
       "    </tr>\n",
       "  </thead>\n",
       "  <tbody>\n",
       "    <tr>\n",
       "      <th>0</th>\n",
       "      <td>f</td>\n",
       "      <td>Entire home/apt</td>\n",
       "      <td>9</td>\n",
       "      <td>2.0</td>\n",
       "      <td>3.0</td>\n",
       "      <td>831.0</td>\n",
       "      <td>3</td>\n",
       "    </tr>\n",
       "    <tr>\n",
       "      <th>1</th>\n",
       "      <td>f</td>\n",
       "      <td>Private room</td>\n",
       "      <td>2</td>\n",
       "      <td>1.0</td>\n",
       "      <td>1.0</td>\n",
       "      <td>1197.0</td>\n",
       "      <td>1</td>\n",
       "    </tr>\n",
       "    <tr>\n",
       "      <th>2</th>\n",
       "      <td>t</td>\n",
       "      <td>Entire home/apt</td>\n",
       "      <td>2</td>\n",
       "      <td>1.0</td>\n",
       "      <td>1.0</td>\n",
       "      <td>598.0</td>\n",
       "      <td>1</td>\n",
       "    </tr>\n",
       "  </tbody>\n",
       "</table>\n",
       "</div>"
      ],
      "text/plain": [
       "  host_is_superhost        room_type  accommodates  bathrooms  bedrooms  \\\n",
       "0                 f  Entire home/apt             9        2.0       3.0   \n",
       "1                 f     Private room             2        1.0       1.0   \n",
       "2                 t  Entire home/apt             2        1.0       1.0   \n",
       "\n",
       "    price bedroom_catgory  \n",
       "0   831.0               3  \n",
       "1  1197.0               1  \n",
       "2   598.0               1  "
      ]
     },
     "execution_count": 54,
     "metadata": {},
     "output_type": "execute_result"
    }
   ],
   "source": [
    "airbnb_cleaned_copy = airbnb_cleaned.copy()\n",
    "airbnb_cleaned_copy['bedroom_catgory'] = pd.cut(airbnb_cleaned_copy.bedrooms, \n",
    "                                               bins = [-1, 0, 1, 2, 3, 100],\n",
    "                                               labels= ['0', '1', '2', '3', '4+'])\n",
    "airbnb_cleaned_copy.head(3)"
   ]
  },
  {
   "cell_type": "code",
   "execution_count": 55,
   "metadata": {},
   "outputs": [],
   "source": [
    "airbnb_ul = airbnb_cleaned_copy.copy()\n",
    "airbnb_ul['accommodates'] = pd.cut(airbnb_ul.accommodates, \n",
    "                                               bins = [ 0, 1, 2, 3, 1000],\n",
    "                                               labels= ['1', '2', '3', '4+'])"
   ]
  },
  {
   "cell_type": "code",
   "execution_count": 56,
   "metadata": {},
   "outputs": [
    {
     "data": {
      "text/html": [
       "<div>\n",
       "<style scoped>\n",
       "    .dataframe tbody tr th:only-of-type {\n",
       "        vertical-align: middle;\n",
       "    }\n",
       "\n",
       "    .dataframe tbody tr th {\n",
       "        vertical-align: top;\n",
       "    }\n",
       "\n",
       "    .dataframe thead th {\n",
       "        text-align: right;\n",
       "    }\n",
       "</style>\n",
       "<table border=\"1\" class=\"dataframe\">\n",
       "  <thead>\n",
       "    <tr style=\"text-align: right;\">\n",
       "      <th></th>\n",
       "      <th>host_is_superhost</th>\n",
       "      <th>room_type</th>\n",
       "      <th>accommodates</th>\n",
       "      <th>bathrooms</th>\n",
       "      <th>bedrooms</th>\n",
       "      <th>price</th>\n",
       "      <th>bedroom_catgory</th>\n",
       "    </tr>\n",
       "  </thead>\n",
       "  <tbody>\n",
       "    <tr>\n",
       "      <th>0</th>\n",
       "      <td>f</td>\n",
       "      <td>Entire home/apt</td>\n",
       "      <td>4+</td>\n",
       "      <td>2</td>\n",
       "      <td>3.0</td>\n",
       "      <td>831.0</td>\n",
       "      <td>3</td>\n",
       "    </tr>\n",
       "    <tr>\n",
       "      <th>1</th>\n",
       "      <td>f</td>\n",
       "      <td>Private room</td>\n",
       "      <td>2</td>\n",
       "      <td>1</td>\n",
       "      <td>1.0</td>\n",
       "      <td>1197.0</td>\n",
       "      <td>1</td>\n",
       "    </tr>\n",
       "    <tr>\n",
       "      <th>2</th>\n",
       "      <td>t</td>\n",
       "      <td>Entire home/apt</td>\n",
       "      <td>2</td>\n",
       "      <td>1</td>\n",
       "      <td>1.0</td>\n",
       "      <td>598.0</td>\n",
       "      <td>1</td>\n",
       "    </tr>\n",
       "    <tr>\n",
       "      <th>3</th>\n",
       "      <td>t</td>\n",
       "      <td>Entire home/apt</td>\n",
       "      <td>2</td>\n",
       "      <td>1</td>\n",
       "      <td>1.0</td>\n",
       "      <td>598.0</td>\n",
       "      <td>1</td>\n",
       "    </tr>\n",
       "    <tr>\n",
       "      <th>4</th>\n",
       "      <td>t</td>\n",
       "      <td>Entire home/apt</td>\n",
       "      <td>2</td>\n",
       "      <td>1</td>\n",
       "      <td>1.0</td>\n",
       "      <td>598.0</td>\n",
       "      <td>1</td>\n",
       "    </tr>\n",
       "  </tbody>\n",
       "</table>\n",
       "</div>"
      ],
      "text/plain": [
       "  host_is_superhost        room_type accommodates bathrooms  bedrooms   price  \\\n",
       "0                 f  Entire home/apt           4+         2       3.0   831.0   \n",
       "1                 f     Private room            2         1       1.0  1197.0   \n",
       "2                 t  Entire home/apt            2         1       1.0   598.0   \n",
       "3                 t  Entire home/apt            2         1       1.0   598.0   \n",
       "4                 t  Entire home/apt            2         1       1.0   598.0   \n",
       "\n",
       "  bedroom_catgory  \n",
       "0               3  \n",
       "1               1  \n",
       "2               1  \n",
       "3               1  \n",
       "4               1  "
      ]
     },
     "execution_count": 56,
     "metadata": {},
     "output_type": "execute_result"
    }
   ],
   "source": [
    "airbnb_ul['bathrooms'] = pd.cut(airbnb_ul.bathrooms, \n",
    "                                               bins = [ -1, 0, 1, 2, 100],\n",
    "                                               labels= [\"0\",'1', '2', '3+'])\n",
    "airbnb_ul.head(5)"
   ]
  },
  {
   "cell_type": "code",
   "execution_count": 57,
   "metadata": {},
   "outputs": [
    {
     "data": {
      "text/html": [
       "<div>\n",
       "<style scoped>\n",
       "    .dataframe tbody tr th:only-of-type {\n",
       "        vertical-align: middle;\n",
       "    }\n",
       "\n",
       "    .dataframe tbody tr th {\n",
       "        vertical-align: top;\n",
       "    }\n",
       "\n",
       "    .dataframe thead th {\n",
       "        text-align: right;\n",
       "    }\n",
       "</style>\n",
       "<table border=\"1\" class=\"dataframe\">\n",
       "  <thead>\n",
       "    <tr style=\"text-align: right;\">\n",
       "      <th></th>\n",
       "      <th>host_is_superhost</th>\n",
       "      <th>room_type</th>\n",
       "      <th>accommodates</th>\n",
       "      <th>bathrooms</th>\n",
       "      <th>bedrooms</th>\n",
       "      <th>price</th>\n",
       "      <th>bedroom_catgory</th>\n",
       "      <th>log_price</th>\n",
       "    </tr>\n",
       "  </thead>\n",
       "  <tbody>\n",
       "    <tr>\n",
       "      <th>0</th>\n",
       "      <td>f</td>\n",
       "      <td>Entire home/apt</td>\n",
       "      <td>4+</td>\n",
       "      <td>2</td>\n",
       "      <td>3.0</td>\n",
       "      <td>831.0</td>\n",
       "      <td>3</td>\n",
       "      <td>6.722630</td>\n",
       "    </tr>\n",
       "    <tr>\n",
       "      <th>1</th>\n",
       "      <td>f</td>\n",
       "      <td>Private room</td>\n",
       "      <td>2</td>\n",
       "      <td>1</td>\n",
       "      <td>1.0</td>\n",
       "      <td>1197.0</td>\n",
       "      <td>1</td>\n",
       "      <td>7.087574</td>\n",
       "    </tr>\n",
       "    <tr>\n",
       "      <th>2</th>\n",
       "      <td>t</td>\n",
       "      <td>Entire home/apt</td>\n",
       "      <td>2</td>\n",
       "      <td>1</td>\n",
       "      <td>1.0</td>\n",
       "      <td>598.0</td>\n",
       "      <td>1</td>\n",
       "      <td>6.393591</td>\n",
       "    </tr>\n",
       "  </tbody>\n",
       "</table>\n",
       "</div>"
      ],
      "text/plain": [
       "  host_is_superhost        room_type accommodates bathrooms  bedrooms   price  \\\n",
       "0                 f  Entire home/apt           4+         2       3.0   831.0   \n",
       "1                 f     Private room            2         1       1.0  1197.0   \n",
       "2                 t  Entire home/apt            2         1       1.0   598.0   \n",
       "\n",
       "  bedroom_catgory  log_price  \n",
       "0               3   6.722630  \n",
       "1               1   7.087574  \n",
       "2               1   6.393591  "
      ]
     },
     "execution_count": 57,
     "metadata": {},
     "output_type": "execute_result"
    }
   ],
   "source": [
    "airbnb_ul['log_price'] = np.log(airbnb_ul['price'])\n",
    "airbnb_ul.head(3)"
   ]
  },
  {
   "cell_type": "markdown",
   "metadata": {},
   "source": [
    "**2.2**"
   ]
  },
  {
   "cell_type": "code",
   "execution_count": 58,
   "metadata": {},
   "outputs": [
    {
     "data": {
      "text/html": [
       "<table class=\"simpletable\">\n",
       "<caption>OLS Regression Results</caption>\n",
       "<tr>\n",
       "  <th>Dep. Variable:</th>        <td>log_price</td>    <th>  R-squared:         </th> <td>   0.458</td> \n",
       "</tr>\n",
       "<tr>\n",
       "  <th>Model:</th>                   <td>OLS</td>       <th>  Adj. R-squared:    </th> <td>   0.458</td> \n",
       "</tr>\n",
       "<tr>\n",
       "  <th>Method:</th>             <td>Least Squares</td>  <th>  F-statistic:       </th> <td>   2723.</td> \n",
       "</tr>\n",
       "<tr>\n",
       "  <th>Date:</th>             <td>Mon, 07 Mar 2022</td> <th>  Prob (F-statistic):</th>  <td>  0.00</td>  \n",
       "</tr>\n",
       "<tr>\n",
       "  <th>Time:</th>                 <td>17:24:11</td>     <th>  Log-Likelihood:    </th> <td> -35615.</td> \n",
       "</tr>\n",
       "<tr>\n",
       "  <th>No. Observations:</th>      <td> 38613</td>      <th>  AIC:               </th> <td>7.126e+04</td>\n",
       "</tr>\n",
       "<tr>\n",
       "  <th>Df Residuals:</th>          <td> 38600</td>      <th>  BIC:               </th> <td>7.137e+04</td>\n",
       "</tr>\n",
       "<tr>\n",
       "  <th>Df Model:</th>              <td>    12</td>      <th>                     </th>     <td> </td>    \n",
       "</tr>\n",
       "<tr>\n",
       "  <th>Covariance Type:</th>      <td>nonrobust</td>    <th>                     </th>     <td> </td>    \n",
       "</tr>\n",
       "</table>\n",
       "<table class=\"simpletable\">\n",
       "<tr>\n",
       "              <td></td>                 <th>coef</th>     <th>std err</th>      <th>t</th>      <th>P>|t|</th>  <th>[0.025</th>    <th>0.975]</th>  \n",
       "</tr>\n",
       "<tr>\n",
       "  <th>Intercept</th>                 <td>    5.5801</td> <td>    0.062</td> <td>   89.815</td> <td> 0.000</td> <td>    5.458</td> <td>    5.702</td>\n",
       "</tr>\n",
       "<tr>\n",
       "  <th>bedroom_catgory[T.1]</th>      <td>    0.0553</td> <td>    0.040</td> <td>    1.386</td> <td> 0.166</td> <td>   -0.023</td> <td>    0.134</td>\n",
       "</tr>\n",
       "<tr>\n",
       "  <th>bedroom_catgory[T.2]</th>      <td>    0.1900</td> <td>    0.041</td> <td>    4.644</td> <td> 0.000</td> <td>    0.110</td> <td>    0.270</td>\n",
       "</tr>\n",
       "<tr>\n",
       "  <th>bedroom_catgory[T.3]</th>      <td>    0.4917</td> <td>    0.042</td> <td>   11.632</td> <td> 0.000</td> <td>    0.409</td> <td>    0.575</td>\n",
       "</tr>\n",
       "<tr>\n",
       "  <th>bedroom_catgory[T.4+]</th>     <td>    0.8731</td> <td>    0.044</td> <td>   19.945</td> <td> 0.000</td> <td>    0.787</td> <td>    0.959</td>\n",
       "</tr>\n",
       "<tr>\n",
       "  <th>accommodates[T.2]</th>         <td>    0.3321</td> <td>    0.013</td> <td>   24.638</td> <td> 0.000</td> <td>    0.306</td> <td>    0.359</td>\n",
       "</tr>\n",
       "<tr>\n",
       "  <th>accommodates[T.3]</th>         <td>    0.3935</td> <td>    0.017</td> <td>   23.646</td> <td> 0.000</td> <td>    0.361</td> <td>    0.426</td>\n",
       "</tr>\n",
       "<tr>\n",
       "  <th>accommodates[T.4+]</th>        <td>    0.6087</td> <td>    0.015</td> <td>   39.342</td> <td> 0.000</td> <td>    0.578</td> <td>    0.639</td>\n",
       "</tr>\n",
       "<tr>\n",
       "  <th>room_type[T.Private room]</th> <td>   -0.3243</td> <td>    0.007</td> <td>  -43.874</td> <td> 0.000</td> <td>   -0.339</td> <td>   -0.310</td>\n",
       "</tr>\n",
       "<tr>\n",
       "  <th>room_type[T.Shared room]</th>  <td>   -0.9507</td> <td>    0.017</td> <td>  -56.418</td> <td> 0.000</td> <td>   -0.984</td> <td>   -0.918</td>\n",
       "</tr>\n",
       "<tr>\n",
       "  <th>bathrooms[T.1]</th>            <td> 2.267e-05</td> <td>    0.047</td> <td>    0.000</td> <td> 1.000</td> <td>   -0.092</td> <td>    0.092</td>\n",
       "</tr>\n",
       "<tr>\n",
       "  <th>bathrooms[T.2]</th>            <td>    0.0343</td> <td>    0.047</td> <td>    0.722</td> <td> 0.470</td> <td>   -0.059</td> <td>    0.127</td>\n",
       "</tr>\n",
       "<tr>\n",
       "  <th>bathrooms[T.3+]</th>           <td>    0.5907</td> <td>    0.050</td> <td>   11.883</td> <td> 0.000</td> <td>    0.493</td> <td>    0.688</td>\n",
       "</tr>\n",
       "</table>\n",
       "<table class=\"simpletable\">\n",
       "<tr>\n",
       "  <th>Omnibus:</th>       <td>8914.379</td> <th>  Durbin-Watson:     </th> <td>   1.781</td> \n",
       "</tr>\n",
       "<tr>\n",
       "  <th>Prob(Omnibus):</th>  <td> 0.000</td>  <th>  Jarque-Bera (JB):  </th> <td>51799.993</td>\n",
       "</tr>\n",
       "<tr>\n",
       "  <th>Skew:</th>           <td> 0.986</td>  <th>  Prob(JB):          </th> <td>    0.00</td> \n",
       "</tr>\n",
       "<tr>\n",
       "  <th>Kurtosis:</th>       <td> 8.320</td>  <th>  Cond. No.          </th> <td>    53.2</td> \n",
       "</tr>\n",
       "</table><br/><br/>Notes:<br/>[1] Standard Errors assume that the covariance matrix of the errors is correctly specified."
      ],
      "text/plain": [
       "<class 'statsmodels.iolib.summary.Summary'>\n",
       "\"\"\"\n",
       "                            OLS Regression Results                            \n",
       "==============================================================================\n",
       "Dep. Variable:              log_price   R-squared:                       0.458\n",
       "Model:                            OLS   Adj. R-squared:                  0.458\n",
       "Method:                 Least Squares   F-statistic:                     2723.\n",
       "Date:                Mon, 07 Mar 2022   Prob (F-statistic):               0.00\n",
       "Time:                        17:24:11   Log-Likelihood:                -35615.\n",
       "No. Observations:               38613   AIC:                         7.126e+04\n",
       "Df Residuals:                   38600   BIC:                         7.137e+04\n",
       "Df Model:                          12                                         \n",
       "Covariance Type:            nonrobust                                         \n",
       "=============================================================================================\n",
       "                                coef    std err          t      P>|t|      [0.025      0.975]\n",
       "---------------------------------------------------------------------------------------------\n",
       "Intercept                     5.5801      0.062     89.815      0.000       5.458       5.702\n",
       "bedroom_catgory[T.1]          0.0553      0.040      1.386      0.166      -0.023       0.134\n",
       "bedroom_catgory[T.2]          0.1900      0.041      4.644      0.000       0.110       0.270\n",
       "bedroom_catgory[T.3]          0.4917      0.042     11.632      0.000       0.409       0.575\n",
       "bedroom_catgory[T.4+]         0.8731      0.044     19.945      0.000       0.787       0.959\n",
       "accommodates[T.2]             0.3321      0.013     24.638      0.000       0.306       0.359\n",
       "accommodates[T.3]             0.3935      0.017     23.646      0.000       0.361       0.426\n",
       "accommodates[T.4+]            0.6087      0.015     39.342      0.000       0.578       0.639\n",
       "room_type[T.Private room]    -0.3243      0.007    -43.874      0.000      -0.339      -0.310\n",
       "room_type[T.Shared room]     -0.9507      0.017    -56.418      0.000      -0.984      -0.918\n",
       "bathrooms[T.1]             2.267e-05      0.047      0.000      1.000      -0.092       0.092\n",
       "bathrooms[T.2]                0.0343      0.047      0.722      0.470      -0.059       0.127\n",
       "bathrooms[T.3+]               0.5907      0.050     11.883      0.000       0.493       0.688\n",
       "==============================================================================\n",
       "Omnibus:                     8914.379   Durbin-Watson:                   1.781\n",
       "Prob(Omnibus):                  0.000   Jarque-Bera (JB):            51799.993\n",
       "Skew:                           0.986   Prob(JB):                         0.00\n",
       "Kurtosis:                       8.320   Cond. No.                         53.2\n",
       "==============================================================================\n",
       "\n",
       "Notes:\n",
       "[1] Standard Errors assume that the covariance matrix of the errors is correctly specified.\n",
       "\"\"\""
      ]
     },
     "execution_count": 58,
     "metadata": {},
     "output_type": "execute_result"
    }
   ],
   "source": [
    "# Replicate the model from PS6\n",
    "reg2 = smf.ols(\"log_price ~ bedroom_catgory + accommodates + room_type + bathrooms\", data=airbnb_ul).fit()\n",
    "reg2.summary()"
   ]
  },
  {
   "cell_type": "markdown",
   "metadata": {},
   "source": [
    "**2.3**"
   ]
  },
  {
   "cell_type": "code",
   "execution_count": 59,
   "metadata": {},
   "outputs": [
    {
     "data": {
      "text/plain": [
       "0    6.714877\n",
       "1    5.643309\n",
       "2    5.967570\n",
       "dtype: float64"
      ]
     },
     "execution_count": 59,
     "metadata": {},
     "output_type": "execute_result"
    }
   ],
   "source": [
    "# predict the price of these listings from above model\n",
    "phat = reg2.predict(airbnb_ul)\n",
    "phat.head(3)"
   ]
  },
  {
   "cell_type": "code",
   "execution_count": 60,
   "metadata": {},
   "outputs": [
    {
     "data": {
      "text/plain": [
       "0.6086074931250635"
      ]
     },
     "execution_count": 60,
     "metadata": {},
     "output_type": "execute_result"
    }
   ],
   "source": [
    "# calculate the RMSE \n",
    "np.sqrt(np.mean((phat - airbnb_ul[\"log_price\"])**2))"
   ]
  },
  {
   "cell_type": "markdown",
   "metadata": {},
   "source": [
    "**2.4**"
   ]
  },
  {
   "cell_type": "code",
   "execution_count": 61,
   "metadata": {},
   "outputs": [
    {
     "data": {
      "text/html": [
       "<div>\n",
       "<style scoped>\n",
       "    .dataframe tbody tr th:only-of-type {\n",
       "        vertical-align: middle;\n",
       "    }\n",
       "\n",
       "    .dataframe tbody tr th {\n",
       "        vertical-align: top;\n",
       "    }\n",
       "\n",
       "    .dataframe thead th {\n",
       "        text-align: right;\n",
       "    }\n",
       "</style>\n",
       "<table border=\"1\" class=\"dataframe\">\n",
       "  <thead>\n",
       "    <tr style=\"text-align: right;\">\n",
       "      <th></th>\n",
       "      <th>host_is_superhost</th>\n",
       "      <th>room_type</th>\n",
       "      <th>accommodates</th>\n",
       "      <th>bathrooms</th>\n",
       "      <th>bedrooms</th>\n",
       "      <th>price</th>\n",
       "      <th>bedroom_catgory</th>\n",
       "      <th>log_price</th>\n",
       "    </tr>\n",
       "  </thead>\n",
       "  <tbody>\n",
       "    <tr>\n",
       "      <th>9</th>\n",
       "      <td>f</td>\n",
       "      <td>Entire home/apt</td>\n",
       "      <td>4+</td>\n",
       "      <td>2</td>\n",
       "      <td>2.0</td>\n",
       "      <td>669.0</td>\n",
       "      <td>2</td>\n",
       "      <td>6.505784</td>\n",
       "    </tr>\n",
       "    <tr>\n",
       "      <th>13</th>\n",
       "      <td>t</td>\n",
       "      <td>Entire home/apt</td>\n",
       "      <td>4+</td>\n",
       "      <td>1</td>\n",
       "      <td>2.0</td>\n",
       "      <td>950.0</td>\n",
       "      <td>2</td>\n",
       "      <td>6.856462</td>\n",
       "    </tr>\n",
       "    <tr>\n",
       "      <th>36</th>\n",
       "      <td>t</td>\n",
       "      <td>Entire home/apt</td>\n",
       "      <td>4+</td>\n",
       "      <td>1</td>\n",
       "      <td>2.0</td>\n",
       "      <td>704.0</td>\n",
       "      <td>2</td>\n",
       "      <td>6.556778</td>\n",
       "    </tr>\n",
       "    <tr>\n",
       "      <th>51</th>\n",
       "      <td>f</td>\n",
       "      <td>Entire home/apt</td>\n",
       "      <td>4+</td>\n",
       "      <td>1</td>\n",
       "      <td>2.0</td>\n",
       "      <td>690.0</td>\n",
       "      <td>2</td>\n",
       "      <td>6.536692</td>\n",
       "    </tr>\n",
       "    <tr>\n",
       "      <th>65</th>\n",
       "      <td>f</td>\n",
       "      <td>Entire home/apt</td>\n",
       "      <td>4+</td>\n",
       "      <td>1</td>\n",
       "      <td>2.0</td>\n",
       "      <td>289.0</td>\n",
       "      <td>2</td>\n",
       "      <td>5.666427</td>\n",
       "    </tr>\n",
       "    <tr>\n",
       "      <th>...</th>\n",
       "      <td>...</td>\n",
       "      <td>...</td>\n",
       "      <td>...</td>\n",
       "      <td>...</td>\n",
       "      <td>...</td>\n",
       "      <td>...</td>\n",
       "      <td>...</td>\n",
       "      <td>...</td>\n",
       "    </tr>\n",
       "    <tr>\n",
       "      <th>38799</th>\n",
       "      <td>f</td>\n",
       "      <td>Entire home/apt</td>\n",
       "      <td>4+</td>\n",
       "      <td>1</td>\n",
       "      <td>2.0</td>\n",
       "      <td>401.0</td>\n",
       "      <td>2</td>\n",
       "      <td>5.993961</td>\n",
       "    </tr>\n",
       "    <tr>\n",
       "      <th>38800</th>\n",
       "      <td>f</td>\n",
       "      <td>Entire home/apt</td>\n",
       "      <td>4+</td>\n",
       "      <td>1</td>\n",
       "      <td>2.0</td>\n",
       "      <td>591.0</td>\n",
       "      <td>2</td>\n",
       "      <td>6.381816</td>\n",
       "    </tr>\n",
       "    <tr>\n",
       "      <th>38803</th>\n",
       "      <td>f</td>\n",
       "      <td>Entire home/apt</td>\n",
       "      <td>4+</td>\n",
       "      <td>2</td>\n",
       "      <td>2.0</td>\n",
       "      <td>1000.0</td>\n",
       "      <td>2</td>\n",
       "      <td>6.907755</td>\n",
       "    </tr>\n",
       "    <tr>\n",
       "      <th>38804</th>\n",
       "      <td>f</td>\n",
       "      <td>Entire home/apt</td>\n",
       "      <td>4+</td>\n",
       "      <td>1</td>\n",
       "      <td>2.0</td>\n",
       "      <td>317.0</td>\n",
       "      <td>2</td>\n",
       "      <td>5.758902</td>\n",
       "    </tr>\n",
       "    <tr>\n",
       "      <th>38807</th>\n",
       "      <td>f</td>\n",
       "      <td>Entire home/apt</td>\n",
       "      <td>4+</td>\n",
       "      <td>2</td>\n",
       "      <td>2.0</td>\n",
       "      <td>500.0</td>\n",
       "      <td>2</td>\n",
       "      <td>6.214608</td>\n",
       "    </tr>\n",
       "  </tbody>\n",
       "</table>\n",
       "<p>6881 rows × 8 columns</p>\n",
       "</div>"
      ],
      "text/plain": [
       "      host_is_superhost        room_type accommodates bathrooms  bedrooms  \\\n",
       "9                     f  Entire home/apt           4+         2       2.0   \n",
       "13                    t  Entire home/apt           4+         1       2.0   \n",
       "36                    t  Entire home/apt           4+         1       2.0   \n",
       "51                    f  Entire home/apt           4+         1       2.0   \n",
       "65                    f  Entire home/apt           4+         1       2.0   \n",
       "...                 ...              ...          ...       ...       ...   \n",
       "38799                 f  Entire home/apt           4+         1       2.0   \n",
       "38800                 f  Entire home/apt           4+         1       2.0   \n",
       "38803                 f  Entire home/apt           4+         2       2.0   \n",
       "38804                 f  Entire home/apt           4+         1       2.0   \n",
       "38807                 f  Entire home/apt           4+         2       2.0   \n",
       "\n",
       "        price bedroom_catgory  log_price  \n",
       "9       669.0               2   6.505784  \n",
       "13      950.0               2   6.856462  \n",
       "36      704.0               2   6.556778  \n",
       "51      690.0               2   6.536692  \n",
       "65      289.0               2   5.666427  \n",
       "...       ...             ...        ...  \n",
       "38799   401.0               2   5.993961  \n",
       "38800   591.0               2   6.381816  \n",
       "38803  1000.0               2   6.907755  \n",
       "38804   317.0               2   5.758902  \n",
       "38807   500.0               2   6.214608  \n",
       "\n",
       "[6881 rows x 8 columns]"
      ]
     },
     "execution_count": 61,
     "metadata": {},
     "output_type": "execute_result"
    }
   ],
   "source": [
    "two_bedrooms = airbnb_ul[airbnb_ul['bedrooms']==2.0]\n",
    "two_b_four = two_bedrooms[two_bedrooms['accommodates'].isin([\"4+\"])]\n",
    "two_b_four"
   ]
  },
  {
   "cell_type": "code",
   "execution_count": 62,
   "metadata": {},
   "outputs": [
    {
     "data": {
      "text/plain": [
       "9        6.413156\n",
       "13       6.378887\n",
       "36       6.378887\n",
       "51       6.378887\n",
       "65       6.378887\n",
       "           ...   \n",
       "38799    6.378887\n",
       "38800    6.378887\n",
       "38803    6.413156\n",
       "38804    6.378887\n",
       "38807    6.413156\n",
       "Length: 6881, dtype: float64"
      ]
     },
     "execution_count": 62,
     "metadata": {},
     "output_type": "execute_result"
    }
   ],
   "source": [
    "# my prediction\n",
    "predict = reg2.predict(two_b_four)\n",
    "predict"
   ]
  },
  {
   "cell_type": "markdown",
   "metadata": {},
   "source": [
    "**2.5**"
   ]
  },
  {
   "cell_type": "code",
   "execution_count": 63,
   "metadata": {},
   "outputs": [
    {
     "data": {
      "text/plain": [
       "6.385029736532868"
      ]
     },
     "execution_count": 63,
     "metadata": {},
     "output_type": "execute_result"
    }
   ],
   "source": [
    "# avg price for 2BR that acc 4 \n",
    "avg_price = two_b_four.log_price.mean()\n",
    "avg_price"
   ]
  },
  {
   "cell_type": "code",
   "execution_count": 64,
   "metadata": {},
   "outputs": [
    {
     "data": {
      "text/plain": [
       "6.376677399984822"
      ]
     },
     "execution_count": 64,
     "metadata": {},
     "output_type": "execute_result"
    }
   ],
   "source": [
    "# the avg of my prediction\n",
    "predict_mean = predict.mean()\n",
    "predict_mean"
   ]
  },
  {
   "cell_type": "code",
   "execution_count": 65,
   "metadata": {},
   "outputs": [
    {
     "data": {
      "text/plain": [
       "0.008352336548045791"
      ]
     },
     "execution_count": 65,
     "metadata": {},
     "output_type": "execute_result"
    }
   ],
   "source": [
    "diff = avg_price - predict_mean\n",
    "diff"
   ]
  },
  {
   "cell_type": "markdown",
   "metadata": {},
   "source": [
    "I got it pretty close. the difference is only 0.008352336548045791 between the actual average and the prediction average. The actual average is 0.008352336548045791 higher than my prediction average"
   ]
  },
  {
   "cell_type": "markdown",
   "metadata": {},
   "source": [
    "## Total Time: 20hrs"
   ]
  }
 ],
 "metadata": {
  "kernelspec": {
   "display_name": "Python 3",
   "language": "python",
   "name": "python3"
  },
  "language_info": {
   "codemirror_mode": {
    "name": "ipython",
    "version": 3
   },
   "file_extension": ".py",
   "mimetype": "text/x-python",
   "name": "python",
   "nbconvert_exporter": "python",
   "pygments_lexer": "ipython3",
   "version": "3.8.5"
  }
 },
 "nbformat": 4,
 "nbformat_minor": 4
}

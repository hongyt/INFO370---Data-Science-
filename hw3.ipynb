{
 "cells": [
  {
   "cell_type": "markdown",
   "metadata": {},
   "source": [
    "# PS 3 - Hongyi Tang"
   ]
  },
  {
   "cell_type": "code",
   "execution_count": 6,
   "metadata": {},
   "outputs": [],
   "source": [
    "import pandas as pd\n",
    "import numpy as np\n",
    "import matplotlib.pyplot as plt"
   ]
  },
  {
   "cell_type": "markdown",
   "metadata": {},
   "source": [
    "## 1 Explore Distribution"
   ]
  },
  {
   "cell_type": "markdown",
   "metadata": {},
   "source": [
    "1.1"
   ]
  },
  {
   "cell_type": "code",
   "execution_count": 62,
   "metadata": {},
   "outputs": [],
   "source": [
    "S = 10_000"
   ]
  },
  {
   "cell_type": "markdown",
   "metadata": {},
   "source": [
    "1.2"
   ]
  },
  {
   "cell_type": "code",
   "execution_count": 63,
   "metadata": {},
   "outputs": [],
   "source": [
    "d1 = np.random.lognormal(0, 0.2, size=S)\n",
    "d2 = np.random.lognormal(0, 0.5, size=S)\n",
    "d3 = np.random.lognormal(0, 1.68, size=S)\n",
    "\n"
   ]
  },
  {
   "cell_type": "code",
   "execution_count": 64,
   "metadata": {},
   "outputs": [
    {
     "data": {
      "image/png": "[encoded data removed]",
      "text/plain": [
       "<Figure size 432x288 with 4 Axes>"
      ]
     },
     "metadata": {
      "needs_background": "light"
     },
     "output_type": "display_data"
    },
    {
     "data": {
      "image/png": "[encoded data removed]",
      "text/plain": [
       "<Figure size 432x288 with 4 Axes>"
      ]
     },
     "metadata": {
      "needs_background": "light"
     },
     "output_type": "display_data"
    }
   ],
   "source": [
    "# All three plots look a bit skewed\n",
    "fig, axs = plt.subplots(2,2)\n",
    "_ = axs[0, 0].hist(d1, edgecolor = \"black\")\n",
    "axs[0, 0].set_title(\"LN(0,0.2)\")\n",
    "_ = axs[0, 1].hist(d2, edgecolor = \"black\")\n",
    "axs[0, 1].set_title(\"LN(0,0.5)\")\n",
    "_ = axs[1, 0].hist(d3, edgecolor = \"black\")\n",
    "axs[1, 0].set_title(\"LN(0,1.68)\")\n",
    "fig.tight_layout()\n",
    "# log-linear\n",
    "fig, axs = plt.subplots(2,2)\n",
    "_ = axs[0, 0].hist(np.log(d1), edgecolor = \"black\")\n",
    "axs[0, 0].set_title(\"Log of LN(0,0.2)\")\n",
    "_ = axs[0, 1].hist(np.log(d2), edgecolor = \"black\")\n",
    "axs[0, 1].set_title(\"Log of LN(0,0.5)\")\n",
    "_ = axs[1, 0].hist(np.log(d3), edgecolor = \"black\")\n",
    "axs[1, 0].set_title(\"Log of LN(0,1.68)\")\n",
    "fig.tight_layout()\n"
   ]
  },
  {
   "cell_type": "markdown",
   "metadata": {},
   "source": [
    "1.3"
   ]
  },
  {
   "cell_type": "markdown",
   "metadata": {},
   "source": [
    "LN(0,1.68) describes the most unequal distribution, and LN(0,0.2) describes the least unequal distribution"
   ]
  },
  {
   "cell_type": "markdown",
   "metadata": {},
   "source": [
    "1.4"
   ]
  },
  {
   "cell_type": "code",
   "execution_count": 65,
   "metadata": {},
   "outputs": [
    {
     "name": "stdout",
     "output_type": "stream",
     "text": [
      "1.0239405190470399\n",
      "0.04271140880307463\n",
      "1.0202013400267558\n",
      "0.04247629348257031\n",
      "\n",
      "1.1288287319423962\n",
      "0.35685107592745063\n",
      "1.1331484530668263\n",
      "0.3646958540123865\n",
      "\n",
      "3.890318191517679\n",
      "148.21925462830933\n",
      "4.1008735008239405\n",
      "265.99982369887033\n"
     ]
    }
   ],
   "source": [
    "# LN(0,0.2)\n",
    "sample_mean = np.mean(d1)\n",
    "sample_variance = np.var(d1)\n",
    "print(sample_mean)\n",
    "print(sample_variance)\n",
    "#theoretical mean and variance\n",
    "expect = np.exp(0+1/2*(0.2**2))\n",
    "variance = np.exp(2*0+0.2**2)*(np.exp(0.2**2)-1)\n",
    "print(expect)\n",
    "print(variance)\n",
    "\n",
    "print()\n",
    "# LN(0,0.5)\n",
    "sample_mean = np.mean(d2)\n",
    "sample_variance = np.var(d2)\n",
    "print(sample_mean)\n",
    "print(sample_variance)\n",
    "#theoretical mean and variance\n",
    "expect = np.exp(0+1/2*(0.5**2))\n",
    "variance = np.exp(2*0+0.5**2)*(np.exp(0.5**2)-1)\n",
    "print(expect)\n",
    "print(variance)\n",
    "\n",
    "print()\n",
    "# LN(0,1.68)\n",
    "sample_mean = np.mean(d3)\n",
    "sample_variance = np.var(d3)\n",
    "print(sample_mean)\n",
    "print(sample_variance)\n",
    "#theoretical mean and variance\n",
    "expect = np.exp(0+1/2*(1.68**2))\n",
    "variance = np.exp(2*0+1.68**2)*(np.exp(1.68**2)-1)\n",
    "print(expect)\n",
    "print(variance)\n",
    "\n",
    "# Yes, there are pretty similar. "
   ]
  },
  {
   "cell_type": "markdown",
   "metadata": {},
   "source": [
    "1.5"
   ]
  },
  {
   "cell_type": "code",
   "execution_count": 70,
   "metadata": {},
   "outputs": [],
   "source": [
    "d1_sum = d1.sum()\n",
    "d2_sum = d2.sum()\n",
    "d3_sum = d3.sum()"
   ]
  },
  {
   "cell_type": "code",
   "execution_count": 71,
   "metadata": {},
   "outputs": [
    {
     "name": "stdout",
     "output_type": "stream",
     "text": [
      "Top 46 percent take up: 0.5400742855109509 total for d1\n",
      "Top 41 percent take up: 0.6050788297693204 total for d2\n",
      "Top 21 percent take up: 0.8021620768154408 total for d3\n"
     ]
    }
   ],
   "source": [
    "\n",
    "for i in range(1,51):\n",
    "    topd1 = np.percentile(d1, 100 - i)\n",
    "    ratiod1 = d1[d1 > topd1].sum()/d1_sum\n",
    "    \n",
    "    if 100*ratiod1 > (100 - i):\n",
    "        print(\"Top\",i, \"percent take up:\",ratiod1,\"total for d1\")\n",
    "        break\n",
    "for i in range(1,51):\n",
    "    topd2 = np.percentile(d2, 100 - i)\n",
    "    ratiod2 = d2[d2 > topd2].sum()/d2_sum\n",
    "    \n",
    "    if 100*ratiod2 > (100 - i):\n",
    "        print(\"Top\",i, \"percent take up:\",ratiod2,\"total for d2\")\n",
    "        break\n",
    "for i in range(1,51):\n",
    "    topd3 = np.percentile(d3, 100 - i)\n",
    "    ratiod3 = d3[d3 > topd3].sum()/d3_sum\n",
    "    \n",
    "    if 100*ratiod3 > (100 - i):\n",
    "        print(\"Top\",i, \"percent take up:\",ratiod3,\"total for d3\")\n",
    "        break"
   ]
  },
  {
   "cell_type": "code",
   "execution_count": 89,
   "metadata": {},
   "outputs": [],
   "source": [
    "treat = pd.read_csv(\"../data/treatment.csv.bz2\",sep = \"\\t\")\n",
    "mag = pd.read_csv(\"../data/mag-30k-citations.csv.bz2\",sep = \"\\t\")\n",
    "lunar = pd.read_csv(\"../data/lunar-impact-craters_v08-2015-09.csv.bz2\",sep=\"\\t\")\n",
    "\n",
    "income = treat.re78.dropna()\n",
    "citations = mag.citations.dropna()\n",
    "radius = lunar[[lunar.columns[7]]].dropna()\n"
   ]
  },
  {
   "cell_type": "code",
   "execution_count": 96,
   "metadata": {},
   "outputs": [
    {
     "data": {
      "image/png": "[encoded data removed]",
      "text/plain": [
       "<Figure size 432x288 with 6 Axes>"
      ]
     },
     "metadata": {
      "needs_background": "light"
     },
     "output_type": "display_data"
    }
   ],
   "source": [
    "fig, axs = plt.subplots(3,2)\n",
    "_ = axs[0, 0].hist(income, edgecolor = \"black\", bins=30)\n",
    "axs[0, 0].set_title(\"Income\")\n",
    "_ = axs[0, 1].hist(np.log(income[income > 0]), edgecolor = \"black\", bins=30)\n",
    "axs[0, 1].set_title(\"Log of Income\")\n",
    "_ = axs[1, 0].hist(citations, edgecolor = \"black\",bins=30)\n",
    "axs[1, 0].set_title(\"citations\")\n",
    "_ = axs[1, 1].hist(np.log(citations[citations > 0]), edgecolor = \"black\",bins=30)\n",
    "axs[1, 1].set_title(\"Log of citations\")\n",
    "_ = axs[2, 0].hist(radius, edgecolor = \"black\", bins=30)\n",
    "axs[2, 0].set_title(\"radius\")\n",
    "_ = axs[2, 1].hist(np.log(radius), edgecolor = \"black\", bins=30)\n",
    "axs[2, 1].set_title(\"Log of radius\")\n",
    "fig.tight_layout()\n",
    "\n",
    "# the income and radius look closer to log-normal, \n",
    "# but the citations doesn't. log of citations is a bit more left skewed (closer to exponential distribution)"
   ]
  },
  {
   "cell_type": "markdown",
   "metadata": {},
   "source": [
    "# 2 Explore Central Limit Theorem"
   ]
  },
  {
   "cell_type": "markdown",
   "metadata": {},
   "source": [
    "2.1"
   ]
  },
  {
   "cell_type": "markdown",
   "metadata": {},
   "source": [
    "Expected value is -1 * 0.5 + 1 * 0.5 = 0 \n",
    "\n",
    "Var(X) = 0.5 * (-1)^2 + 1^2 * 0.5 - 0^2 = 1"
   ]
  },
  {
   "cell_type": "markdown",
   "metadata": {},
   "source": [
    "2.2"
   ]
  },
  {
   "cell_type": "markdown",
   "metadata": {},
   "source": [
    "R = 1000"
   ]
  },
  {
   "cell_type": "markdown",
   "metadata": {},
   "source": [
    "2.3 & 2.4"
   ]
  },
  {
   "cell_type": "code",
   "execution_count": 32,
   "metadata": {},
   "outputs": [],
   "source": [
    "# Here is the function to perform different sample size on R = 1000 (1000 times repetition)\n",
    "def different_sample(S):\n",
    "    sample_generator = np.random.choice([1,-1], size=(1000,S))\n",
    "    sample_mean = np.mean(sample_generator, axis=1)\n",
    "    sample_variance = np.var(sample_mean)\n",
    "    sample_mean_mean = np.mean(sample_mean)\n",
    "    plt.hist(sample_mean, bins = 100, color = \"lightgreen\", edgecolor = \"black\")\n",
    "    \n",
    "    print(\"The mean of these samples are\", sample_mean_mean, \", and the variance of these samples are\", sample_variance)"
   ]
  },
  {
   "cell_type": "code",
   "execution_count": 33,
   "metadata": {},
   "outputs": [
    {
     "name": "stdout",
     "output_type": "stream",
     "text": [
      "The mean of these samples are 0.002 , and the variance of these samples are 0.9999959999999998\n"
     ]
    },
    {
     "data": {
      "image/png": "[encoded data removed]",
      "text/plain": [
       "<Figure size 432x288 with 1 Axes>"
      ]
     },
     "metadata": {
      "needs_background": "light"
     },
     "output_type": "display_data"
    }
   ],
   "source": [
    "# 2.3 & 2.4 when sample size is 1 and R = 1000\n",
    "different_sample(1)\n",
    "# The results are pretty close to the therotical values we computed at question 1"
   ]
  },
  {
   "cell_type": "markdown",
   "metadata": {},
   "source": [
    "2.5 & 2.6 & 2.7"
   ]
  },
  {
   "cell_type": "code",
   "execution_count": 23,
   "metadata": {
    "scrolled": true
   },
   "outputs": [
    {
     "name": "stdout",
     "output_type": "stream",
     "text": [
      "The mean of these samples are -0.027 , and the variance of these samples are 0.5002709999999999\n"
     ]
    },
    {
     "data": {
      "image/png": "[encoded data removed]",
      "text/plain": [
       "<Figure size 432x288 with 1 Axes>"
      ]
     },
     "metadata": {
      "needs_background": "light"
     },
     "output_type": "display_data"
    }
   ],
   "source": [
    "# 2.5 & 2.6 & 2.7 when sample size is 2 and R = 1000\n",
    "different_sample(2)\n",
    "# 2.7 expected value of pair means: E[(x1+x2)/2] = 1/2 * E[x1+x2] = 1/2*(E[x1]+E[x2])= 0 \n",
    "# variance of pair means: Var[(x1+x2)/2] = 1/4Var(x1+x2) = 1/4((Var(x1) + Var(x2)) = 1/2\n",
    "# This time the difference is slightly bigger, but the mean is still pretty close to the previous calculation. \n",
    "# However, the variance is half what we calculated before when S = 1"
   ]
  },
  {
   "cell_type": "markdown",
   "metadata": {},
   "source": [
    "2.8"
   ]
  },
  {
   "cell_type": "code",
   "execution_count": 16,
   "metadata": {},
   "outputs": [
    {
     "name": "stdout",
     "output_type": "stream",
     "text": [
      "The mean of these samples are 0.001600000000000005 , and the variance of these samples are 0.20799743999999998\n"
     ]
    },
    {
     "data": {
      "image/png": "[encoded data removed]",
      "text/plain": [
       "<Figure size 432x288 with 1 Axes>"
      ]
     },
     "metadata": {
      "needs_background": "light"
     },
     "output_type": "display_data"
    }
   ],
   "source": [
    "# 2.8 when sample size is 5 and R = 1000\n",
    "different_sample(5)\n",
    "#The mean is still pretty similar but the variance is a lot smaller. \n",
    "#It is a lot more like normaly distributed compared to prervious histograms"
   ]
  },
  {
   "cell_type": "markdown",
   "metadata": {},
   "source": [
    "2.9"
   ]
  },
  {
   "cell_type": "code",
   "execution_count": 21,
   "metadata": {},
   "outputs": [
    {
     "name": "stdout",
     "output_type": "stream",
     "text": [
      "The mean of these samples are 0.009360000000000002 , and the variance of these samples are 0.03972039040000001\n"
     ]
    },
    {
     "data": {
      "image/png": "[encoded data removed]",
      "text/plain": [
       "<Figure size 432x288 with 1 Axes>"
      ]
     },
     "metadata": {
      "needs_background": "light"
     },
     "output_type": "display_data"
    }
   ],
   "source": [
    "# 2.9 when sample size is and R = 1000\n",
    "different_sample(25)\n",
    "#The mean is still pretty similar but the variance is even smaller than when simple size was 5. "
   ]
  },
  {
   "cell_type": "markdown",
   "metadata": {},
   "source": [
    "2.10"
   ]
  },
  {
   "cell_type": "code",
   "execution_count": 22,
   "metadata": {},
   "outputs": [
    {
     "name": "stdout",
     "output_type": "stream",
     "text": [
      "The mean of these samples are -0.001532 , and the variance of these samples are 0.0009983329760000002\n"
     ]
    },
    {
     "data": {
      "image/png": "[encoded data removed]",
      "text/plain": [
       "<Figure size 432x288 with 1 Axes>"
      ]
     },
     "metadata": {
      "needs_background": "light"
     },
     "output_type": "display_data"
    }
   ],
   "source": [
    "# 2.10 when sample size is and R = 1000\n",
    "different_sample(1000)\n",
    "#The mean is still pretty similar but the variance is even smaller than when simple size was 25. "
   ]
  },
  {
   "cell_type": "markdown",
   "metadata": {},
   "source": [
    "2.11"
   ]
  },
  {
   "cell_type": "markdown",
   "metadata": {},
   "source": [
    "As sample size increases, the shape of the histogram is more normally distributed"
   ]
  },
  {
   "cell_type": "markdown",
   "metadata": {},
   "source": [
    "2.12"
   ]
  },
  {
   "cell_type": "markdown",
   "metadata": {},
   "source": [
    "Based on my understanding, I think when we increase the sample size, we are constantly removing a lot of the extreme conditions. For example, when there is only one sample, it is very easy to get either 1 or 2. However, when the sample size increases to 2, it wil be harder to get -1 or 1 since the expected value is 0. Just like that as sample gets bigger and bigger, the histogram will eventually turn into a perfect normal distribution with 0 centered in the middle."
   ]
  },
  {
   "cell_type": "markdown",
   "metadata": {},
   "source": [
    "## Total time: 8hrs"
   ]
  }
 ],
 "metadata": {
  "kernelspec": {
   "display_name": "Python 3",
   "language": "python",
   "name": "python3"
  },
  "language_info": {
   "codemirror_mode": {
    "name": "ipython",
    "version": 3
   },
   "file_extension": ".py",
   "mimetype": "text/x-python",
   "name": "python",
   "nbconvert_exporter": "python",
   "pygments_lexer": "ipython3",
   "version": "3.8.5"
  }
 },
 "nbformat": 4,
 "nbformat_minor": 4
}

{
 "cells": [
  {
   "cell_type": "markdown",
   "metadata": {},
   "source": [
    "## HW 5 - Hongyi Tang"
   ]
  },
  {
   "cell_type": "code",
   "execution_count": 2,
   "metadata": {},
   "outputs": [],
   "source": [
    "import numpy as np\n",
    "import pandas as pd\n",
    "import matplotlib.pyplot as plt\n",
    "import seaborn as sns\n",
    "import statsmodels.formula.api as smf"
   ]
  },
  {
   "cell_type": "markdown",
   "metadata": {},
   "source": [
    "1.1"
   ]
  },
  {
   "cell_type": "code",
   "execution_count": 3,
   "metadata": {},
   "outputs": [
    {
     "data": {
      "text/html": [
       "<div>\n",
       "<style scoped>\n",
       "    .dataframe tbody tr th:only-of-type {\n",
       "        vertical-align: middle;\n",
       "    }\n",
       "\n",
       "    .dataframe tbody tr th {\n",
       "        vertical-align: top;\n",
       "    }\n",
       "\n",
       "    .dataframe thead th {\n",
       "        text-align: right;\n",
       "    }\n",
       "</style>\n",
       "<table border=\"1\" class=\"dataframe\">\n",
       "  <thead>\n",
       "    <tr style=\"text-align: right;\">\n",
       "      <th></th>\n",
       "      <th>year</th>\n",
       "      <th>month</th>\n",
       "      <th>data-type</th>\n",
       "      <th>region</th>\n",
       "      <th>extent</th>\n",
       "      <th>area</th>\n",
       "      <th>time</th>\n",
       "    </tr>\n",
       "  </thead>\n",
       "  <tbody>\n",
       "    <tr>\n",
       "      <th>0</th>\n",
       "      <td>1978</td>\n",
       "      <td>11</td>\n",
       "      <td>Goddard</td>\n",
       "      <td>N</td>\n",
       "      <td>11.65</td>\n",
       "      <td>9.04</td>\n",
       "      <td>1978.875000</td>\n",
       "    </tr>\n",
       "    <tr>\n",
       "      <th>2</th>\n",
       "      <td>1978</td>\n",
       "      <td>12</td>\n",
       "      <td>Goddard</td>\n",
       "      <td>N</td>\n",
       "      <td>13.67</td>\n",
       "      <td>10.90</td>\n",
       "      <td>1978.958333</td>\n",
       "    </tr>\n",
       "    <tr>\n",
       "      <th>4</th>\n",
       "      <td>1979</td>\n",
       "      <td>1</td>\n",
       "      <td>Goddard</td>\n",
       "      <td>N</td>\n",
       "      <td>15.41</td>\n",
       "      <td>12.41</td>\n",
       "      <td>1979.041667</td>\n",
       "    </tr>\n",
       "  </tbody>\n",
       "</table>\n",
       "</div>"
      ],
      "text/plain": [
       "   year  month data-type region  extent   area         time\n",
       "0  1978     11   Goddard      N   11.65   9.04  1978.875000\n",
       "2  1978     12   Goddard      N   13.67  10.90  1978.958333\n",
       "4  1979      1   Goddard      N   15.41  12.41  1979.041667"
      ]
     },
     "execution_count": 3,
     "metadata": {},
     "output_type": "execute_result"
    }
   ],
   "source": [
    "# load the data\n",
    "ice = pd.read_csv(\"../data/ice-extent.csv.bz2\", sep = \"\\t\")\n",
    "north = ice[ice[\"region\"] == \"N\"]\n",
    "north.head(3)"
   ]
  },
  {
   "cell_type": "code",
   "execution_count": 4,
   "metadata": {},
   "outputs": [
    {
     "name": "stdout",
     "output_type": "stream",
     "text": [
      "(519, 7)\n",
      "year         0\n",
      "month        0\n",
      "data-type    0\n",
      "region       0\n",
      "extent       0\n",
      "area         0\n",
      "time         0\n",
      "dtype: int64\n"
     ]
    }
   ],
   "source": [
    "# checking the shape\n",
    "print(north.shape)\n",
    "# checking null values \n",
    "print(north.isnull().sum())"
   ]
  },
  {
   "cell_type": "code",
   "execution_count": 5,
   "metadata": {},
   "outputs": [
    {
     "data": {
      "text/html": [
       "<div>\n",
       "<style scoped>\n",
       "    .dataframe tbody tr th:only-of-type {\n",
       "        vertical-align: middle;\n",
       "    }\n",
       "\n",
       "    .dataframe tbody tr th {\n",
       "        vertical-align: top;\n",
       "    }\n",
       "\n",
       "    .dataframe thead th {\n",
       "        text-align: right;\n",
       "    }\n",
       "</style>\n",
       "<table border=\"1\" class=\"dataframe\">\n",
       "  <thead>\n",
       "    <tr style=\"text-align: right;\">\n",
       "      <th></th>\n",
       "      <th>year</th>\n",
       "      <th>month</th>\n",
       "      <th>extent</th>\n",
       "      <th>area</th>\n",
       "      <th>time</th>\n",
       "    </tr>\n",
       "  </thead>\n",
       "  <tbody>\n",
       "    <tr>\n",
       "      <th>count</th>\n",
       "      <td>519.000000</td>\n",
       "      <td>519.000000</td>\n",
       "      <td>519.000000</td>\n",
       "      <td>519.000000</td>\n",
       "      <td>519.000000</td>\n",
       "    </tr>\n",
       "    <tr>\n",
       "      <th>mean</th>\n",
       "      <td>1999.957611</td>\n",
       "      <td>6.508671</td>\n",
       "      <td>-27.190559</td>\n",
       "      <td>-48.571927</td>\n",
       "      <td>2000.458333</td>\n",
       "    </tr>\n",
       "    <tr>\n",
       "      <th>std</th>\n",
       "      <td>12.498268</td>\n",
       "      <td>3.467920</td>\n",
       "      <td>620.823926</td>\n",
       "      <td>759.451898</td>\n",
       "      <td>12.497222</td>\n",
       "    </tr>\n",
       "    <tr>\n",
       "      <th>min</th>\n",
       "      <td>1978.000000</td>\n",
       "      <td>1.000000</td>\n",
       "      <td>-9999.000000</td>\n",
       "      <td>-9999.000000</td>\n",
       "      <td>1978.875000</td>\n",
       "    </tr>\n",
       "    <tr>\n",
       "      <th>25%</th>\n",
       "      <td>1989.000000</td>\n",
       "      <td>3.500000</td>\n",
       "      <td>8.545000</td>\n",
       "      <td>6.215000</td>\n",
       "      <td>1989.666667</td>\n",
       "    </tr>\n",
       "    <tr>\n",
       "      <th>50%</th>\n",
       "      <td>2000.000000</td>\n",
       "      <td>7.000000</td>\n",
       "      <td>12.040000</td>\n",
       "      <td>9.910000</td>\n",
       "      <td>2000.458333</td>\n",
       "    </tr>\n",
       "    <tr>\n",
       "      <th>75%</th>\n",
       "      <td>2011.000000</td>\n",
       "      <td>10.000000</td>\n",
       "      <td>14.300000</td>\n",
       "      <td>12.280000</td>\n",
       "      <td>2011.250000</td>\n",
       "    </tr>\n",
       "    <tr>\n",
       "      <th>max</th>\n",
       "      <td>2022.000000</td>\n",
       "      <td>12.000000</td>\n",
       "      <td>16.340000</td>\n",
       "      <td>13.900000</td>\n",
       "      <td>2022.041667</td>\n",
       "    </tr>\n",
       "  </tbody>\n",
       "</table>\n",
       "</div>"
      ],
      "text/plain": [
       "              year       month       extent         area         time\n",
       "count   519.000000  519.000000   519.000000   519.000000   519.000000\n",
       "mean   1999.957611    6.508671   -27.190559   -48.571927  2000.458333\n",
       "std      12.498268    3.467920   620.823926   759.451898    12.497222\n",
       "min    1978.000000    1.000000 -9999.000000 -9999.000000  1978.875000\n",
       "25%    1989.000000    3.500000     8.545000     6.215000  1989.666667\n",
       "50%    2000.000000    7.000000    12.040000     9.910000  2000.458333\n",
       "75%    2011.000000   10.000000    14.300000    12.280000  2011.250000\n",
       "max    2022.000000   12.000000    16.340000    13.900000  2022.041667"
      ]
     },
     "execution_count": 5,
     "metadata": {},
     "output_type": "execute_result"
    }
   ],
   "source": [
    "# we noticed that there are invalid value for extent and area since they should be positive numbers\n",
    "north.describe()"
   ]
  },
  {
   "cell_type": "code",
   "execution_count": 6,
   "metadata": {},
   "outputs": [
    {
     "data": {
      "text/html": [
       "<div>\n",
       "<style scoped>\n",
       "    .dataframe tbody tr th:only-of-type {\n",
       "        vertical-align: middle;\n",
       "    }\n",
       "\n",
       "    .dataframe tbody tr th {\n",
       "        vertical-align: top;\n",
       "    }\n",
       "\n",
       "    .dataframe thead th {\n",
       "        text-align: right;\n",
       "    }\n",
       "</style>\n",
       "<table border=\"1\" class=\"dataframe\">\n",
       "  <thead>\n",
       "    <tr style=\"text-align: right;\">\n",
       "      <th></th>\n",
       "      <th>year</th>\n",
       "      <th>month</th>\n",
       "      <th>extent</th>\n",
       "      <th>area</th>\n",
       "      <th>time</th>\n",
       "    </tr>\n",
       "  </thead>\n",
       "  <tbody>\n",
       "    <tr>\n",
       "      <th>count</th>\n",
       "      <td>516.000000</td>\n",
       "      <td>516.000000</td>\n",
       "      <td>516.000000</td>\n",
       "      <td>516.000000</td>\n",
       "      <td>516.000000</td>\n",
       "    </tr>\n",
       "    <tr>\n",
       "      <th>mean</th>\n",
       "      <td>2000.031008</td>\n",
       "      <td>6.505814</td>\n",
       "      <td>11.392384</td>\n",
       "      <td>9.279399</td>\n",
       "      <td>2000.531492</td>\n",
       "    </tr>\n",
       "    <tr>\n",
       "      <th>std</th>\n",
       "      <td>12.497262</td>\n",
       "      <td>3.460451</td>\n",
       "      <td>3.255029</td>\n",
       "      <td>3.240792</td>\n",
       "      <td>12.496496</td>\n",
       "    </tr>\n",
       "    <tr>\n",
       "      <th>min</th>\n",
       "      <td>1978.000000</td>\n",
       "      <td>1.000000</td>\n",
       "      <td>3.570000</td>\n",
       "      <td>2.410000</td>\n",
       "      <td>1978.875000</td>\n",
       "    </tr>\n",
       "    <tr>\n",
       "      <th>25%</th>\n",
       "      <td>1989.000000</td>\n",
       "      <td>3.750000</td>\n",
       "      <td>8.590000</td>\n",
       "      <td>6.277500</td>\n",
       "      <td>1989.854167</td>\n",
       "    </tr>\n",
       "    <tr>\n",
       "      <th>50%</th>\n",
       "      <td>2000.000000</td>\n",
       "      <td>6.500000</td>\n",
       "      <td>12.095000</td>\n",
       "      <td>9.950000</td>\n",
       "      <td>2000.583333</td>\n",
       "    </tr>\n",
       "    <tr>\n",
       "      <th>75%</th>\n",
       "      <td>2011.000000</td>\n",
       "      <td>10.000000</td>\n",
       "      <td>14.300000</td>\n",
       "      <td>12.282500</td>\n",
       "      <td>2011.312500</td>\n",
       "    </tr>\n",
       "    <tr>\n",
       "      <th>max</th>\n",
       "      <td>2022.000000</td>\n",
       "      <td>12.000000</td>\n",
       "      <td>16.340000</td>\n",
       "      <td>13.900000</td>\n",
       "      <td>2022.041667</td>\n",
       "    </tr>\n",
       "  </tbody>\n",
       "</table>\n",
       "</div>"
      ],
      "text/plain": [
       "              year       month      extent        area         time\n",
       "count   516.000000  516.000000  516.000000  516.000000   516.000000\n",
       "mean   2000.031008    6.505814   11.392384    9.279399  2000.531492\n",
       "std      12.497262    3.460451    3.255029    3.240792    12.496496\n",
       "min    1978.000000    1.000000    3.570000    2.410000  1978.875000\n",
       "25%    1989.000000    3.750000    8.590000    6.277500  1989.854167\n",
       "50%    2000.000000    6.500000   12.095000    9.950000  2000.583333\n",
       "75%    2011.000000   10.000000   14.300000   12.282500  2011.312500\n",
       "max    2022.000000   12.000000   16.340000   13.900000  2022.041667"
      ]
     },
     "execution_count": 6,
     "metadata": {},
     "output_type": "execute_result"
    }
   ],
   "source": [
    "# cleaned data\n",
    "north = north[(north[\"area\"] >= 0)&(north[\"extent\"]>=0)]\n",
    "north.describe()"
   ]
  },
  {
   "cell_type": "markdown",
   "metadata": {},
   "source": [
    "1.2"
   ]
  },
  {
   "cell_type": "code",
   "execution_count": 7,
   "metadata": {},
   "outputs": [
    {
     "data": {
      "text/html": [
       "<div>\n",
       "<style scoped>\n",
       "    .dataframe tbody tr th:only-of-type {\n",
       "        vertical-align: middle;\n",
       "    }\n",
       "\n",
       "    .dataframe tbody tr th {\n",
       "        vertical-align: top;\n",
       "    }\n",
       "\n",
       "    .dataframe thead th {\n",
       "        text-align: right;\n",
       "    }\n",
       "</style>\n",
       "<table border=\"1\" class=\"dataframe\">\n",
       "  <thead>\n",
       "    <tr style=\"text-align: right;\">\n",
       "      <th></th>\n",
       "      <th>year</th>\n",
       "      <th>month</th>\n",
       "      <th>data-type</th>\n",
       "      <th>region</th>\n",
       "      <th>extent</th>\n",
       "      <th>area</th>\n",
       "      <th>time</th>\n",
       "    </tr>\n",
       "  </thead>\n",
       "  <tbody>\n",
       "    <tr>\n",
       "      <th>2</th>\n",
       "      <td>1978</td>\n",
       "      <td>12</td>\n",
       "      <td>Goddard</td>\n",
       "      <td>N</td>\n",
       "      <td>13.67</td>\n",
       "      <td>10.90</td>\n",
       "      <td>1978.958333</td>\n",
       "    </tr>\n",
       "    <tr>\n",
       "      <th>8</th>\n",
       "      <td>1979</td>\n",
       "      <td>3</td>\n",
       "      <td>Goddard</td>\n",
       "      <td>N</td>\n",
       "      <td>16.34</td>\n",
       "      <td>13.21</td>\n",
       "      <td>1979.208333</td>\n",
       "    </tr>\n",
       "    <tr>\n",
       "      <th>20</th>\n",
       "      <td>1979</td>\n",
       "      <td>9</td>\n",
       "      <td>Goddard</td>\n",
       "      <td>N</td>\n",
       "      <td>7.05</td>\n",
       "      <td>4.58</td>\n",
       "      <td>1979.708333</td>\n",
       "    </tr>\n",
       "    <tr>\n",
       "      <th>26</th>\n",
       "      <td>1979</td>\n",
       "      <td>12</td>\n",
       "      <td>Goddard</td>\n",
       "      <td>N</td>\n",
       "      <td>13.34</td>\n",
       "      <td>10.63</td>\n",
       "      <td>1979.958333</td>\n",
       "    </tr>\n",
       "    <tr>\n",
       "      <th>32</th>\n",
       "      <td>1980</td>\n",
       "      <td>3</td>\n",
       "      <td>Goddard</td>\n",
       "      <td>N</td>\n",
       "      <td>16.04</td>\n",
       "      <td>12.99</td>\n",
       "      <td>1980.208333</td>\n",
       "    </tr>\n",
       "  </tbody>\n",
       "</table>\n",
       "</div>"
      ],
      "text/plain": [
       "    year  month data-type region  extent   area         time\n",
       "2   1978     12   Goddard      N   13.67  10.90  1978.958333\n",
       "8   1979      3   Goddard      N   16.34  13.21  1979.208333\n",
       "20  1979      9   Goddard      N    7.05   4.58  1979.708333\n",
       "26  1979     12   Goddard      N   13.34  10.63  1979.958333\n",
       "32  1980      3   Goddard      N   16.04  12.99  1980.208333"
      ]
     },
     "execution_count": 7,
     "metadata": {},
     "output_type": "execute_result"
    }
   ],
   "source": [
    "months = north[(north.month == 3) | (north.month == 9) |(north.month == 12)]\n",
    "months.head(5)"
   ]
  },
  {
   "cell_type": "code",
   "execution_count": 8,
   "metadata": {},
   "outputs": [
    {
     "data": {
      "image/png": "[encoded data removed]",
      "text/plain": [
       "<Figure size 432x288 with 1 Axes>"
      ]
     },
     "metadata": {
      "needs_background": "light"
     },
     "output_type": "display_data"
    }
   ],
   "source": [
    "_ = sns.lineplot(x=\"year\", y=\"extent\", data=months, hue=\"month\")"
   ]
  },
  {
   "cell_type": "markdown",
   "metadata": {},
   "source": [
    "1.3"
   ]
  },
  {
   "cell_type": "code",
   "execution_count": 9,
   "metadata": {},
   "outputs": [],
   "source": [
    "# make s copy of sep data and set years relative to 2000\n",
    "month_sep = months[months[\"month\"] == 9]\n",
    "month_sep_copy = month_sep.copy()\n",
    "month_sep_copy[\"year\"] = month_sep_copy[\"year\"] - 2000"
   ]
  },
  {
   "cell_type": "code",
   "execution_count": 10,
   "metadata": {},
   "outputs": [
    {
     "data": {
      "text/html": [
       "<table class=\"simpletable\">\n",
       "<caption>OLS Regression Results</caption>\n",
       "<tr>\n",
       "  <th>Dep. Variable:</th>         <td>extent</td>      <th>  R-squared:         </th> <td>   0.793</td>\n",
       "</tr>\n",
       "<tr>\n",
       "  <th>Model:</th>                   <td>OLS</td>       <th>  Adj. R-squared:    </th> <td>   0.788</td>\n",
       "</tr>\n",
       "<tr>\n",
       "  <th>Method:</th>             <td>Least Squares</td>  <th>  F-statistic:       </th> <td>   157.5</td>\n",
       "</tr>\n",
       "<tr>\n",
       "  <th>Date:</th>             <td>Sun, 20 Feb 2022</td> <th>  Prob (F-statistic):</th> <td>1.25e-15</td>\n",
       "</tr>\n",
       "<tr>\n",
       "  <th>Time:</th>                 <td>09:13:31</td>     <th>  Log-Likelihood:    </th> <td> -32.417</td>\n",
       "</tr>\n",
       "<tr>\n",
       "  <th>No. Observations:</th>      <td>    43</td>      <th>  AIC:               </th> <td>   68.83</td>\n",
       "</tr>\n",
       "<tr>\n",
       "  <th>Df Residuals:</th>          <td>    41</td>      <th>  BIC:               </th> <td>   72.36</td>\n",
       "</tr>\n",
       "<tr>\n",
       "  <th>Df Model:</th>              <td>     1</td>      <th>                     </th>     <td> </td>   \n",
       "</tr>\n",
       "<tr>\n",
       "  <th>Covariance Type:</th>      <td>nonrobust</td>    <th>                     </th>     <td> </td>   \n",
       "</tr>\n",
       "</table>\n",
       "<table class=\"simpletable\">\n",
       "<tr>\n",
       "      <td></td>         <th>coef</th>     <th>std err</th>      <th>t</th>      <th>P>|t|</th>  <th>[0.025</th>    <th>0.975]</th>  \n",
       "</tr>\n",
       "<tr>\n",
       "  <th>Intercept</th> <td>    5.9935</td> <td>    0.080</td> <td>   74.629</td> <td> 0.000</td> <td>    5.831</td> <td>    6.156</td>\n",
       "</tr>\n",
       "<tr>\n",
       "  <th>year</th>      <td>   -0.0812</td> <td>    0.006</td> <td>  -12.551</td> <td> 0.000</td> <td>   -0.094</td> <td>   -0.068</td>\n",
       "</tr>\n",
       "</table>\n",
       "<table class=\"simpletable\">\n",
       "<tr>\n",
       "  <th>Omnibus:</th>       <td> 2.573</td> <th>  Durbin-Watson:     </th> <td>   1.727</td>\n",
       "</tr>\n",
       "<tr>\n",
       "  <th>Prob(Omnibus):</th> <td> 0.276</td> <th>  Jarque-Bera (JB):  </th> <td>   1.525</td>\n",
       "</tr>\n",
       "<tr>\n",
       "  <th>Skew:</th>          <td>-0.324</td> <th>  Prob(JB):          </th> <td>   0.467</td>\n",
       "</tr>\n",
       "<tr>\n",
       "  <th>Kurtosis:</th>      <td> 3.656</td> <th>  Cond. No.          </th> <td>    12.4</td>\n",
       "</tr>\n",
       "</table><br/><br/>Notes:<br/>[1] Standard Errors assume that the covariance matrix of the errors is correctly specified."
      ],
      "text/plain": [
       "<class 'statsmodels.iolib.summary.Summary'>\n",
       "\"\"\"\n",
       "                            OLS Regression Results                            \n",
       "==============================================================================\n",
       "Dep. Variable:                 extent   R-squared:                       0.793\n",
       "Model:                            OLS   Adj. R-squared:                  0.788\n",
       "Method:                 Least Squares   F-statistic:                     157.5\n",
       "Date:                Sun, 20 Feb 2022   Prob (F-statistic):           1.25e-15\n",
       "Time:                        09:13:31   Log-Likelihood:                -32.417\n",
       "No. Observations:                  43   AIC:                             68.83\n",
       "Df Residuals:                      41   BIC:                             72.36\n",
       "Df Model:                           1                                         \n",
       "Covariance Type:            nonrobust                                         \n",
       "==============================================================================\n",
       "                 coef    std err          t      P>|t|      [0.025      0.975]\n",
       "------------------------------------------------------------------------------\n",
       "Intercept      5.9935      0.080     74.629      0.000       5.831       6.156\n",
       "year          -0.0812      0.006    -12.551      0.000      -0.094      -0.068\n",
       "==============================================================================\n",
       "Omnibus:                        2.573   Durbin-Watson:                   1.727\n",
       "Prob(Omnibus):                  0.276   Jarque-Bera (JB):                1.525\n",
       "Skew:                          -0.324   Prob(JB):                        0.467\n",
       "Kurtosis:                       3.656   Cond. No.                         12.4\n",
       "==============================================================================\n",
       "\n",
       "Notes:\n",
       "[1] Standard Errors assume that the covariance matrix of the errors is correctly specified.\n",
       "\"\"\""
      ]
     },
     "execution_count": 10,
     "metadata": {},
     "output_type": "execute_result"
    }
   ],
   "source": [
    "extent = smf.ols(\"extent ~ year\", data=month_sep_copy).fit()\n",
    "extent.summary()"
   ]
  },
  {
   "cell_type": "markdown",
   "metadata": {},
   "source": [
    "The estimated function is y = -0.0812x + 5.9935 where x is the year of sep data and y is the sea ice extent"
   ]
  },
  {
   "cell_type": "markdown",
   "metadata": {},
   "source": [
    "1.4"
   ]
  },
  {
   "cell_type": "markdown",
   "metadata": {},
   "source": [
    "the coefficient of year means that every year the sea ice area would decrease by 0.0812 M km^2. (This is also the slope)\n",
    "\n",
    "the intercept means that the sea ice extent area is 5.9935 M km^2 in the year 2000. \n",
    "\n",
    "It is statiscally significant since the p value is 0 for both the intercept and year "
   ]
  },
  {
   "cell_type": "markdown",
   "metadata": {},
   "source": [
    "1.5**"
   ]
  },
  {
   "cell_type": "markdown",
   "metadata": {},
   "source": [
    "(a)\n",
    "\n",
    "(b): It means that there is a reference year(year 2000, and like I said ealier the intercept means that the sea ice extent area is 5.9935 M km^2 in the year 2000"
   ]
  },
  {
   "cell_type": "markdown",
   "metadata": {},
   "source": [
    "1.6"
   ]
  },
  {
   "cell_type": "code",
   "execution_count": 11,
   "metadata": {},
   "outputs": [
    {
     "data": {
      "image/png": "[encoded data removed]",
      "text/plain": [
       "<Figure size 432x288 with 1 Axes>"
      ]
     },
     "metadata": {
      "needs_background": "light"
     },
     "output_type": "display_data"
    }
   ],
   "source": [
    "# compute a linear regression line\n",
    "ax = sns.regplot(x=\"year\", y=\"extent\", data=month_sep_copy)"
   ]
  },
  {
   "cell_type": "markdown",
   "metadata": {},
   "source": [
    "There is a very clear decreasing trend for the ice extent area as year goes by. There are some noticeable acceleration between year 1995 and year 2010. Just like that 2010 - 2020 slows down a bit which is a deceleration here."
   ]
  },
  {
   "cell_type": "markdown",
   "metadata": {},
   "source": [
    "1.7"
   ]
  },
  {
   "cell_type": "markdown",
   "metadata": {},
   "source": [
    "When we have BOE, the extent hits 0, which means y = 0. So -0.0812x + 5.9935 = 0 Therefore x = 73.8115764 which indicates BOE will arrive during the year of 2073."
   ]
  },
  {
   "cell_type": "markdown",
   "metadata": {},
   "source": [
    "1.8"
   ]
  },
  {
   "cell_type": "code",
   "execution_count": 12,
   "metadata": {},
   "outputs": [],
   "source": [
    "month_mar = months[months[\"month\"] == 3]\n",
    "month_mar_copy = month_mar.copy()\n",
    "month_mar_copy[\"year\"] = month_mar_copy[\"year\"] - 2000"
   ]
  },
  {
   "cell_type": "code",
   "execution_count": 13,
   "metadata": {},
   "outputs": [
    {
     "data": {
      "text/html": [
       "<table class=\"simpletable\">\n",
       "<caption>OLS Regression Results</caption>\n",
       "<tr>\n",
       "  <th>Dep. Variable:</th>         <td>extent</td>      <th>  R-squared:         </th> <td>   0.797</td>\n",
       "</tr>\n",
       "<tr>\n",
       "  <th>Model:</th>                   <td>OLS</td>       <th>  Adj. R-squared:    </th> <td>   0.792</td>\n",
       "</tr>\n",
       "<tr>\n",
       "  <th>Method:</th>             <td>Least Squares</td>  <th>  F-statistic:       </th> <td>   160.8</td>\n",
       "</tr>\n",
       "<tr>\n",
       "  <th>Date:</th>             <td>Sun, 20 Feb 2022</td> <th>  Prob (F-statistic):</th> <td>8.96e-16</td>\n",
       "</tr>\n",
       "<tr>\n",
       "  <th>Time:</th>                 <td>09:13:35</td>     <th>  Log-Likelihood:    </th> <td> -1.3365</td>\n",
       "</tr>\n",
       "<tr>\n",
       "  <th>No. Observations:</th>      <td>    43</td>      <th>  AIC:               </th> <td>   6.673</td>\n",
       "</tr>\n",
       "<tr>\n",
       "  <th>Df Residuals:</th>          <td>    41</td>      <th>  BIC:               </th> <td>   10.20</td>\n",
       "</tr>\n",
       "<tr>\n",
       "  <th>Df Model:</th>              <td>     1</td>      <th>                     </th>     <td> </td>   \n",
       "</tr>\n",
       "<tr>\n",
       "  <th>Covariance Type:</th>      <td>nonrobust</td>    <th>                     </th>     <td> </td>   \n",
       "</tr>\n",
       "</table>\n",
       "<table class=\"simpletable\">\n",
       "<tr>\n",
       "      <td></td>         <th>coef</th>     <th>std err</th>      <th>t</th>      <th>P>|t|</th>  <th>[0.025</th>    <th>0.975]</th>  \n",
       "</tr>\n",
       "<tr>\n",
       "  <th>Intercept</th> <td>   15.2570</td> <td>    0.039</td> <td>  391.380</td> <td> 0.000</td> <td>   15.178</td> <td>   15.336</td>\n",
       "</tr>\n",
       "<tr>\n",
       "  <th>year</th>      <td>   -0.0398</td> <td>    0.003</td> <td>  -12.679</td> <td> 0.000</td> <td>   -0.046</td> <td>   -0.033</td>\n",
       "</tr>\n",
       "</table>\n",
       "<table class=\"simpletable\">\n",
       "<tr>\n",
       "  <th>Omnibus:</th>       <td> 3.903</td> <th>  Durbin-Watson:     </th> <td>   1.534</td>\n",
       "</tr>\n",
       "<tr>\n",
       "  <th>Prob(Omnibus):</th> <td> 0.142</td> <th>  Jarque-Bera (JB):  </th> <td>   2.534</td>\n",
       "</tr>\n",
       "<tr>\n",
       "  <th>Skew:</th>          <td>-0.403</td> <th>  Prob(JB):          </th> <td>   0.282</td>\n",
       "</tr>\n",
       "<tr>\n",
       "  <th>Kurtosis:</th>      <td> 2.125</td> <th>  Cond. No.          </th> <td>    12.4</td>\n",
       "</tr>\n",
       "</table><br/><br/>Notes:<br/>[1] Standard Errors assume that the covariance matrix of the errors is correctly specified."
      ],
      "text/plain": [
       "<class 'statsmodels.iolib.summary.Summary'>\n",
       "\"\"\"\n",
       "                            OLS Regression Results                            \n",
       "==============================================================================\n",
       "Dep. Variable:                 extent   R-squared:                       0.797\n",
       "Model:                            OLS   Adj. R-squared:                  0.792\n",
       "Method:                 Least Squares   F-statistic:                     160.8\n",
       "Date:                Sun, 20 Feb 2022   Prob (F-statistic):           8.96e-16\n",
       "Time:                        09:13:35   Log-Likelihood:                -1.3365\n",
       "No. Observations:                  43   AIC:                             6.673\n",
       "Df Residuals:                      41   BIC:                             10.20\n",
       "Df Model:                           1                                         \n",
       "Covariance Type:            nonrobust                                         \n",
       "==============================================================================\n",
       "                 coef    std err          t      P>|t|      [0.025      0.975]\n",
       "------------------------------------------------------------------------------\n",
       "Intercept     15.2570      0.039    391.380      0.000      15.178      15.336\n",
       "year          -0.0398      0.003    -12.679      0.000      -0.046      -0.033\n",
       "==============================================================================\n",
       "Omnibus:                        3.903   Durbin-Watson:                   1.534\n",
       "Prob(Omnibus):                  0.142   Jarque-Bera (JB):                2.534\n",
       "Skew:                          -0.403   Prob(JB):                        0.282\n",
       "Kurtosis:                       2.125   Cond. No.                         12.4\n",
       "==============================================================================\n",
       "\n",
       "Notes:\n",
       "[1] Standard Errors assume that the covariance matrix of the errors is correctly specified.\n",
       "\"\"\""
      ]
     },
     "execution_count": 13,
     "metadata": {},
     "output_type": "execute_result"
    }
   ],
   "source": [
    "extent = smf.ols(\"extent ~ year\", data=month_mar_copy).fit()\n",
    "extent.summary()"
   ]
  },
  {
   "cell_type": "markdown",
   "metadata": {},
   "source": [
    "this gives us the function y = -0.0398x + 15.2570; since we want to know when will the Arctic be completely ice free\n",
    "\n",
    "0 = -0.0398x + 15.2570 -> x = 383.341709. Year 2383 will be the year where the Arctic will be completely ice free"
   ]
  },
  {
   "cell_type": "markdown",
   "metadata": {},
   "source": [
    "## 2 How is basketball game score calculated"
   ]
  },
  {
   "cell_type": "markdown",
   "metadata": {},
   "source": [
    "2.1"
   ]
  },
  {
   "cell_type": "code",
   "execution_count": 14,
   "metadata": {},
   "outputs": [
    {
     "data": {
      "text/html": [
       "<div>\n",
       "<style scoped>\n",
       "    .dataframe tbody tr th:only-of-type {\n",
       "        vertical-align: middle;\n",
       "    }\n",
       "\n",
       "    .dataframe tbody tr th {\n",
       "        vertical-align: top;\n",
       "    }\n",
       "\n",
       "    .dataframe thead th {\n",
       "        text-align: right;\n",
       "    }\n",
       "</style>\n",
       "<table border=\"1\" class=\"dataframe\">\n",
       "  <thead>\n",
       "    <tr style=\"text-align: right;\">\n",
       "      <th></th>\n",
       "      <th>Rk</th>\n",
       "      <th>G</th>\n",
       "      <th>Date</th>\n",
       "      <th>Age</th>\n",
       "      <th>Tm</th>\n",
       "      <th>Unnamed: 5</th>\n",
       "      <th>Opp</th>\n",
       "      <th>Unnamed: 7</th>\n",
       "      <th>GS</th>\n",
       "      <th>MP</th>\n",
       "      <th>...</th>\n",
       "      <th>DRB</th>\n",
       "      <th>TRB</th>\n",
       "      <th>AST</th>\n",
       "      <th>STL</th>\n",
       "      <th>BLK</th>\n",
       "      <th>TOV</th>\n",
       "      <th>PF</th>\n",
       "      <th>PTS</th>\n",
       "      <th>GmSc</th>\n",
       "      <th>+/-</th>\n",
       "    </tr>\n",
       "  </thead>\n",
       "  <tbody>\n",
       "    <tr>\n",
       "      <th>0</th>\n",
       "      <td>1</td>\n",
       "      <td>1.0</td>\n",
       "      <td>2018-10-17</td>\n",
       "      <td>29-052</td>\n",
       "      <td>HOU</td>\n",
       "      <td>NaN</td>\n",
       "      <td>NOP</td>\n",
       "      <td>L (-19)</td>\n",
       "      <td>1</td>\n",
       "      <td>34:43</td>\n",
       "      <td>...</td>\n",
       "      <td>7</td>\n",
       "      <td>9</td>\n",
       "      <td>10</td>\n",
       "      <td>3</td>\n",
       "      <td>1</td>\n",
       "      <td>4</td>\n",
       "      <td>2</td>\n",
       "      <td>18</td>\n",
       "      <td>18.9</td>\n",
       "      <td>-23</td>\n",
       "    </tr>\n",
       "    <tr>\n",
       "      <th>1</th>\n",
       "      <td>2</td>\n",
       "      <td>2.0</td>\n",
       "      <td>2018-10-20</td>\n",
       "      <td>29-055</td>\n",
       "      <td>HOU</td>\n",
       "      <td>@</td>\n",
       "      <td>LAL</td>\n",
       "      <td>W (+9)</td>\n",
       "      <td>1</td>\n",
       "      <td>37:50</td>\n",
       "      <td>...</td>\n",
       "      <td>6</td>\n",
       "      <td>7</td>\n",
       "      <td>5</td>\n",
       "      <td>2</td>\n",
       "      <td>1</td>\n",
       "      <td>6</td>\n",
       "      <td>2</td>\n",
       "      <td>36</td>\n",
       "      <td>27.0</td>\n",
       "      <td>-3</td>\n",
       "    </tr>\n",
       "    <tr>\n",
       "      <th>2</th>\n",
       "      <td>3</td>\n",
       "      <td>3.0</td>\n",
       "      <td>2018-10-21</td>\n",
       "      <td>29-056</td>\n",
       "      <td>HOU</td>\n",
       "      <td>@</td>\n",
       "      <td>LAC</td>\n",
       "      <td>L (-3)</td>\n",
       "      <td>1</td>\n",
       "      <td>39:45</td>\n",
       "      <td>...</td>\n",
       "      <td>4</td>\n",
       "      <td>4</td>\n",
       "      <td>14</td>\n",
       "      <td>2</td>\n",
       "      <td>0</td>\n",
       "      <td>3</td>\n",
       "      <td>1</td>\n",
       "      <td>31</td>\n",
       "      <td>26.4</td>\n",
       "      <td>+5</td>\n",
       "    </tr>\n",
       "    <tr>\n",
       "      <th>3</th>\n",
       "      <td>4</td>\n",
       "      <td>4.0</td>\n",
       "      <td>2018-10-24</td>\n",
       "      <td>29-059</td>\n",
       "      <td>HOU</td>\n",
       "      <td>NaN</td>\n",
       "      <td>UTA</td>\n",
       "      <td>L (-11)</td>\n",
       "      <td>1</td>\n",
       "      <td>31:38</td>\n",
       "      <td>...</td>\n",
       "      <td>4</td>\n",
       "      <td>5</td>\n",
       "      <td>7</td>\n",
       "      <td>1</td>\n",
       "      <td>0</td>\n",
       "      <td>7</td>\n",
       "      <td>4</td>\n",
       "      <td>29</td>\n",
       "      <td>17.7</td>\n",
       "      <td>-5</td>\n",
       "    </tr>\n",
       "    <tr>\n",
       "      <th>4</th>\n",
       "      <td>5</td>\n",
       "      <td>NaN</td>\n",
       "      <td>2018-10-26</td>\n",
       "      <td>29-061</td>\n",
       "      <td>HOU</td>\n",
       "      <td>NaN</td>\n",
       "      <td>LAC</td>\n",
       "      <td>L (-20)</td>\n",
       "      <td>Inactive</td>\n",
       "      <td>Inactive</td>\n",
       "      <td>...</td>\n",
       "      <td>Inactive</td>\n",
       "      <td>Inactive</td>\n",
       "      <td>Inactive</td>\n",
       "      <td>Inactive</td>\n",
       "      <td>Inactive</td>\n",
       "      <td>Inactive</td>\n",
       "      <td>Inactive</td>\n",
       "      <td>Inactive</td>\n",
       "      <td>Inactive</td>\n",
       "      <td>Inactive</td>\n",
       "    </tr>\n",
       "  </tbody>\n",
       "</table>\n",
       "<p>5 rows × 30 columns</p>\n",
       "</div>"
      ],
      "text/plain": [
       "   Rk    G        Date     Age   Tm Unnamed: 5  Opp Unnamed: 7        GS  \\\n",
       "0   1  1.0  2018-10-17  29-052  HOU        NaN  NOP    L (-19)         1   \n",
       "1   2  2.0  2018-10-20  29-055  HOU          @  LAL     W (+9)         1   \n",
       "2   3  3.0  2018-10-21  29-056  HOU          @  LAC     L (-3)         1   \n",
       "3   4  4.0  2018-10-24  29-059  HOU        NaN  UTA    L (-11)         1   \n",
       "4   5  NaN  2018-10-26  29-061  HOU        NaN  LAC    L (-20)  Inactive   \n",
       "\n",
       "         MP  ...       DRB       TRB       AST       STL       BLK       TOV  \\\n",
       "0     34:43  ...         7         9        10         3         1         4   \n",
       "1     37:50  ...         6         7         5         2         1         6   \n",
       "2     39:45  ...         4         4        14         2         0         3   \n",
       "3     31:38  ...         4         5         7         1         0         7   \n",
       "4  Inactive  ...  Inactive  Inactive  Inactive  Inactive  Inactive  Inactive   \n",
       "\n",
       "         PF       PTS      GmSc       +/-  \n",
       "0         2        18      18.9       -23  \n",
       "1         2        36      27.0        -3  \n",
       "2         1        31      26.4        +5  \n",
       "3         4        29      17.7        -5  \n",
       "4  Inactive  Inactive  Inactive  Inactive  \n",
       "\n",
       "[5 rows x 30 columns]"
      ]
     },
     "execution_count": 14,
     "metadata": {},
     "output_type": "execute_result"
    }
   ],
   "source": [
    "basketball = pd.read_csv(\"../data/harden-18-19.csv.bz2\")\n",
    "basketball.head(5)"
   ]
  },
  {
   "cell_type": "code",
   "execution_count": 15,
   "metadata": {},
   "outputs": [
    {
     "data": {
      "text/plain": [
       "(82, 30)"
      ]
     },
     "execution_count": 15,
     "metadata": {},
     "output_type": "execute_result"
    }
   ],
   "source": [
    "basketball.shape"
   ]
  },
  {
   "cell_type": "markdown",
   "metadata": {},
   "source": [
    "2.2"
   ]
  },
  {
   "cell_type": "code",
   "execution_count": 16,
   "metadata": {},
   "outputs": [
    {
     "name": "stdout",
     "output_type": "stream",
     "text": [
      "2018-10-17\n",
      "2019-04-09\n"
     ]
    }
   ],
   "source": [
    "print(basketball.Date.min())\n",
    "print(basketball.Date.max())"
   ]
  },
  {
   "cell_type": "code",
   "execution_count": 17,
   "metadata": {},
   "outputs": [
    {
     "data": {
      "text/plain": [
       "(78, 30)"
      ]
     },
     "execution_count": 17,
     "metadata": {},
     "output_type": "execute_result"
    }
   ],
   "source": [
    "active = basketball[basketball[\"GmSc\"] != \"Inactive\"]\n",
    "active.shape"
   ]
  },
  {
   "cell_type": "code",
   "execution_count": 18,
   "metadata": {},
   "outputs": [
    {
     "data": {
      "text/plain": [
       "(78,)"
      ]
     },
     "execution_count": 18,
     "metadata": {},
     "output_type": "execute_result"
    }
   ],
   "source": [
    "Played = basketball.G.dropna()\n",
    "Played.shape"
   ]
  },
  {
   "cell_type": "markdown",
   "metadata": {},
   "source": [
    "Harden played 78 games"
   ]
  },
  {
   "cell_type": "markdown",
   "metadata": {},
   "source": [
    "2.3"
   ]
  },
  {
   "cell_type": "code",
   "execution_count": 19,
   "metadata": {},
   "outputs": [],
   "source": [
    "gmSc_numeric = pd.to_numeric(active.GmSc)\n",
    "FGA_numeric = pd.to_numeric(active.FGA)\n",
    "FG_numeric = pd.to_numeric(active.FG)"
   ]
  },
  {
   "cell_type": "markdown",
   "metadata": {},
   "source": [
    "2.4"
   ]
  },
  {
   "cell_type": "code",
   "execution_count": 20,
   "metadata": {},
   "outputs": [
    {
     "data": {
      "text/plain": [
       "count    78.000000\n",
       "mean     26.708974\n",
       "std      10.053883\n",
       "min       1.200000\n",
       "25%      21.225000\n",
       "50%      25.800000\n",
       "75%      32.150000\n",
       "max      52.200000\n",
       "Name: GmSc, dtype: float64"
      ]
     },
     "execution_count": 20,
     "metadata": {},
     "output_type": "execute_result"
    }
   ],
   "source": [
    "gmSc_numeric.describe()\n",
    "# GmSc: \n",
    "# mean is 26.708974\n",
    "# std is  10.053883"
   ]
  },
  {
   "cell_type": "code",
   "execution_count": 21,
   "metadata": {},
   "outputs": [
    {
     "data": {
      "text/plain": [
       "51.0"
      ]
     },
     "execution_count": 21,
     "metadata": {},
     "output_type": "execute_result"
    }
   ],
   "source": [
    "# GmSc's range is 51.0\n",
    "diff = gmSc_numeric.max() - gmSc_numeric.min()\n",
    "diff"
   ]
  },
  {
   "cell_type": "code",
   "execution_count": 22,
   "metadata": {},
   "outputs": [
    {
     "data": {
      "image/png": "[encoded data removed]",
      "text/plain": [
       "<Figure size 432x288 with 1 Axes>"
      ]
     },
     "metadata": {
      "needs_background": "light"
     },
     "output_type": "display_data"
    }
   ],
   "source": [
    "# There is a normal distribution for the game score\n",
    "_ = plt.hist(gmSc_numeric, edgecolor=\"w\", bins=30)\n"
   ]
  },
  {
   "cell_type": "markdown",
   "metadata": {},
   "source": [
    "2.5**"
   ]
  },
  {
   "cell_type": "code",
   "execution_count": 23,
   "metadata": {},
   "outputs": [
    {
     "data": {
      "text/html": [
       "<table class=\"simpletable\">\n",
       "<caption>OLS Regression Results</caption>\n",
       "<tr>\n",
       "  <th>Dep. Variable:</th>      <td>gmSc_numeric</td>   <th>  R-squared:         </th> <td>   0.151</td>\n",
       "</tr>\n",
       "<tr>\n",
       "  <th>Model:</th>                   <td>OLS</td>       <th>  Adj. R-squared:    </th> <td>   0.140</td>\n",
       "</tr>\n",
       "<tr>\n",
       "  <th>Method:</th>             <td>Least Squares</td>  <th>  F-statistic:       </th> <td>   13.54</td>\n",
       "</tr>\n",
       "<tr>\n",
       "  <th>Date:</th>             <td>Sun, 20 Feb 2022</td> <th>  Prob (F-statistic):</th> <td>0.000433</td>\n",
       "</tr>\n",
       "<tr>\n",
       "  <th>Time:</th>                 <td>09:13:39</td>     <th>  Log-Likelihood:    </th> <td> -283.80</td>\n",
       "</tr>\n",
       "<tr>\n",
       "  <th>No. Observations:</th>      <td>    78</td>      <th>  AIC:               </th> <td>   571.6</td>\n",
       "</tr>\n",
       "<tr>\n",
       "  <th>Df Residuals:</th>          <td>    76</td>      <th>  BIC:               </th> <td>   576.3</td>\n",
       "</tr>\n",
       "<tr>\n",
       "  <th>Df Model:</th>              <td>     1</td>      <th>                     </th>     <td> </td>   \n",
       "</tr>\n",
       "<tr>\n",
       "  <th>Covariance Type:</th>      <td>nonrobust</td>    <th>                     </th>     <td> </td>   \n",
       "</tr>\n",
       "</table>\n",
       "<table class=\"simpletable\">\n",
       "<tr>\n",
       "       <td></td>          <th>coef</th>     <th>std err</th>      <th>t</th>      <th>P>|t|</th>  <th>[0.025</th>    <th>0.975]</th>  \n",
       "</tr>\n",
       "<tr>\n",
       "  <th>Intercept</th>   <td>   11.5963</td> <td>    4.240</td> <td>    2.735</td> <td> 0.008</td> <td>    3.152</td> <td>   20.041</td>\n",
       "</tr>\n",
       "<tr>\n",
       "  <th>FGA_numeric</th> <td>    0.6175</td> <td>    0.168</td> <td>    3.680</td> <td> 0.000</td> <td>    0.283</td> <td>    0.952</td>\n",
       "</tr>\n",
       "</table>\n",
       "<table class=\"simpletable\">\n",
       "<tr>\n",
       "  <th>Omnibus:</th>       <td> 0.602</td> <th>  Durbin-Watson:     </th> <td>   1.884</td>\n",
       "</tr>\n",
       "<tr>\n",
       "  <th>Prob(Omnibus):</th> <td> 0.740</td> <th>  Jarque-Bera (JB):  </th> <td>   0.739</td>\n",
       "</tr>\n",
       "<tr>\n",
       "  <th>Skew:</th>          <td>-0.137</td> <th>  Prob(JB):          </th> <td>   0.691</td>\n",
       "</tr>\n",
       "<tr>\n",
       "  <th>Kurtosis:</th>      <td> 2.609</td> <th>  Cond. No.          </th> <td>    102.</td>\n",
       "</tr>\n",
       "</table><br/><br/>Notes:<br/>[1] Standard Errors assume that the covariance matrix of the errors is correctly specified."
      ],
      "text/plain": [
       "<class 'statsmodels.iolib.summary.Summary'>\n",
       "\"\"\"\n",
       "                            OLS Regression Results                            \n",
       "==============================================================================\n",
       "Dep. Variable:           gmSc_numeric   R-squared:                       0.151\n",
       "Model:                            OLS   Adj. R-squared:                  0.140\n",
       "Method:                 Least Squares   F-statistic:                     13.54\n",
       "Date:                Sun, 20 Feb 2022   Prob (F-statistic):           0.000433\n",
       "Time:                        09:13:39   Log-Likelihood:                -283.80\n",
       "No. Observations:                  78   AIC:                             571.6\n",
       "Df Residuals:                      76   BIC:                             576.3\n",
       "Df Model:                           1                                         \n",
       "Covariance Type:            nonrobust                                         \n",
       "===============================================================================\n",
       "                  coef    std err          t      P>|t|      [0.025      0.975]\n",
       "-------------------------------------------------------------------------------\n",
       "Intercept      11.5963      4.240      2.735      0.008       3.152      20.041\n",
       "FGA_numeric     0.6175      0.168      3.680      0.000       0.283       0.952\n",
       "==============================================================================\n",
       "Omnibus:                        0.602   Durbin-Watson:                   1.884\n",
       "Prob(Omnibus):                  0.740   Jarque-Bera (JB):                0.739\n",
       "Skew:                          -0.137   Prob(JB):                        0.691\n",
       "Kurtosis:                       2.609   Cond. No.                         102.\n",
       "==============================================================================\n",
       "\n",
       "Notes:\n",
       "[1] Standard Errors assume that the covariance matrix of the errors is correctly specified.\n",
       "\"\"\""
      ]
     },
     "execution_count": 23,
     "metadata": {},
     "output_type": "execute_result"
    }
   ],
   "source": [
    "data = pd.concat([gmSc_numeric, FGA_numeric], axis=1)\n",
    "reg = smf.ols(\"gmSc_numeric ~ FGA_numeric\", data).fit()\n",
    "reg.summary()"
   ]
  },
  {
   "cell_type": "markdown",
   "metadata": {},
   "source": [
    "(a): when FGA(field goal attempts) is 0, the game score is 11.5963\n",
    "\n",
    "(b): if there is one unite increase on FGA(field goal attempts), the game score will go up 0.6175. It is statistically significant since the p value is 0\n"
   ]
  },
  {
   "cell_type": "markdown",
   "metadata": {},
   "source": [
    "2.6**"
   ]
  },
  {
   "cell_type": "code",
   "execution_count": 24,
   "metadata": {},
   "outputs": [
    {
     "data": {
      "text/html": [
       "<table class=\"simpletable\">\n",
       "<caption>OLS Regression Results</caption>\n",
       "<tr>\n",
       "  <th>Dep. Variable:</th>      <td>gmSc_numeric</td>   <th>  R-squared:         </th> <td>   0.573</td>\n",
       "</tr>\n",
       "<tr>\n",
       "  <th>Model:</th>                   <td>OLS</td>       <th>  Adj. R-squared:    </th> <td>   0.562</td>\n",
       "</tr>\n",
       "<tr>\n",
       "  <th>Method:</th>             <td>Least Squares</td>  <th>  F-statistic:       </th> <td>   50.42</td>\n",
       "</tr>\n",
       "<tr>\n",
       "  <th>Date:</th>             <td>Sun, 20 Feb 2022</td> <th>  Prob (F-statistic):</th> <td>1.33e-14</td>\n",
       "</tr>\n",
       "<tr>\n",
       "  <th>Time:</th>                 <td>09:13:40</td>     <th>  Log-Likelihood:    </th> <td> -256.97</td>\n",
       "</tr>\n",
       "<tr>\n",
       "  <th>No. Observations:</th>      <td>    78</td>      <th>  AIC:               </th> <td>   519.9</td>\n",
       "</tr>\n",
       "<tr>\n",
       "  <th>Df Residuals:</th>          <td>    75</td>      <th>  BIC:               </th> <td>   527.0</td>\n",
       "</tr>\n",
       "<tr>\n",
       "  <th>Df Model:</th>              <td>     2</td>      <th>                     </th>     <td> </td>   \n",
       "</tr>\n",
       "<tr>\n",
       "  <th>Covariance Type:</th>      <td>nonrobust</td>    <th>                     </th>     <td> </td>   \n",
       "</tr>\n",
       "</table>\n",
       "<table class=\"simpletable\">\n",
       "<tr>\n",
       "       <td></td>          <th>coef</th>     <th>std err</th>      <th>t</th>      <th>P>|t|</th>  <th>[0.025</th>    <th>0.975]</th>  \n",
       "</tr>\n",
       "<tr>\n",
       "  <th>Intercept</th>   <td>    6.8608</td> <td>    3.075</td> <td>    2.231</td> <td> 0.029</td> <td>    0.735</td> <td>   12.987</td>\n",
       "</tr>\n",
       "<tr>\n",
       "  <th>FGA_numeric</th> <td>   -0.6940</td> <td>    0.194</td> <td>   -3.584</td> <td> 0.001</td> <td>   -1.080</td> <td>   -0.308</td>\n",
       "</tr>\n",
       "<tr>\n",
       "  <th>FG_numeric</th>  <td>    3.4082</td> <td>    0.396</td> <td>    8.616</td> <td> 0.000</td> <td>    2.620</td> <td>    4.196</td>\n",
       "</tr>\n",
       "</table>\n",
       "<table class=\"simpletable\">\n",
       "<tr>\n",
       "  <th>Omnibus:</th>       <td> 2.958</td> <th>  Durbin-Watson:     </th> <td>   1.880</td>\n",
       "</tr>\n",
       "<tr>\n",
       "  <th>Prob(Omnibus):</th> <td> 0.228</td> <th>  Jarque-Bera (JB):  </th> <td>   1.904</td>\n",
       "</tr>\n",
       "<tr>\n",
       "  <th>Skew:</th>          <td> 0.154</td> <th>  Prob(JB):          </th> <td>   0.386</td>\n",
       "</tr>\n",
       "<tr>\n",
       "  <th>Kurtosis:</th>      <td> 2.299</td> <th>  Cond. No.          </th> <td>    113.</td>\n",
       "</tr>\n",
       "</table><br/><br/>Notes:<br/>[1] Standard Errors assume that the covariance matrix of the errors is correctly specified."
      ],
      "text/plain": [
       "<class 'statsmodels.iolib.summary.Summary'>\n",
       "\"\"\"\n",
       "                            OLS Regression Results                            \n",
       "==============================================================================\n",
       "Dep. Variable:           gmSc_numeric   R-squared:                       0.573\n",
       "Model:                            OLS   Adj. R-squared:                  0.562\n",
       "Method:                 Least Squares   F-statistic:                     50.42\n",
       "Date:                Sun, 20 Feb 2022   Prob (F-statistic):           1.33e-14\n",
       "Time:                        09:13:40   Log-Likelihood:                -256.97\n",
       "No. Observations:                  78   AIC:                             519.9\n",
       "Df Residuals:                      75   BIC:                             527.0\n",
       "Df Model:                           2                                         \n",
       "Covariance Type:            nonrobust                                         \n",
       "===============================================================================\n",
       "                  coef    std err          t      P>|t|      [0.025      0.975]\n",
       "-------------------------------------------------------------------------------\n",
       "Intercept       6.8608      3.075      2.231      0.029       0.735      12.987\n",
       "FGA_numeric    -0.6940      0.194     -3.584      0.001      -1.080      -0.308\n",
       "FG_numeric      3.4082      0.396      8.616      0.000       2.620       4.196\n",
       "==============================================================================\n",
       "Omnibus:                        2.958   Durbin-Watson:                   1.880\n",
       "Prob(Omnibus):                  0.228   Jarque-Bera (JB):                1.904\n",
       "Skew:                           0.154   Prob(JB):                        0.386\n",
       "Kurtosis:                       2.299   Cond. No.                         113.\n",
       "==============================================================================\n",
       "\n",
       "Notes:\n",
       "[1] Standard Errors assume that the covariance matrix of the errors is correctly specified.\n",
       "\"\"\""
      ]
     },
     "execution_count": 24,
     "metadata": {},
     "output_type": "execute_result"
    }
   ],
   "source": [
    "data = pd.concat([gmSc_numeric, FGA_numeric, FG_numeric], axis=1)\n",
    "reg = smf.ols(\"gmSc_numeric ~ FGA_numeric + FG_numeric\", data).fit()\n",
    "reg.summary()"
   ]
  },
  {
   "cell_type": "markdown",
   "metadata": {},
   "source": [
    "(a): \n",
    " if there is one unite increase on FGA(field goal attempts), the game score will go down 0.6175 (holding other constants unchanged). Yes it is statistically sgnificant beacuse the p value is very small (close to 0)\n",
    "\n",
    "(b):\n",
    " if there is one unite increase on FG(field goal), the game score will go up 3.4082 (holding other constants unchanged). Yes it is statistically sgnificant beacuse the p value is 0\n",
    "\n",
    "(c):\n",
    "\"Game score\" is a measure of player's performance. It is not the same thing as the points a team gets.  The teams' points cannot go down, but players performance measure can go up and down, depending on what they do. That's why we can see the changes on FGA. \n",
    "\n",
    "(d): \n"
   ]
  },
  {
   "cell_type": "markdown",
   "metadata": {},
   "source": [
    "2.7"
   ]
  },
  {
   "cell_type": "code",
   "execution_count": 48,
   "metadata": {},
   "outputs": [
    {
     "data": {
      "text/html": [
       "<table class=\"simpletable\">\n",
       "<caption>OLS Regression Results</caption>\n",
       "<tr>\n",
       "  <th>Dep. Variable:</th>          <td>GmSc</td>       <th>  R-squared:         </th> <td>   1.000</td> \n",
       "</tr>\n",
       "<tr>\n",
       "  <th>Model:</th>                   <td>OLS</td>       <th>  Adj. R-squared:    </th> <td>   1.000</td> \n",
       "</tr>\n",
       "<tr>\n",
       "  <th>Method:</th>             <td>Least Squares</td>  <th>  F-statistic:       </th> <td>3.327e+28</td>\n",
       "</tr>\n",
       "<tr>\n",
       "  <th>Date:</th>             <td>Sun, 20 Feb 2022</td> <th>  Prob (F-statistic):</th>  <td>  0.00</td>  \n",
       "</tr>\n",
       "<tr>\n",
       "  <th>Time:</th>                 <td>09:26:44</td>     <th>  Log-Likelihood:    </th> <td>  2208.9</td> \n",
       "</tr>\n",
       "<tr>\n",
       "  <th>No. Observations:</th>      <td>    78</td>      <th>  AIC:               </th> <td>  -4390.</td> \n",
       "</tr>\n",
       "<tr>\n",
       "  <th>Df Residuals:</th>          <td>    64</td>      <th>  BIC:               </th> <td>  -4357.</td> \n",
       "</tr>\n",
       "<tr>\n",
       "  <th>Df Model:</th>              <td>    13</td>      <th>                     </th>     <td> </td>    \n",
       "</tr>\n",
       "<tr>\n",
       "  <th>Covariance Type:</th>      <td>nonrobust</td>    <th>                     </th>     <td> </td>    \n",
       "</tr>\n",
       "</table>\n",
       "<table class=\"simpletable\">\n",
       "<tr>\n",
       "      <td></td>         <th>coef</th>     <th>std err</th>      <th>t</th>      <th>P>|t|</th>  <th>[0.025</th>    <th>0.975]</th>  \n",
       "</tr>\n",
       "<tr>\n",
       "  <th>Intercept</th> <td> 2.132e-14</td> <td>  9.5e-14</td> <td>    0.224</td> <td> 0.823</td> <td>-1.69e-13</td> <td> 2.11e-13</td>\n",
       "</tr>\n",
       "<tr>\n",
       "  <th>FGA</th>       <td>   -0.7000</td> <td> 6.66e-15</td> <td>-1.05e+14</td> <td> 0.000</td> <td>   -0.700</td> <td>   -0.700</td>\n",
       "</tr>\n",
       "<tr>\n",
       "  <th>FG</th>        <td>    2.4000</td> <td> 1.15e-14</td> <td> 2.08e+14</td> <td> 0.000</td> <td>    2.400</td> <td>    2.400</td>\n",
       "</tr>\n",
       "<tr>\n",
       "  <th>ThreeP</th>    <td>    1.0000</td> <td> 1.28e-14</td> <td> 7.79e+13</td> <td> 0.000</td> <td>    1.000</td> <td>    1.000</td>\n",
       "</tr>\n",
       "<tr>\n",
       "  <th>ThreePA</th>   <td>-1.998e-15</td> <td> 8.68e-15</td> <td>   -0.230</td> <td> 0.819</td> <td>-1.93e-14</td> <td> 1.53e-14</td>\n",
       "</tr>\n",
       "<tr>\n",
       "  <th>FT</th>        <td>    1.4000</td> <td> 1.51e-14</td> <td> 9.24e+13</td> <td> 0.000</td> <td>    1.400</td> <td>    1.400</td>\n",
       "</tr>\n",
       "<tr>\n",
       "  <th>FTA</th>       <td>   -0.4000</td> <td> 1.37e-14</td> <td>-2.92e+13</td> <td> 0.000</td> <td>   -0.400</td> <td>   -0.400</td>\n",
       "</tr>\n",
       "<tr>\n",
       "  <th>ORB</th>       <td>    0.7000</td> <td> 1.77e-14</td> <td> 3.95e+13</td> <td> 0.000</td> <td>    0.700</td> <td>    0.700</td>\n",
       "</tr>\n",
       "<tr>\n",
       "  <th>DRB</th>       <td>    0.3000</td> <td> 6.64e-15</td> <td> 4.52e+13</td> <td> 0.000</td> <td>    0.300</td> <td>    0.300</td>\n",
       "</tr>\n",
       "<tr>\n",
       "  <th>AST</th>       <td>    0.7000</td> <td> 4.96e-15</td> <td> 1.41e+14</td> <td> 0.000</td> <td>    0.700</td> <td>    0.700</td>\n",
       "</tr>\n",
       "<tr>\n",
       "  <th>STL</th>       <td>    1.0000</td> <td> 1.13e-14</td> <td> 8.85e+13</td> <td> 0.000</td> <td>    1.000</td> <td>    1.000</td>\n",
       "</tr>\n",
       "<tr>\n",
       "  <th>BLK</th>       <td>    0.7000</td> <td> 2.06e-14</td> <td>  3.4e+13</td> <td> 0.000</td> <td>    0.700</td> <td>    0.700</td>\n",
       "</tr>\n",
       "<tr>\n",
       "  <th>TOV</th>       <td>   -1.0000</td> <td> 8.38e-15</td> <td>-1.19e+14</td> <td> 0.000</td> <td>   -1.000</td> <td>   -1.000</td>\n",
       "</tr>\n",
       "<tr>\n",
       "  <th>PF</th>        <td>   -0.4000</td> <td> 1.27e-14</td> <td>-3.15e+13</td> <td> 0.000</td> <td>   -0.400</td> <td>   -0.400</td>\n",
       "</tr>\n",
       "</table>\n",
       "<table class=\"simpletable\">\n",
       "<tr>\n",
       "  <th>Omnibus:</th>       <td>11.719</td> <th>  Durbin-Watson:     </th> <td>   0.062</td>\n",
       "</tr>\n",
       "<tr>\n",
       "  <th>Prob(Omnibus):</th> <td> 0.003</td> <th>  Jarque-Bera (JB):  </th> <td>   3.512</td>\n",
       "</tr>\n",
       "<tr>\n",
       "  <th>Skew:</th>          <td> 0.016</td> <th>  Prob(JB):          </th> <td>   0.173</td>\n",
       "</tr>\n",
       "<tr>\n",
       "  <th>Kurtosis:</th>      <td> 1.961</td> <th>  Cond. No.          </th> <td>    228.</td>\n",
       "</tr>\n",
       "</table><br/><br/>Notes:<br/>[1] Standard Errors assume that the covariance matrix of the errors is correctly specified."
      ],
      "text/plain": [
       "<class 'statsmodels.iolib.summary.Summary'>\n",
       "\"\"\"\n",
       "                            OLS Regression Results                            \n",
       "==============================================================================\n",
       "Dep. Variable:                   GmSc   R-squared:                       1.000\n",
       "Model:                            OLS   Adj. R-squared:                  1.000\n",
       "Method:                 Least Squares   F-statistic:                 3.327e+28\n",
       "Date:                Sun, 20 Feb 2022   Prob (F-statistic):               0.00\n",
       "Time:                        09:26:44   Log-Likelihood:                 2208.9\n",
       "No. Observations:                  78   AIC:                            -4390.\n",
       "Df Residuals:                      64   BIC:                            -4357.\n",
       "Df Model:                          13                                         \n",
       "Covariance Type:            nonrobust                                         \n",
       "==============================================================================\n",
       "                 coef    std err          t      P>|t|      [0.025      0.975]\n",
       "------------------------------------------------------------------------------\n",
       "Intercept   2.132e-14    9.5e-14      0.224      0.823   -1.69e-13    2.11e-13\n",
       "FGA           -0.7000   6.66e-15  -1.05e+14      0.000      -0.700      -0.700\n",
       "FG             2.4000   1.15e-14   2.08e+14      0.000       2.400       2.400\n",
       "ThreeP         1.0000   1.28e-14   7.79e+13      0.000       1.000       1.000\n",
       "ThreePA    -1.998e-15   8.68e-15     -0.230      0.819   -1.93e-14    1.53e-14\n",
       "FT             1.4000   1.51e-14   9.24e+13      0.000       1.400       1.400\n",
       "FTA           -0.4000   1.37e-14  -2.92e+13      0.000      -0.400      -0.400\n",
       "ORB            0.7000   1.77e-14   3.95e+13      0.000       0.700       0.700\n",
       "DRB            0.3000   6.64e-15   4.52e+13      0.000       0.300       0.300\n",
       "AST            0.7000   4.96e-15   1.41e+14      0.000       0.700       0.700\n",
       "STL            1.0000   1.13e-14   8.85e+13      0.000       1.000       1.000\n",
       "BLK            0.7000   2.06e-14    3.4e+13      0.000       0.700       0.700\n",
       "TOV           -1.0000   8.38e-15  -1.19e+14      0.000      -1.000      -1.000\n",
       "PF            -0.4000   1.27e-14  -3.15e+13      0.000      -0.400      -0.400\n",
       "==============================================================================\n",
       "Omnibus:                       11.719   Durbin-Watson:                   0.062\n",
       "Prob(Omnibus):                  0.003   Jarque-Bera (JB):                3.512\n",
       "Skew:                           0.016   Prob(JB):                        0.173\n",
       "Kurtosis:                       1.961   Cond. No.                         228.\n",
       "==============================================================================\n",
       "\n",
       "Notes:\n",
       "[1] Standard Errors assume that the covariance matrix of the errors is correctly specified.\n",
       "\"\"\""
      ]
     },
     "execution_count": 48,
     "metadata": {},
     "output_type": "execute_result"
    }
   ],
   "source": [
    "active = active[[\"FG\", \"FGA\",\"3P\",\"3PA\",\"FT\",\"FTA\",\"ORB\",\n",
    "                 \"DRB\",\"AST\",\"STL\",\"BLK\",\"TOV\",\"PF\",\"GmSc\"]].apply(pd.to_numeric)\n",
    "active_new = active.rename(columns={'3P':'ThreeP', '3PA':'ThreePA'})\n",
    "\n",
    "reg = smf.ols(\"GmSc ~ FGA + FG + ThreeP + ThreePA + FT + FTA + ORB + DRB + AST + STL + BLK + TOV + PF\", active_new).fit()\n",
    "reg.summary()"
   ]
  },
  {
   "cell_type": "markdown",
   "metadata": {},
   "source": [
    "(a):\n",
    "Both the stds and t-vlaues are very small in this model\n",
    "\n",
    "(b):\n",
    "\n",
    "(c):\n"
   ]
  },
  {
   "cell_type": "markdown",
   "metadata": {},
   "source": [
    "2.8"
   ]
  },
  {
   "cell_type": "markdown",
   "metadata": {},
   "source": [
    "Yes! I did recover the same formula"
   ]
  },
  {
   "cell_type": "markdown",
   "metadata": {},
   "source": [
    "## 3 Interpret regression results in the literature"
   ]
  },
  {
   "cell_type": "markdown",
   "metadata": {},
   "source": [
    "3.1\n",
    "\n",
    "According to the regression table, people who have a partner do have better mental health. However, this effect is not statistically significant since the p-value is quite large (0.150)"
   ]
  },
  {
   "cell_type": "markdown",
   "metadata": {},
   "source": [
    "3.2\n",
    "\n",
    "According to the regression table, people who COVID exposure do not have better mental health. It is worsen the mental health. However, this effect is not statistically significant since the p-value is quite large (0.129)"
   ]
  },
  {
   "cell_type": "markdown",
   "metadata": {},
   "source": [
    "3.3\n",
    "\n",
    "According to the regression table, financial distress and mental health has a postive relationship. That means that, when there is more financial distress, the mental health will be worsening. This effect is statistically significant becasue the p-value is very small (< 0.001)."
   ]
  },
  {
   "cell_type": "markdown",
   "metadata": {},
   "source": [
    "## Total hours: 15 hours "
   ]
  },
  {
   "cell_type": "code",
   "execution_count": null,
   "metadata": {},
   "outputs": [],
   "source": []
  }
 ],
 "metadata": {
  "kernelspec": {
   "display_name": "Python 3",
   "language": "python",
   "name": "python3"
  },
  "language_info": {
   "codemirror_mode": {
    "name": "ipython",
    "version": 3
   },
   "file_extension": ".py",
   "mimetype": "text/x-python",
   "name": "python",
   "nbconvert_exporter": "python",
   "pygments_lexer": "ipython3",
   "version": "3.8.5"
  }
 },
 "nbformat": 4,
 "nbformat_minor": 4
}

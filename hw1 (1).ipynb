{
 "cells": [
  {
   "cell_type": "markdown",
   "id": "d04d9d23",
   "metadata": {},
   "source": [
    "# Hongyi Tang HW1"
   ]
  },
  {
   "cell_type": "markdown",
   "id": "59fda616",
   "metadata": {},
   "source": [
    "# 1.List"
   ]
  },
  {
   "cell_type": "markdown",
   "id": "850eb50c",
   "metadata": {},
   "source": [
    "1.1"
   ]
  },
  {
   "cell_type": "code",
   "execution_count": 2,
   "id": "9a7190c0",
   "metadata": {},
   "outputs": [],
   "source": [
    "movies = [\"Spider Man\", \"Moonlight\", \"The Holiday\", \"Iron Man\", \"Slience\", \"Conjuring\"]"
   ]
  },
  {
   "cell_type": "markdown",
   "id": "40df0cc9",
   "metadata": {},
   "source": [
    "1.2"
   ]
  },
  {
   "cell_type": "code",
   "execution_count": 4,
   "id": "b941cfbc",
   "metadata": {},
   "outputs": [
    {
     "data": {
      "text/plain": [
       "['Spider Man', 'Moonlight', 'The Holiday']"
      ]
     },
     "execution_count": 4,
     "metadata": {},
     "output_type": "execute_result"
    }
   ],
   "source": [
    "first_three = movies[0:3]\n",
    "first_three"
   ]
  },
  {
   "cell_type": "markdown",
   "id": "fe232cb6",
   "metadata": {},
   "source": [
    "1.3"
   ]
  },
  {
   "cell_type": "code",
   "execution_count": 14,
   "id": "68403436",
   "metadata": {},
   "outputs": [
    {
     "data": {
      "text/plain": [
       "['Spider Man', 'Moonlight', 'Slience', 'Conjuring']"
      ]
     },
     "execution_count": 14,
     "metadata": {},
     "output_type": "execute_result"
    }
   ],
   "source": [
    "new_list = movies[0:2] + movies[-2:]\n",
    "new_list"
   ]
  },
  {
   "cell_type": "markdown",
   "id": "ffffea5a",
   "metadata": {},
   "source": [
    "# 2. Loops"
   ]
  },
  {
   "cell_type": "markdown",
   "id": "d09e35e3",
   "metadata": {},
   "source": [
    "2.1"
   ]
  },
  {
   "cell_type": "code",
   "execution_count": 17,
   "id": "53abaad7",
   "metadata": {},
   "outputs": [
    {
     "data": {
      "text/plain": [
       "[70, 71, 72, 73, 74, 75, 76, 77, 78, 79]"
      ]
     },
     "execution_count": 17,
     "metadata": {},
     "output_type": "execute_result"
    }
   ],
   "source": [
    "numbers = []\n",
    "for i in range(70,80):\n",
    "    numbers.append(i)\n",
    "numbers"
   ]
  },
  {
   "cell_type": "markdown",
   "id": "a8913d63",
   "metadata": {},
   "source": [
    "2.2"
   ]
  },
  {
   "cell_type": "code",
   "execution_count": 20,
   "id": "28973b3c",
   "metadata": {},
   "outputs": [
    {
     "data": {
      "text/plain": [
       "5050"
      ]
     },
     "execution_count": 20,
     "metadata": {},
     "output_type": "execute_result"
    }
   ],
   "source": [
    "sum = 0 \n",
    "for i in range(0,101):\n",
    "    sum+=i\n",
    "sum"
   ]
  },
  {
   "cell_type": "markdown",
   "id": "7a78d857",
   "metadata": {},
   "source": [
    "2.3"
   ]
  },
  {
   "cell_type": "code",
   "execution_count": 40,
   "id": "a8963816",
   "metadata": {},
   "outputs": [
    {
     "name": "stdout",
     "output_type": "stream",
     "text": [
      "Adam: 33\n",
      "Ashin: 12\n",
      "Inukai: 45\n",
      "Tanaka: 2\n",
      "Ikki: 17\n"
     ]
    }
   ],
   "source": [
    "seats = {\"Adam\":33, \"Ashin\":12, \"Inukai\":45, \"Tanaka\":2, \"Ikki\":17}\n",
    "for i in seats.keys():\n",
    "    print(i + \": \" + str(seats[i]))"
   ]
  },
  {
   "cell_type": "markdown",
   "id": "1c02f699",
   "metadata": {},
   "source": [
    "# 3. Comprehesions"
   ]
  },
  {
   "cell_type": "markdown",
   "id": "8e5dc514",
   "metadata": {},
   "source": [
    "3.1"
   ]
  },
  {
   "cell_type": "code",
   "execution_count": 45,
   "id": "c2784460",
   "metadata": {},
   "outputs": [
    {
     "data": {
      "text/plain": [
       "[1, 4, 9, 16, 25, 36, 49, 64, 81, 100]"
      ]
     },
     "execution_count": 45,
     "metadata": {},
     "output_type": "execute_result"
    }
   ],
   "source": [
    "sq_numbers = [num**2 for num in range(1,11)]\n",
    "sq_numbers"
   ]
  },
  {
   "cell_type": "markdown",
   "id": "103de64f",
   "metadata": {},
   "source": [
    "3.2"
   ]
  },
  {
   "cell_type": "code",
   "execution_count": 46,
   "id": "bb3467ae",
   "metadata": {},
   "outputs": [
    {
     "data": {
      "text/plain": [
       "{1: 1, 2: 4, 3: 9, 4: 16, 5: 25, 6: 36, 7: 49, 8: 64, 9: 81, 10: 100}"
      ]
     },
     "execution_count": 46,
     "metadata": {},
     "output_type": "execute_result"
    }
   ],
   "source": [
    "double_numbers = {k:k**2 for k in range(1,11)}\n",
    "double_numbers"
   ]
  },
  {
   "cell_type": "markdown",
   "id": "92d5951f",
   "metadata": {},
   "source": [
    "# 4. Functions and Data Transformation"
   ]
  },
  {
   "cell_type": "markdown",
   "id": "7ed5be49",
   "metadata": {},
   "source": [
    "4.1"
   ]
  },
  {
   "cell_type": "code",
   "execution_count": 53,
   "id": "e28f15db",
   "metadata": {},
   "outputs": [],
   "source": [
    "def timeTransformation(t):\n",
    "    hours = t//100\n",
    "    mins = t%100/60\n",
    "    return mins+hours"
   ]
  },
  {
   "cell_type": "code",
   "execution_count": 54,
   "id": "1ab66d9d",
   "metadata": {},
   "outputs": [
    {
     "data": {
      "text/plain": [
       "3.75"
      ]
     },
     "execution_count": 54,
     "metadata": {},
     "output_type": "execute_result"
    }
   ],
   "source": [
    "timeTransformation(345)"
   ]
  },
  {
   "cell_type": "code",
   "execution_count": 55,
   "id": "bffa7fc7",
   "metadata": {},
   "outputs": [
    {
     "data": {
      "text/plain": [
       "10.25"
      ]
     },
     "execution_count": 55,
     "metadata": {},
     "output_type": "execute_result"
    }
   ],
   "source": [
    "timeTransformation(1015)"
   ]
  },
  {
   "cell_type": "markdown",
   "id": "cdd08de3",
   "metadata": {},
   "source": [
    "# 5. Load Data"
   ]
  },
  {
   "cell_type": "code",
   "execution_count": 2,
   "id": "a7bf7c5c",
   "metadata": {},
   "outputs": [],
   "source": [
    "import pandas as pd\n",
    "import numpy as np"
   ]
  },
  {
   "cell_type": "markdown",
   "id": "462bdf22",
   "metadata": {},
   "source": [
    "5.1"
   ]
  },
  {
   "cell_type": "code",
   "execution_count": 3,
   "id": "7430422f",
   "metadata": {},
   "outputs": [
    {
     "data": {
      "text/html": [
       "<div>\n",
       "<style scoped>\n",
       "    .dataframe tbody tr th:only-of-type {\n",
       "        vertical-align: middle;\n",
       "    }\n",
       "\n",
       "    .dataframe tbody tr th {\n",
       "        vertical-align: top;\n",
       "    }\n",
       "\n",
       "    .dataframe thead th {\n",
       "        text-align: right;\n",
       "    }\n",
       "</style>\n",
       "<table border=\"1\" class=\"dataframe\">\n",
       "  <thead>\n",
       "    <tr style=\"text-align: right;\">\n",
       "      <th></th>\n",
       "      <th>iso3</th>\n",
       "      <th>name</th>\n",
       "      <th>iso2</th>\n",
       "      <th>region</th>\n",
       "      <th>sub-region</th>\n",
       "      <th>intermediate-region</th>\n",
       "      <th>time</th>\n",
       "      <th>totalPopulation</th>\n",
       "      <th>fertilityRate</th>\n",
       "      <th>lifeExpectancy</th>\n",
       "      <th>...</th>\n",
       "      <th>accessElectricity</th>\n",
       "      <th>agriculturalLand</th>\n",
       "      <th>agricultureTractors</th>\n",
       "      <th>cerealProduction</th>\n",
       "      <th>fertilizerHa</th>\n",
       "      <th>co2</th>\n",
       "      <th>greenhouseGases</th>\n",
       "      <th>co2_PC</th>\n",
       "      <th>pm2.5_35</th>\n",
       "      <th>battleDeaths</th>\n",
       "    </tr>\n",
       "  </thead>\n",
       "  <tbody>\n",
       "    <tr>\n",
       "      <th>0</th>\n",
       "      <td>ABW</td>\n",
       "      <td>Aruba</td>\n",
       "      <td>AW</td>\n",
       "      <td>Americas</td>\n",
       "      <td>Latin America and the Caribbean</td>\n",
       "      <td>Caribbean</td>\n",
       "      <td>1960.0</td>\n",
       "      <td>54211.0</td>\n",
       "      <td>4.820</td>\n",
       "      <td>65.662</td>\n",
       "      <td>...</td>\n",
       "      <td>NaN</td>\n",
       "      <td>NaN</td>\n",
       "      <td>NaN</td>\n",
       "      <td>NaN</td>\n",
       "      <td>NaN</td>\n",
       "      <td>11092.675</td>\n",
       "      <td>NaN</td>\n",
       "      <td>204.62037</td>\n",
       "      <td>NaN</td>\n",
       "      <td>NaN</td>\n",
       "    </tr>\n",
       "    <tr>\n",
       "      <th>1</th>\n",
       "      <td>ABW</td>\n",
       "      <td>Aruba</td>\n",
       "      <td>AW</td>\n",
       "      <td>Americas</td>\n",
       "      <td>Latin America and the Caribbean</td>\n",
       "      <td>Caribbean</td>\n",
       "      <td>1961.0</td>\n",
       "      <td>55438.0</td>\n",
       "      <td>4.655</td>\n",
       "      <td>66.074</td>\n",
       "      <td>...</td>\n",
       "      <td>NaN</td>\n",
       "      <td>20.0</td>\n",
       "      <td>NaN</td>\n",
       "      <td>NaN</td>\n",
       "      <td>NaN</td>\n",
       "      <td>11576.719</td>\n",
       "      <td>NaN</td>\n",
       "      <td>208.82281</td>\n",
       "      <td>NaN</td>\n",
       "      <td>NaN</td>\n",
       "    </tr>\n",
       "    <tr>\n",
       "      <th>2</th>\n",
       "      <td>ABW</td>\n",
       "      <td>Aruba</td>\n",
       "      <td>AW</td>\n",
       "      <td>Americas</td>\n",
       "      <td>Latin America and the Caribbean</td>\n",
       "      <td>Caribbean</td>\n",
       "      <td>1962.0</td>\n",
       "      <td>56225.0</td>\n",
       "      <td>4.471</td>\n",
       "      <td>66.444</td>\n",
       "      <td>...</td>\n",
       "      <td>NaN</td>\n",
       "      <td>20.0</td>\n",
       "      <td>NaN</td>\n",
       "      <td>NaN</td>\n",
       "      <td>NaN</td>\n",
       "      <td>12713.489</td>\n",
       "      <td>NaN</td>\n",
       "      <td>226.11808</td>\n",
       "      <td>NaN</td>\n",
       "      <td>NaN</td>\n",
       "    </tr>\n",
       "    <tr>\n",
       "      <th>3</th>\n",
       "      <td>ABW</td>\n",
       "      <td>Aruba</td>\n",
       "      <td>AW</td>\n",
       "      <td>Americas</td>\n",
       "      <td>Latin America and the Caribbean</td>\n",
       "      <td>Caribbean</td>\n",
       "      <td>1963.0</td>\n",
       "      <td>56695.0</td>\n",
       "      <td>4.271</td>\n",
       "      <td>66.787</td>\n",
       "      <td>...</td>\n",
       "      <td>NaN</td>\n",
       "      <td>20.0</td>\n",
       "      <td>NaN</td>\n",
       "      <td>NaN</td>\n",
       "      <td>NaN</td>\n",
       "      <td>12178.107</td>\n",
       "      <td>NaN</td>\n",
       "      <td>214.80037</td>\n",
       "      <td>NaN</td>\n",
       "      <td>NaN</td>\n",
       "    </tr>\n",
       "    <tr>\n",
       "      <th>4</th>\n",
       "      <td>ABW</td>\n",
       "      <td>Aruba</td>\n",
       "      <td>AW</td>\n",
       "      <td>Americas</td>\n",
       "      <td>Latin America and the Caribbean</td>\n",
       "      <td>Caribbean</td>\n",
       "      <td>1964.0</td>\n",
       "      <td>57032.0</td>\n",
       "      <td>4.059</td>\n",
       "      <td>67.113</td>\n",
       "      <td>...</td>\n",
       "      <td>NaN</td>\n",
       "      <td>20.0</td>\n",
       "      <td>NaN</td>\n",
       "      <td>NaN</td>\n",
       "      <td>NaN</td>\n",
       "      <td>11840.743</td>\n",
       "      <td>NaN</td>\n",
       "      <td>207.61578</td>\n",
       "      <td>NaN</td>\n",
       "      <td>NaN</td>\n",
       "    </tr>\n",
       "    <tr>\n",
       "      <th>...</th>\n",
       "      <td>...</td>\n",
       "      <td>...</td>\n",
       "      <td>...</td>\n",
       "      <td>...</td>\n",
       "      <td>...</td>\n",
       "      <td>...</td>\n",
       "      <td>...</td>\n",
       "      <td>...</td>\n",
       "      <td>...</td>\n",
       "      <td>...</td>\n",
       "      <td>...</td>\n",
       "      <td>...</td>\n",
       "      <td>...</td>\n",
       "      <td>...</td>\n",
       "      <td>...</td>\n",
       "      <td>...</td>\n",
       "      <td>...</td>\n",
       "      <td>...</td>\n",
       "      <td>...</td>\n",
       "      <td>...</td>\n",
       "      <td>...</td>\n",
       "    </tr>\n",
       "    <tr>\n",
       "      <th>13050</th>\n",
       "      <td>ZWE</td>\n",
       "      <td>Zimbabwe</td>\n",
       "      <td>ZW</td>\n",
       "      <td>Africa</td>\n",
       "      <td>Sub-Saharan Africa</td>\n",
       "      <td>Eastern Africa</td>\n",
       "      <td>2015.0</td>\n",
       "      <td>13814629.0</td>\n",
       "      <td>3.896</td>\n",
       "      <td>59.534</td>\n",
       "      <td>...</td>\n",
       "      <td>33.70000</td>\n",
       "      <td>162000.0</td>\n",
       "      <td>NaN</td>\n",
       "      <td>799405.0</td>\n",
       "      <td>22.90</td>\n",
       "      <td>12317.453</td>\n",
       "      <td>NaN</td>\n",
       "      <td>0.89162</td>\n",
       "      <td>0.0</td>\n",
       "      <td>NaN</td>\n",
       "    </tr>\n",
       "    <tr>\n",
       "      <th>13051</th>\n",
       "      <td>ZWE</td>\n",
       "      <td>Zimbabwe</td>\n",
       "      <td>ZW</td>\n",
       "      <td>Africa</td>\n",
       "      <td>Sub-Saharan Africa</td>\n",
       "      <td>Eastern Africa</td>\n",
       "      <td>2016.0</td>\n",
       "      <td>14030390.0</td>\n",
       "      <td>3.804</td>\n",
       "      <td>60.294</td>\n",
       "      <td>...</td>\n",
       "      <td>39.67623</td>\n",
       "      <td>162000.0</td>\n",
       "      <td>NaN</td>\n",
       "      <td>675062.0</td>\n",
       "      <td>32.50</td>\n",
       "      <td>10982.665</td>\n",
       "      <td>NaN</td>\n",
       "      <td>0.78278</td>\n",
       "      <td>0.0</td>\n",
       "      <td>NaN</td>\n",
       "    </tr>\n",
       "    <tr>\n",
       "      <th>13052</th>\n",
       "      <td>ZWE</td>\n",
       "      <td>Zimbabwe</td>\n",
       "      <td>ZW</td>\n",
       "      <td>Africa</td>\n",
       "      <td>Sub-Saharan Africa</td>\n",
       "      <td>Eastern Africa</td>\n",
       "      <td>2017.0</td>\n",
       "      <td>14236745.0</td>\n",
       "      <td>3.707</td>\n",
       "      <td>60.812</td>\n",
       "      <td>...</td>\n",
       "      <td>40.14428</td>\n",
       "      <td>162000.0</td>\n",
       "      <td>NaN</td>\n",
       "      <td>895073.0</td>\n",
       "      <td>38.35</td>\n",
       "      <td>NaN</td>\n",
       "      <td>NaN</td>\n",
       "      <td>NaN</td>\n",
       "      <td>0.0</td>\n",
       "      <td>NaN</td>\n",
       "    </tr>\n",
       "    <tr>\n",
       "      <th>13053</th>\n",
       "      <td>ZWE</td>\n",
       "      <td>Zimbabwe</td>\n",
       "      <td>ZW</td>\n",
       "      <td>Africa</td>\n",
       "      <td>Sub-Saharan Africa</td>\n",
       "      <td>Eastern Africa</td>\n",
       "      <td>2018.0</td>\n",
       "      <td>14439018.0</td>\n",
       "      <td>3.615</td>\n",
       "      <td>61.195</td>\n",
       "      <td>...</td>\n",
       "      <td>40.61636</td>\n",
       "      <td>162000.0</td>\n",
       "      <td>NaN</td>\n",
       "      <td>950627.0</td>\n",
       "      <td>38.35</td>\n",
       "      <td>NaN</td>\n",
       "      <td>NaN</td>\n",
       "      <td>NaN</td>\n",
       "      <td>NaN</td>\n",
       "      <td>NaN</td>\n",
       "    </tr>\n",
       "    <tr>\n",
       "      <th>13054</th>\n",
       "      <td>ZWE</td>\n",
       "      <td>Zimbabwe</td>\n",
       "      <td>ZW</td>\n",
       "      <td>Africa</td>\n",
       "      <td>Sub-Saharan Africa</td>\n",
       "      <td>Eastern Africa</td>\n",
       "      <td>2019.0</td>\n",
       "      <td>14645468.0</td>\n",
       "      <td>3.531</td>\n",
       "      <td>61.490</td>\n",
       "      <td>...</td>\n",
       "      <td>41.08911</td>\n",
       "      <td>NaN</td>\n",
       "      <td>NaN</td>\n",
       "      <td>NaN</td>\n",
       "      <td>NaN</td>\n",
       "      <td>NaN</td>\n",
       "      <td>NaN</td>\n",
       "      <td>NaN</td>\n",
       "      <td>NaN</td>\n",
       "      <td>NaN</td>\n",
       "    </tr>\n",
       "  </tbody>\n",
       "</table>\n",
       "<p>13055 rows × 25 columns</p>\n",
       "</div>"
      ],
      "text/plain": [
       "      iso3      name iso2    region                       sub-region  \\\n",
       "0      ABW     Aruba   AW  Americas  Latin America and the Caribbean   \n",
       "1      ABW     Aruba   AW  Americas  Latin America and the Caribbean   \n",
       "2      ABW     Aruba   AW  Americas  Latin America and the Caribbean   \n",
       "3      ABW     Aruba   AW  Americas  Latin America and the Caribbean   \n",
       "4      ABW     Aruba   AW  Americas  Latin America and the Caribbean   \n",
       "...    ...       ...  ...       ...                              ...   \n",
       "13050  ZWE  Zimbabwe   ZW    Africa               Sub-Saharan Africa   \n",
       "13051  ZWE  Zimbabwe   ZW    Africa               Sub-Saharan Africa   \n",
       "13052  ZWE  Zimbabwe   ZW    Africa               Sub-Saharan Africa   \n",
       "13053  ZWE  Zimbabwe   ZW    Africa               Sub-Saharan Africa   \n",
       "13054  ZWE  Zimbabwe   ZW    Africa               Sub-Saharan Africa   \n",
       "\n",
       "      intermediate-region    time  totalPopulation  fertilityRate  \\\n",
       "0               Caribbean  1960.0          54211.0          4.820   \n",
       "1               Caribbean  1961.0          55438.0          4.655   \n",
       "2               Caribbean  1962.0          56225.0          4.471   \n",
       "3               Caribbean  1963.0          56695.0          4.271   \n",
       "4               Caribbean  1964.0          57032.0          4.059   \n",
       "...                   ...     ...              ...            ...   \n",
       "13050      Eastern Africa  2015.0       13814629.0          3.896   \n",
       "13051      Eastern Africa  2016.0       14030390.0          3.804   \n",
       "13052      Eastern Africa  2017.0       14236745.0          3.707   \n",
       "13053      Eastern Africa  2018.0       14439018.0          3.615   \n",
       "13054      Eastern Africa  2019.0       14645468.0          3.531   \n",
       "\n",
       "       lifeExpectancy  ...  accessElectricity  agriculturalLand  \\\n",
       "0              65.662  ...                NaN               NaN   \n",
       "1              66.074  ...                NaN              20.0   \n",
       "2              66.444  ...                NaN              20.0   \n",
       "3              66.787  ...                NaN              20.0   \n",
       "4              67.113  ...                NaN              20.0   \n",
       "...               ...  ...                ...               ...   \n",
       "13050          59.534  ...           33.70000          162000.0   \n",
       "13051          60.294  ...           39.67623          162000.0   \n",
       "13052          60.812  ...           40.14428          162000.0   \n",
       "13053          61.195  ...           40.61636          162000.0   \n",
       "13054          61.490  ...           41.08911               NaN   \n",
       "\n",
       "       agricultureTractors  cerealProduction  fertilizerHa        co2  \\\n",
       "0                      NaN               NaN           NaN  11092.675   \n",
       "1                      NaN               NaN           NaN  11576.719   \n",
       "2                      NaN               NaN           NaN  12713.489   \n",
       "3                      NaN               NaN           NaN  12178.107   \n",
       "4                      NaN               NaN           NaN  11840.743   \n",
       "...                    ...               ...           ...        ...   \n",
       "13050                  NaN          799405.0         22.90  12317.453   \n",
       "13051                  NaN          675062.0         32.50  10982.665   \n",
       "13052                  NaN          895073.0         38.35        NaN   \n",
       "13053                  NaN          950627.0         38.35        NaN   \n",
       "13054                  NaN               NaN           NaN        NaN   \n",
       "\n",
       "       greenhouseGases     co2_PC  pm2.5_35  battleDeaths  \n",
       "0                  NaN  204.62037       NaN           NaN  \n",
       "1                  NaN  208.82281       NaN           NaN  \n",
       "2                  NaN  226.11808       NaN           NaN  \n",
       "3                  NaN  214.80037       NaN           NaN  \n",
       "4                  NaN  207.61578       NaN           NaN  \n",
       "...                ...        ...       ...           ...  \n",
       "13050              NaN    0.89162       0.0           NaN  \n",
       "13051              NaN    0.78278       0.0           NaN  \n",
       "13052              NaN        NaN       0.0           NaN  \n",
       "13053              NaN        NaN       NaN           NaN  \n",
       "13054              NaN        NaN       NaN           NaN  \n",
       "\n",
       "[13055 rows x 25 columns]"
      ]
     },
     "execution_count": 3,
     "metadata": {},
     "output_type": "execute_result"
    }
   ],
   "source": [
    "data = pd.read_csv(\"gapminder.csv.bz2\", sep=\"\\t\")\n",
    "data"
   ]
  },
  {
   "cell_type": "markdown",
   "id": "6a2f3954",
   "metadata": {},
   "source": [
    "5.2"
   ]
  },
  {
   "cell_type": "code",
   "execution_count": 4,
   "id": "3513e13c",
   "metadata": {},
   "outputs": [
    {
     "data": {
      "text/plain": [
       "(13055, 25)"
      ]
     },
     "execution_count": 4,
     "metadata": {},
     "output_type": "execute_result"
    }
   ],
   "source": [
    "data.shape"
   ]
  },
  {
   "cell_type": "markdown",
   "id": "b61760e9",
   "metadata": {},
   "source": [
    "(a) there are 25 variables\n",
    "(b) there are 13055 rows"
   ]
  },
  {
   "cell_type": "code",
   "execution_count": 75,
   "id": "cb6ca2cd",
   "metadata": {},
   "outputs": [
    {
     "data": {
      "text/html": [
       "<div>\n",
       "<style scoped>\n",
       "    .dataframe tbody tr th:only-of-type {\n",
       "        vertical-align: middle;\n",
       "    }\n",
       "\n",
       "    .dataframe tbody tr th {\n",
       "        vertical-align: top;\n",
       "    }\n",
       "\n",
       "    .dataframe thead th {\n",
       "        text-align: right;\n",
       "    }\n",
       "</style>\n",
       "<table border=\"1\" class=\"dataframe\">\n",
       "  <thead>\n",
       "    <tr style=\"text-align: right;\">\n",
       "      <th></th>\n",
       "      <th>iso3</th>\n",
       "      <th>name</th>\n",
       "      <th>iso2</th>\n",
       "      <th>region</th>\n",
       "      <th>sub-region</th>\n",
       "      <th>intermediate-region</th>\n",
       "      <th>time</th>\n",
       "      <th>totalPopulation</th>\n",
       "      <th>fertilityRate</th>\n",
       "      <th>lifeExpectancy</th>\n",
       "      <th>...</th>\n",
       "      <th>accessElectricity</th>\n",
       "      <th>agriculturalLand</th>\n",
       "      <th>agricultureTractors</th>\n",
       "      <th>cerealProduction</th>\n",
       "      <th>fertilizerHa</th>\n",
       "      <th>co2</th>\n",
       "      <th>greenhouseGases</th>\n",
       "      <th>co2_PC</th>\n",
       "      <th>pm2.5_35</th>\n",
       "      <th>battleDeaths</th>\n",
       "    </tr>\n",
       "  </thead>\n",
       "  <tbody>\n",
       "    <tr>\n",
       "      <th>0</th>\n",
       "      <td>ABW</td>\n",
       "      <td>Aruba</td>\n",
       "      <td>AW</td>\n",
       "      <td>Americas</td>\n",
       "      <td>Latin America and the Caribbean</td>\n",
       "      <td>Caribbean</td>\n",
       "      <td>1960.0</td>\n",
       "      <td>54211.0</td>\n",
       "      <td>4.820</td>\n",
       "      <td>65.662</td>\n",
       "      <td>...</td>\n",
       "      <td>NaN</td>\n",
       "      <td>NaN</td>\n",
       "      <td>NaN</td>\n",
       "      <td>NaN</td>\n",
       "      <td>NaN</td>\n",
       "      <td>11092.675</td>\n",
       "      <td>NaN</td>\n",
       "      <td>204.62037</td>\n",
       "      <td>NaN</td>\n",
       "      <td>NaN</td>\n",
       "    </tr>\n",
       "    <tr>\n",
       "      <th>1</th>\n",
       "      <td>ABW</td>\n",
       "      <td>Aruba</td>\n",
       "      <td>AW</td>\n",
       "      <td>Americas</td>\n",
       "      <td>Latin America and the Caribbean</td>\n",
       "      <td>Caribbean</td>\n",
       "      <td>1961.0</td>\n",
       "      <td>55438.0</td>\n",
       "      <td>4.655</td>\n",
       "      <td>66.074</td>\n",
       "      <td>...</td>\n",
       "      <td>NaN</td>\n",
       "      <td>20.0</td>\n",
       "      <td>NaN</td>\n",
       "      <td>NaN</td>\n",
       "      <td>NaN</td>\n",
       "      <td>11576.719</td>\n",
       "      <td>NaN</td>\n",
       "      <td>208.82281</td>\n",
       "      <td>NaN</td>\n",
       "      <td>NaN</td>\n",
       "    </tr>\n",
       "    <tr>\n",
       "      <th>2</th>\n",
       "      <td>ABW</td>\n",
       "      <td>Aruba</td>\n",
       "      <td>AW</td>\n",
       "      <td>Americas</td>\n",
       "      <td>Latin America and the Caribbean</td>\n",
       "      <td>Caribbean</td>\n",
       "      <td>1962.0</td>\n",
       "      <td>56225.0</td>\n",
       "      <td>4.471</td>\n",
       "      <td>66.444</td>\n",
       "      <td>...</td>\n",
       "      <td>NaN</td>\n",
       "      <td>20.0</td>\n",
       "      <td>NaN</td>\n",
       "      <td>NaN</td>\n",
       "      <td>NaN</td>\n",
       "      <td>12713.489</td>\n",
       "      <td>NaN</td>\n",
       "      <td>226.11808</td>\n",
       "      <td>NaN</td>\n",
       "      <td>NaN</td>\n",
       "    </tr>\n",
       "  </tbody>\n",
       "</table>\n",
       "<p>3 rows × 25 columns</p>\n",
       "</div>"
      ],
      "text/plain": [
       "  iso3   name iso2    region                       sub-region  \\\n",
       "0  ABW  Aruba   AW  Americas  Latin America and the Caribbean   \n",
       "1  ABW  Aruba   AW  Americas  Latin America and the Caribbean   \n",
       "2  ABW  Aruba   AW  Americas  Latin America and the Caribbean   \n",
       "\n",
       "  intermediate-region    time  totalPopulation  fertilityRate  lifeExpectancy  \\\n",
       "0           Caribbean  1960.0          54211.0          4.820          65.662   \n",
       "1           Caribbean  1961.0          55438.0          4.655          66.074   \n",
       "2           Caribbean  1962.0          56225.0          4.471          66.444   \n",
       "\n",
       "   ...  accessElectricity  agriculturalLand  agricultureTractors  \\\n",
       "0  ...                NaN               NaN                  NaN   \n",
       "1  ...                NaN              20.0                  NaN   \n",
       "2  ...                NaN              20.0                  NaN   \n",
       "\n",
       "   cerealProduction  fertilizerHa        co2  greenhouseGases     co2_PC  \\\n",
       "0               NaN           NaN  11092.675              NaN  204.62037   \n",
       "1               NaN           NaN  11576.719              NaN  208.82281   \n",
       "2               NaN           NaN  12713.489              NaN  226.11808   \n",
       "\n",
       "   pm2.5_35  battleDeaths  \n",
       "0       NaN           NaN  \n",
       "1       NaN           NaN  \n",
       "2       NaN           NaN  \n",
       "\n",
       "[3 rows x 25 columns]"
      ]
     },
     "execution_count": 75,
     "metadata": {},
     "output_type": "execute_result"
    }
   ],
   "source": [
    "data.head(3)"
   ]
  },
  {
   "cell_type": "markdown",
   "id": "def0474f",
   "metadata": {},
   "source": [
    "(c) Yes, the data looks good"
   ]
  },
  {
   "cell_type": "markdown",
   "id": "35350bff",
   "metadata": {},
   "source": [
    "# 6. Wealth"
   ]
  },
  {
   "cell_type": "markdown",
   "id": "c81149da",
   "metadata": {},
   "source": [
    "6.1"
   ]
  },
  {
   "cell_type": "code",
   "execution_count": 61,
   "id": "6263f2f3",
   "metadata": {},
   "outputs": [],
   "source": [
    "names = pd.unique(data['name'])\n",
    "na = data[data[\"name\"].isna()]\n",
    "na\n",
    "unique_name = set()\n",
    "for name in names: \n",
    "    unique_name.add(name)"
   ]
  },
  {
   "cell_type": "code",
   "execution_count": 62,
   "id": "ac364f60",
   "metadata": {},
   "outputs": [
    {
     "name": "stdout",
     "output_type": "stream",
     "text": [
      "249\n"
     ]
    }
   ],
   "source": [
    "print(data[\"name\"].nunique())"
   ]
  },
  {
   "cell_type": "markdown",
   "id": "569c9715",
   "metadata": {},
   "source": [
    "There are 249 different countries in the data"
   ]
  },
  {
   "cell_type": "markdown",
   "id": "40bebba4",
   "metadata": {},
   "source": [
    "6.2"
   ]
  },
  {
   "cell_type": "code",
   "execution_count": 95,
   "id": "50729b57",
   "metadata": {},
   "outputs": [
    {
     "data": {
      "text/plain": [
       "1960.0"
      ]
     },
     "execution_count": 95,
     "metadata": {},
     "output_type": "execute_result"
    }
   ],
   "source": [
    "min(data.time)"
   ]
  },
  {
   "cell_type": "code",
   "execution_count": 96,
   "id": "f062ee97",
   "metadata": {},
   "outputs": [
    {
     "data": {
      "text/plain": [
       "2019.0"
      ]
     },
     "execution_count": 96,
     "metadata": {},
     "output_type": "execute_result"
    }
   ],
   "source": [
    "max(data.time)"
   ]
  },
  {
   "cell_type": "markdown",
   "id": "1685aa2e",
   "metadata": {},
   "source": [
    "The most recent year is 2019 and earliest year is 1960"
   ]
  },
  {
   "cell_type": "markdown",
   "id": "4c12d3a2",
   "metadata": {},
   "source": [
    "6.3"
   ]
  },
  {
   "cell_type": "code",
   "execution_count": 104,
   "id": "4b4a9485",
   "metadata": {},
   "outputs": [
    {
     "data": {
      "text/plain": [
       "2019.0"
      ]
     },
     "execution_count": 104,
     "metadata": {},
     "output_type": "execute_result"
    }
   ],
   "source": [
    "data_gdp = data[~data.GDP_PC.isna()]\n",
    "max(data_gdp.time)"
   ]
  },
  {
   "cell_type": "markdown",
   "id": "2a3a8204",
   "metadata": {},
   "source": [
    "2019 is the most recent year for GDP data"
   ]
  },
  {
   "cell_type": "markdown",
   "id": "e3a3a984",
   "metadata": {},
   "source": [
    "6.4"
   ]
  },
  {
   "cell_type": "code",
   "execution_count": 105,
   "id": "bab45c9b",
   "metadata": {},
   "outputs": [
    {
     "data": {
      "text/plain": [
       "12048.778024852181"
      ]
     },
     "execution_count": 105,
     "metadata": {},
     "output_type": "execute_result"
    }
   ],
   "source": [
    "data_gdp.GDP_PC.mean()"
   ]
  },
  {
   "cell_type": "markdown",
   "id": "4baf198b",
   "metadata": {},
   "source": [
    "The average GDP across all countries as of 2019 is 12048.778024852181"
   ]
  },
  {
   "cell_type": "markdown",
   "id": "6c21b895",
   "metadata": {},
   "source": [
    "6.5"
   ]
  },
  {
   "cell_type": "code",
   "execution_count": 109,
   "id": "b83fcad1",
   "metadata": {},
   "outputs": [
    {
     "data": {
      "text/plain": [
       "name\n",
       "Djibouti                    9.0\n",
       "Faroe Islands               9.0\n",
       "Liechtenstein               9.0\n",
       "Turks and Caicos Islands    9.0\n",
       "Eritrea                     8.0\n",
       "Name: time, dtype: float64"
      ]
     },
     "execution_count": 109,
     "metadata": {},
     "output_type": "execute_result"
    }
   ],
   "source": [
    "most_recent = max(data_gdp.time)\n",
    "country_most_recent = data_gdp.groupby(\"name\")[\"time\"].max()\n",
    "(most_recent - country_most_recent).nlargest(5)"
   ]
  },
  {
   "cell_type": "markdown",
   "id": "b4ddc496",
   "metadata": {},
   "source": [
    "Here are 5 countries with the largest number of the most recent years missing"
   ]
  },
  {
   "cell_type": "markdown",
   "id": "a76b41e4",
   "metadata": {},
   "source": [
    "6.6"
   ]
  },
  {
   "cell_type": "code",
   "execution_count": 115,
   "id": "22c8f861",
   "metadata": {},
   "outputs": [
    {
     "data": {
      "text/plain": [
       "region\n",
       "Europe      33227.983767\n",
       "Americas    14516.826303\n",
       "Asia        14116.124163\n",
       "Oceania     11817.735554\n",
       "Africa       2765.708956\n",
       "Name: GDP_PC, dtype: float64"
      ]
     },
     "execution_count": 115,
     "metadata": {},
     "output_type": "execute_result"
    }
   ],
   "source": [
    "data_gdp[data_gdp[\"time\"] == 2019].groupby(\"region\")[\"GDP_PC\"].mean().sort_values(ascending=False)"
   ]
  },
  {
   "cell_type": "markdown",
   "id": "f7c4721c",
   "metadata": {},
   "source": [
    "Yes I think this order is reasonable since Europe and Americas are two biggest economy. Africa is underdeveloped so the GDP level is lower than the rest of the world on average.  "
   ]
  },
  {
   "cell_type": "markdown",
   "id": "9705ad75",
   "metadata": {},
   "source": [
    "6.7"
   ]
  },
  {
   "cell_type": "code",
   "execution_count": 143,
   "id": "6f646f7e",
   "metadata": {},
   "outputs": [
    {
     "data": {
      "text/plain": [
       "name                Luxembourg\n",
       "GDP_PC             111043.5317\n",
       "totalPopulation       620001.0\n",
       "Name: 7039, dtype: object"
      ]
     },
     "execution_count": 143,
     "metadata": {},
     "output_type": "execute_result"
    }
   ],
   "source": [
    "gdp_2019 = data_gdp[data_gdp[\"time\"] == 2019]\n",
    "max_2019 = gdp_2019.GDP_PC.idxmax()\n",
    "\n",
    "rich = gdp_2019.loc[max_2019]\n",
    "rich[[\"name\", \"GDP_PC\", \"totalPopulation\"]]"
   ]
  },
  {
   "cell_type": "markdown",
   "id": "fe08c34c",
   "metadata": {},
   "source": [
    "Luxembourg is the richest country"
   ]
  },
  {
   "cell_type": "code",
   "execution_count": 144,
   "id": "ad32559c",
   "metadata": {},
   "outputs": [
    {
     "data": {
      "text/plain": [
       "name                  Burundi\n",
       "GDP_PC              208.07473\n",
       "totalPopulation    11530580.0\n",
       "Name: 843, dtype: object"
      ]
     },
     "execution_count": 144,
     "metadata": {},
     "output_type": "execute_result"
    }
   ],
   "source": [
    "max_2019 = gdp_2019.GDP_PC.idxmin()\n",
    "\n",
    "poor = gdp_2019.loc[min_2019]\n",
    "poor[[\"name\", \"GDP_PC\", \"totalPopulation\"]]"
   ]
  },
  {
   "cell_type": "markdown",
   "id": "53c79384",
   "metadata": {},
   "source": [
    "Burundi is the poorest country "
   ]
  },
  {
   "cell_type": "markdown",
   "id": "0d654ecc",
   "metadata": {},
   "source": [
    "6.8"
   ]
  },
  {
   "cell_type": "code",
   "execution_count": 189,
   "id": "1c170c4f",
   "metadata": {},
   "outputs": [],
   "source": [
    "continent = data_gdp[\"region\"].dropna().unique().tolist()\n",
    "result = []\n",
    "for name in continent: \n",
    "    temp = gdp_2019[gdp_2019[\"region\"] == name]\n",
    "    max_index = temp.GDP_PC.idxmax()\n",
    "    min_index = temp.GDP_PC.idxmin()\n",
    "    richest = temp.loc[max_index]\n",
    "    poorest = temp.loc[min_index]\n",
    "    rich_info = richest[[\"region\",\"name\", \"GDP_PC\", \"totalPopulation\"]]\n",
    "    poor_info = poorest[[\"name\", \"GDP_PC\", \"totalPopulation\"]]\n",
    "    summary = pd.concat((poor_info, rich_info), axis = 0)\n",
    "    result.append(summary)\n"
   ]
  },
  {
   "cell_type": "code",
   "execution_count": 191,
   "id": "bcabab0f",
   "metadata": {},
   "outputs": [
    {
     "data": {
      "text/html": [
       "<div>\n",
       "<style scoped>\n",
       "    .dataframe tbody tr th:only-of-type {\n",
       "        vertical-align: middle;\n",
       "    }\n",
       "\n",
       "    .dataframe tbody tr th {\n",
       "        vertical-align: top;\n",
       "    }\n",
       "\n",
       "    .dataframe thead th {\n",
       "        text-align: right;\n",
       "    }\n",
       "</style>\n",
       "<table border=\"1\" class=\"dataframe\">\n",
       "  <thead>\n",
       "    <tr style=\"text-align: right;\">\n",
       "      <th></th>\n",
       "      <th>name</th>\n",
       "      <th>GDP_PC</th>\n",
       "      <th>totalPopulation</th>\n",
       "      <th>region</th>\n",
       "      <th>name</th>\n",
       "      <th>GDP_PC</th>\n",
       "      <th>totalPopulation</th>\n",
       "    </tr>\n",
       "  </thead>\n",
       "  <tbody>\n",
       "    <tr>\n",
       "      <th>0</th>\n",
       "      <td>Haiti</td>\n",
       "      <td>1245.0125</td>\n",
       "      <td>11263077.0</td>\n",
       "      <td>Americas</td>\n",
       "      <td>Bermuda</td>\n",
       "      <td>94106.36125</td>\n",
       "      <td>64027.0</td>\n",
       "    </tr>\n",
       "    <tr>\n",
       "      <th>1</th>\n",
       "      <td>Afghanistan</td>\n",
       "      <td>573.28755</td>\n",
       "      <td>38041754.0</td>\n",
       "      <td>Asia</td>\n",
       "      <td>Qatar</td>\n",
       "      <td>63281.67468</td>\n",
       "      <td>2832067.0</td>\n",
       "    </tr>\n",
       "    <tr>\n",
       "      <th>0</th>\n",
       "      <td>Burundi</td>\n",
       "      <td>208.07473</td>\n",
       "      <td>11530580.0</td>\n",
       "      <td>Africa</td>\n",
       "      <td>Seychelles</td>\n",
       "      <td>15048.74693</td>\n",
       "      <td>97625.0</td>\n",
       "    </tr>\n",
       "    <tr>\n",
       "      <th>0</th>\n",
       "      <td>Ukraine</td>\n",
       "      <td>3224.93517</td>\n",
       "      <td>44386203.0</td>\n",
       "      <td>Europe</td>\n",
       "      <td>Luxembourg</td>\n",
       "      <td>111043.5317</td>\n",
       "      <td>620001.0</td>\n",
       "    </tr>\n",
       "    <tr>\n",
       "      <th>0</th>\n",
       "      <td>Solomon Islands</td>\n",
       "      <td>1749.42726</td>\n",
       "      <td>669823.0</td>\n",
       "      <td>Oceania</td>\n",
       "      <td>Australia</td>\n",
       "      <td>57183.37935</td>\n",
       "      <td>25365745.0</td>\n",
       "    </tr>\n",
       "  </tbody>\n",
       "</table>\n",
       "</div>"
      ],
      "text/plain": [
       "              name      GDP_PC totalPopulation    region        name  \\\n",
       "0            Haiti   1245.0125      11263077.0  Americas     Bermuda   \n",
       "1      Afghanistan   573.28755      38041754.0      Asia       Qatar   \n",
       "0          Burundi   208.07473      11530580.0    Africa  Seychelles   \n",
       "0          Ukraine  3224.93517      44386203.0    Europe  Luxembourg   \n",
       "0  Solomon Islands  1749.42726        669823.0   Oceania   Australia   \n",
       "\n",
       "        GDP_PC totalPopulation  \n",
       "0  94106.36125         64027.0  \n",
       "1  63281.67468       2832067.0  \n",
       "0  15048.74693         97625.0  \n",
       "0  111043.5317        620001.0  \n",
       "0  57183.37935      25365745.0  "
      ]
     },
     "execution_count": 191,
     "metadata": {},
     "output_type": "execute_result"
    }
   ],
   "source": [
    "final_result = pd.concat((result[0], result[1]), axis=1)\n",
    "for i in result[2:]:\n",
    "    \n",
    "    final_result= pd.concat((final_result, i),axis=1)\n",
    "\n",
    "final_result = final_result.transpose()\n",
    "final_result"
   ]
  },
  {
   "cell_type": "code",
   "execution_count": 192,
   "id": "fae29ca0",
   "metadata": {},
   "outputs": [
    {
     "data": {
      "text/html": [
       "<div>\n",
       "<style scoped>\n",
       "    .dataframe tbody tr th:only-of-type {\n",
       "        vertical-align: middle;\n",
       "    }\n",
       "\n",
       "    .dataframe tbody tr th {\n",
       "        vertical-align: top;\n",
       "    }\n",
       "\n",
       "    .dataframe thead th {\n",
       "        text-align: right;\n",
       "    }\n",
       "</style>\n",
       "<table border=\"1\" class=\"dataframe\">\n",
       "  <thead>\n",
       "    <tr style=\"text-align: right;\">\n",
       "      <th></th>\n",
       "      <th>poorest</th>\n",
       "      <th>GDP</th>\n",
       "      <th>population</th>\n",
       "      <th>richest</th>\n",
       "      <th>GDP</th>\n",
       "      <th>population</th>\n",
       "    </tr>\n",
       "    <tr>\n",
       "      <th>region</th>\n",
       "      <th></th>\n",
       "      <th></th>\n",
       "      <th></th>\n",
       "      <th></th>\n",
       "      <th></th>\n",
       "      <th></th>\n",
       "    </tr>\n",
       "  </thead>\n",
       "  <tbody>\n",
       "    <tr>\n",
       "      <th>Americas</th>\n",
       "      <td>Haiti</td>\n",
       "      <td>1245.0125</td>\n",
       "      <td>11263077.0</td>\n",
       "      <td>Bermuda</td>\n",
       "      <td>94106.36125</td>\n",
       "      <td>64027.0</td>\n",
       "    </tr>\n",
       "    <tr>\n",
       "      <th>Asia</th>\n",
       "      <td>Afghanistan</td>\n",
       "      <td>573.28755</td>\n",
       "      <td>38041754.0</td>\n",
       "      <td>Qatar</td>\n",
       "      <td>63281.67468</td>\n",
       "      <td>2832067.0</td>\n",
       "    </tr>\n",
       "    <tr>\n",
       "      <th>Africa</th>\n",
       "      <td>Burundi</td>\n",
       "      <td>208.07473</td>\n",
       "      <td>11530580.0</td>\n",
       "      <td>Seychelles</td>\n",
       "      <td>15048.74693</td>\n",
       "      <td>97625.0</td>\n",
       "    </tr>\n",
       "    <tr>\n",
       "      <th>Europe</th>\n",
       "      <td>Ukraine</td>\n",
       "      <td>3224.93517</td>\n",
       "      <td>44386203.0</td>\n",
       "      <td>Luxembourg</td>\n",
       "      <td>111043.5317</td>\n",
       "      <td>620001.0</td>\n",
       "    </tr>\n",
       "    <tr>\n",
       "      <th>Oceania</th>\n",
       "      <td>Solomon Islands</td>\n",
       "      <td>1749.42726</td>\n",
       "      <td>669823.0</td>\n",
       "      <td>Australia</td>\n",
       "      <td>57183.37935</td>\n",
       "      <td>25365745.0</td>\n",
       "    </tr>\n",
       "  </tbody>\n",
       "</table>\n",
       "</div>"
      ],
      "text/plain": [
       "                  poorest         GDP  population     richest          GDP  \\\n",
       "region                                                                       \n",
       "Americas            Haiti   1245.0125  11263077.0     Bermuda  94106.36125   \n",
       "Asia          Afghanistan   573.28755  38041754.0       Qatar  63281.67468   \n",
       "Africa            Burundi   208.07473  11530580.0  Seychelles  15048.74693   \n",
       "Europe            Ukraine  3224.93517  44386203.0  Luxembourg  111043.5317   \n",
       "Oceania   Solomon Islands  1749.42726    669823.0   Australia  57183.37935   \n",
       "\n",
       "          population  \n",
       "region                \n",
       "Americas     64027.0  \n",
       "Asia       2832067.0  \n",
       "Africa       97625.0  \n",
       "Europe      620001.0  \n",
       "Oceania   25365745.0  "
      ]
     },
     "execution_count": 192,
     "metadata": {},
     "output_type": "execute_result"
    }
   ],
   "source": [
    "final_result.columns = [\"poorest\", \"GDP\", \"population\", \"region\",\"richest\", \"GDP\", \"population\"]\n",
    "final_result.set_index(\"region\")"
   ]
  },
  {
   "cell_type": "markdown",
   "id": "01059d96",
   "metadata": {},
   "source": [
    "6.9"
   ]
  },
  {
   "cell_type": "markdown",
   "id": "da443c4a",
   "metadata": {},
   "source": [
    "From the chart above, we can tell the difference for the GDP for the poorest and richest countries differs a lot with 100s even 1000s times difference. I didn't expect Bermuda is the richest country in America. I'm not sure why, but I think it might because it's wide spread of international business. It is easier to develop the economy and infrastucture so that's why rich countries tend to have small populations."
   ]
  },
  {
   "cell_type": "markdown",
   "id": "bb824397",
   "metadata": {},
   "source": [
    "# 7 Health"
   ]
  },
  {
   "cell_type": "markdown",
   "id": "30657327",
   "metadata": {},
   "source": [
    "7.1"
   ]
  },
  {
   "cell_type": "code",
   "execution_count": 30,
   "id": "8e099cb9",
   "metadata": {},
   "outputs": [
    {
     "data": {
      "text/html": [
       "<div>\n",
       "<style scoped>\n",
       "    .dataframe tbody tr th:only-of-type {\n",
       "        vertical-align: middle;\n",
       "    }\n",
       "\n",
       "    .dataframe tbody tr th {\n",
       "        vertical-align: top;\n",
       "    }\n",
       "\n",
       "    .dataframe thead th {\n",
       "        text-align: right;\n",
       "    }\n",
       "</style>\n",
       "<table border=\"1\" class=\"dataframe\">\n",
       "  <thead>\n",
       "    <tr style=\"text-align: right;\">\n",
       "      <th></th>\n",
       "      <th>iso3</th>\n",
       "      <th>name</th>\n",
       "      <th>iso2</th>\n",
       "      <th>region</th>\n",
       "      <th>sub-region</th>\n",
       "      <th>intermediate-region</th>\n",
       "      <th>time</th>\n",
       "      <th>totalPopulation</th>\n",
       "      <th>fertilityRate</th>\n",
       "      <th>lifeExpectancy</th>\n",
       "      <th>...</th>\n",
       "      <th>accessElectricity</th>\n",
       "      <th>agriculturalLand</th>\n",
       "      <th>agricultureTractors</th>\n",
       "      <th>cerealProduction</th>\n",
       "      <th>fertilizerHa</th>\n",
       "      <th>co2</th>\n",
       "      <th>greenhouseGases</th>\n",
       "      <th>co2_PC</th>\n",
       "      <th>pm2.5_35</th>\n",
       "      <th>battleDeaths</th>\n",
       "    </tr>\n",
       "  </thead>\n",
       "  <tbody>\n",
       "    <tr>\n",
       "      <th>0</th>\n",
       "      <td>ABW</td>\n",
       "      <td>Aruba</td>\n",
       "      <td>AW</td>\n",
       "      <td>Americas</td>\n",
       "      <td>Latin America and the Caribbean</td>\n",
       "      <td>Caribbean</td>\n",
       "      <td>1960.0</td>\n",
       "      <td>54211.0</td>\n",
       "      <td>4.820</td>\n",
       "      <td>65.662</td>\n",
       "      <td>...</td>\n",
       "      <td>NaN</td>\n",
       "      <td>NaN</td>\n",
       "      <td>NaN</td>\n",
       "      <td>NaN</td>\n",
       "      <td>NaN</td>\n",
       "      <td>11092.675</td>\n",
       "      <td>NaN</td>\n",
       "      <td>204.62037</td>\n",
       "      <td>NaN</td>\n",
       "      <td>NaN</td>\n",
       "    </tr>\n",
       "    <tr>\n",
       "      <th>1</th>\n",
       "      <td>ABW</td>\n",
       "      <td>Aruba</td>\n",
       "      <td>AW</td>\n",
       "      <td>Americas</td>\n",
       "      <td>Latin America and the Caribbean</td>\n",
       "      <td>Caribbean</td>\n",
       "      <td>1961.0</td>\n",
       "      <td>55438.0</td>\n",
       "      <td>4.655</td>\n",
       "      <td>66.074</td>\n",
       "      <td>...</td>\n",
       "      <td>NaN</td>\n",
       "      <td>20.0</td>\n",
       "      <td>NaN</td>\n",
       "      <td>NaN</td>\n",
       "      <td>NaN</td>\n",
       "      <td>11576.719</td>\n",
       "      <td>NaN</td>\n",
       "      <td>208.82281</td>\n",
       "      <td>NaN</td>\n",
       "      <td>NaN</td>\n",
       "    </tr>\n",
       "    <tr>\n",
       "      <th>2</th>\n",
       "      <td>ABW</td>\n",
       "      <td>Aruba</td>\n",
       "      <td>AW</td>\n",
       "      <td>Americas</td>\n",
       "      <td>Latin America and the Caribbean</td>\n",
       "      <td>Caribbean</td>\n",
       "      <td>1962.0</td>\n",
       "      <td>56225.0</td>\n",
       "      <td>4.471</td>\n",
       "      <td>66.444</td>\n",
       "      <td>...</td>\n",
       "      <td>NaN</td>\n",
       "      <td>20.0</td>\n",
       "      <td>NaN</td>\n",
       "      <td>NaN</td>\n",
       "      <td>NaN</td>\n",
       "      <td>12713.489</td>\n",
       "      <td>NaN</td>\n",
       "      <td>226.11808</td>\n",
       "      <td>NaN</td>\n",
       "      <td>NaN</td>\n",
       "    </tr>\n",
       "  </tbody>\n",
       "</table>\n",
       "<p>3 rows × 25 columns</p>\n",
       "</div>"
      ],
      "text/plain": [
       "  iso3   name iso2    region                       sub-region  \\\n",
       "0  ABW  Aruba   AW  Americas  Latin America and the Caribbean   \n",
       "1  ABW  Aruba   AW  Americas  Latin America and the Caribbean   \n",
       "2  ABW  Aruba   AW  Americas  Latin America and the Caribbean   \n",
       "\n",
       "  intermediate-region    time  totalPopulation  fertilityRate  lifeExpectancy  \\\n",
       "0           Caribbean  1960.0          54211.0          4.820          65.662   \n",
       "1           Caribbean  1961.0          55438.0          4.655          66.074   \n",
       "2           Caribbean  1962.0          56225.0          4.471          66.444   \n",
       "\n",
       "   ...  accessElectricity  agriculturalLand  agricultureTractors  \\\n",
       "0  ...                NaN               NaN                  NaN   \n",
       "1  ...                NaN              20.0                  NaN   \n",
       "2  ...                NaN              20.0                  NaN   \n",
       "\n",
       "   cerealProduction  fertilizerHa        co2  greenhouseGases     co2_PC  \\\n",
       "0               NaN           NaN  11092.675              NaN  204.62037   \n",
       "1               NaN           NaN  11576.719              NaN  208.82281   \n",
       "2               NaN           NaN  12713.489              NaN  226.11808   \n",
       "\n",
       "   pm2.5_35  battleDeaths  \n",
       "0       NaN           NaN  \n",
       "1       NaN           NaN  \n",
       "2       NaN           NaN  \n",
       "\n",
       "[3 rows x 25 columns]"
      ]
     },
     "execution_count": 30,
     "metadata": {},
     "output_type": "execute_result"
    }
   ],
   "source": [
    "data_le = data\n",
    "data_le.head(3)"
   ]
  },
  {
   "cell_type": "code",
   "execution_count": 19,
   "id": "0eddaa89",
   "metadata": {},
   "outputs": [
    {
     "data": {
      "text/plain": [
       "False    189\n",
       "True      27\n",
       "Name: lifeExpectancy, dtype: int64"
      ]
     },
     "execution_count": 19,
     "metadata": {},
     "output_type": "execute_result"
    }
   ],
   "source": [
    "data_1960 = data_le[data_le[\"time\"] == 1960]\n",
    "data_1960.lifeExpectancy.isna().value_counts()"
   ]
  },
  {
   "cell_type": "markdown",
   "id": "efbcaf52",
   "metadata": {},
   "source": [
    "There are 27 countries who don't have lifexpectancy data for 1960"
   ]
  },
  {
   "cell_type": "code",
   "execution_count": 20,
   "id": "916dab24",
   "metadata": {},
   "outputs": [
    {
     "data": {
      "text/plain": [
       "False    198\n",
       "True      19\n",
       "Name: lifeExpectancy, dtype: int64"
      ]
     },
     "execution_count": 20,
     "metadata": {},
     "output_type": "execute_result"
    }
   ],
   "source": [
    "data_2019 = data_le[data_le[\"time\"] == 2019]\n",
    "data_2019.lifeExpectancy.isna().value_counts()"
   ]
  },
  {
   "cell_type": "markdown",
   "id": "3c7a4153",
   "metadata": {},
   "source": [
    "There are 19 countries who don't have lifexpectancy data for 1960"
   ]
  },
  {
   "cell_type": "markdown",
   "id": "2ac45768",
   "metadata": {},
   "source": [
    "7.2"
   ]
  },
  {
   "cell_type": "code",
   "execution_count": 21,
   "id": "4b60d425",
   "metadata": {},
   "outputs": [
    {
     "data": {
      "text/plain": [
       "10581    85.41707\n",
       "Name: lifeExpectancy, dtype: float64"
      ]
     },
     "execution_count": 21,
     "metadata": {},
     "output_type": "execute_result"
    }
   ],
   "source": [
    "data_le.lifeExpectancy.nlargest(1)"
   ]
  },
  {
   "cell_type": "code",
   "execution_count": 22,
   "id": "930dd4d7",
   "metadata": {},
   "outputs": [
    {
     "data": {
      "text/plain": [
       "6097    18.907\n",
       "Name: lifeExpectancy, dtype: float64"
      ]
     },
     "execution_count": 22,
     "metadata": {},
     "output_type": "execute_result"
    }
   ],
   "source": [
    "data_le.lifeExpectancy.nsmallest(1)"
   ]
  },
  {
   "cell_type": "code",
   "execution_count": 29,
   "id": "e44a6d86",
   "metadata": {},
   "outputs": [
    {
     "data": {
      "text/plain": [
       "name    San Marino\n",
       "time        2012.0\n",
       "Name: 10581, dtype: object"
      ]
     },
     "execution_count": 29,
     "metadata": {},
     "output_type": "execute_result"
    }
   ],
   "source": [
    "data_le.loc[10581][[\"name\", \"time\"]]"
   ]
  },
  {
   "cell_type": "code",
   "execution_count": 28,
   "id": "94ddda08",
   "metadata": {},
   "outputs": [
    {
     "data": {
      "text/plain": [
       "name    Cambodia\n",
       "time      1977.0\n",
       "Name: 6097, dtype: object"
      ]
     },
     "execution_count": 28,
     "metadata": {},
     "output_type": "execute_result"
    }
   ],
   "source": [
    "data_le.loc[6097][[\"name\", \"time\"]]"
   ]
  },
  {
   "cell_type": "markdown",
   "id": "f01b3b78",
   "metadata": {},
   "source": [
    "- Shortest LE: 18.907; Year: 1977; Country: Cambodia\n",
    "- Longest LE: 85.41707; Year: 2012; Country: San Marino"
   ]
  },
  {
   "cell_type": "markdown",
   "id": "e689d9e9",
   "metadata": {},
   "source": [
    "7.3"
   ]
  },
  {
   "cell_type": "markdown",
   "id": "ceea0fa5",
   "metadata": {},
   "source": [
    "I found out there is an event called \"Cambodian Genocide\", a systematic persecution and killing of Cambodians by the Khmer Rouge under the leadership of Communist Party of Kampuchea general secretary Pol Pot, who radically pushed Cambodia towards an entirely self-sufficient agrarian socialist society (Wiki, 2022)\n",
    "\n",
    "Wikimedia Foundation. (2022, January 14). Cambodian genocide. Wikipedia. Retrieved January 16, 2022, from https://en.wikipedia.org/wiki/Cambodian_genocide "
   ]
  },
  {
   "cell_type": "markdown",
   "id": "73fe4a14",
   "metadata": {},
   "source": [
    "7.4"
   ]
  },
  {
   "cell_type": "code",
   "execution_count": 42,
   "id": "e41ab5dc",
   "metadata": {},
   "outputs": [],
   "source": [
    "continent = data_le[\"region\"].dropna().unique().tolist()\n",
    "result = []\n",
    "for name in continent: \n",
    "    temp = data_le[data_le[\"region\"] == name]\n",
    "    max_index = temp.lifeExpectancy.idxmax()\n",
    "    min_index = temp.lifeExpectancy.idxmin()\n",
    "    longest = temp.loc[max_index]\n",
    "    shortest = temp.loc[min_index]\n",
    "    long_info = longest[[\"region\",\"name\", \"lifeExpectancy\"]]\n",
    "    short_info = shortest[[\"name\", \"lifeExpectancy\"]]\n",
    "    summary = pd.concat((long_info, short_info), axis = 0)\n",
    "    result.append(summary)"
   ]
  },
  {
   "cell_type": "code",
   "execution_count": 43,
   "id": "b0545782",
   "metadata": {},
   "outputs": [
    {
     "data": {
      "text/html": [
       "<div>\n",
       "<style scoped>\n",
       "    .dataframe tbody tr th:only-of-type {\n",
       "        vertical-align: middle;\n",
       "    }\n",
       "\n",
       "    .dataframe tbody tr th {\n",
       "        vertical-align: top;\n",
       "    }\n",
       "\n",
       "    .dataframe thead th {\n",
       "        text-align: right;\n",
       "    }\n",
       "</style>\n",
       "<table border=\"1\" class=\"dataframe\">\n",
       "  <thead>\n",
       "    <tr style=\"text-align: right;\">\n",
       "      <th></th>\n",
       "      <th>region</th>\n",
       "      <th>name</th>\n",
       "      <th>lifeExpectancy</th>\n",
       "      <th>name</th>\n",
       "      <th>lifeExpectancy</th>\n",
       "    </tr>\n",
       "  </thead>\n",
       "  <tbody>\n",
       "    <tr>\n",
       "      <th>0</th>\n",
       "      <td>Americas</td>\n",
       "      <td>Cayman Islands</td>\n",
       "      <td>82.19024</td>\n",
       "      <td>Haiti</td>\n",
       "      <td>41.762</td>\n",
       "    </tr>\n",
       "    <tr>\n",
       "      <th>1</th>\n",
       "      <td>Asia</td>\n",
       "      <td>Hong Kong</td>\n",
       "      <td>85.07805</td>\n",
       "      <td>Cambodia</td>\n",
       "      <td>18.907</td>\n",
       "    </tr>\n",
       "    <tr>\n",
       "      <th>0</th>\n",
       "      <td>Africa</td>\n",
       "      <td>Algeria</td>\n",
       "      <td>76.88</td>\n",
       "      <td>Rwanda</td>\n",
       "      <td>26.172</td>\n",
       "    </tr>\n",
       "    <tr>\n",
       "      <th>0</th>\n",
       "      <td>Europe</td>\n",
       "      <td>San Marino</td>\n",
       "      <td>85.41707</td>\n",
       "      <td>Bosnia and Herzegovina</td>\n",
       "      <td>60.353</td>\n",
       "    </tr>\n",
       "    <tr>\n",
       "      <th>0</th>\n",
       "      <td>Oceania</td>\n",
       "      <td>Australia</td>\n",
       "      <td>82.9</td>\n",
       "      <td>Papua New Guinea</td>\n",
       "      <td>38.935</td>\n",
       "    </tr>\n",
       "  </tbody>\n",
       "</table>\n",
       "</div>"
      ],
      "text/plain": [
       "     region            name lifeExpectancy                    name  \\\n",
       "0  Americas  Cayman Islands       82.19024                   Haiti   \n",
       "1      Asia       Hong Kong       85.07805                Cambodia   \n",
       "0    Africa         Algeria          76.88                  Rwanda   \n",
       "0    Europe      San Marino       85.41707  Bosnia and Herzegovina   \n",
       "0   Oceania       Australia           82.9        Papua New Guinea   \n",
       "\n",
       "  lifeExpectancy  \n",
       "0         41.762  \n",
       "1         18.907  \n",
       "0         26.172  \n",
       "0         60.353  \n",
       "0         38.935  "
      ]
     },
     "execution_count": 43,
     "metadata": {},
     "output_type": "execute_result"
    }
   ],
   "source": [
    "final_result = pd.concat((result[0], result[1]), axis=1)\n",
    "for i in result[2:]:\n",
    "    \n",
    "    final_result= pd.concat((final_result, i),axis=1)\n",
    "\n",
    "final_result = final_result.transpose()\n",
    "final_result"
   ]
  },
  {
   "cell_type": "code",
   "execution_count": 44,
   "id": "0384ecb9",
   "metadata": {},
   "outputs": [
    {
     "data": {
      "text/html": [
       "<div>\n",
       "<style scoped>\n",
       "    .dataframe tbody tr th:only-of-type {\n",
       "        vertical-align: middle;\n",
       "    }\n",
       "\n",
       "    .dataframe tbody tr th {\n",
       "        vertical-align: top;\n",
       "    }\n",
       "\n",
       "    .dataframe thead th {\n",
       "        text-align: right;\n",
       "    }\n",
       "</style>\n",
       "<table border=\"1\" class=\"dataframe\">\n",
       "  <thead>\n",
       "    <tr style=\"text-align: right;\">\n",
       "      <th></th>\n",
       "      <th>longest_country</th>\n",
       "      <th>lifeExpectancy</th>\n",
       "      <th>shortest_country</th>\n",
       "      <th>lifeExpectancy</th>\n",
       "    </tr>\n",
       "    <tr>\n",
       "      <th>region</th>\n",
       "      <th></th>\n",
       "      <th></th>\n",
       "      <th></th>\n",
       "      <th></th>\n",
       "    </tr>\n",
       "  </thead>\n",
       "  <tbody>\n",
       "    <tr>\n",
       "      <th>Americas</th>\n",
       "      <td>Cayman Islands</td>\n",
       "      <td>82.19024</td>\n",
       "      <td>Haiti</td>\n",
       "      <td>41.762</td>\n",
       "    </tr>\n",
       "    <tr>\n",
       "      <th>Asia</th>\n",
       "      <td>Hong Kong</td>\n",
       "      <td>85.07805</td>\n",
       "      <td>Cambodia</td>\n",
       "      <td>18.907</td>\n",
       "    </tr>\n",
       "    <tr>\n",
       "      <th>Africa</th>\n",
       "      <td>Algeria</td>\n",
       "      <td>76.88</td>\n",
       "      <td>Rwanda</td>\n",
       "      <td>26.172</td>\n",
       "    </tr>\n",
       "    <tr>\n",
       "      <th>Europe</th>\n",
       "      <td>San Marino</td>\n",
       "      <td>85.41707</td>\n",
       "      <td>Bosnia and Herzegovina</td>\n",
       "      <td>60.353</td>\n",
       "    </tr>\n",
       "    <tr>\n",
       "      <th>Oceania</th>\n",
       "      <td>Australia</td>\n",
       "      <td>82.9</td>\n",
       "      <td>Papua New Guinea</td>\n",
       "      <td>38.935</td>\n",
       "    </tr>\n",
       "  </tbody>\n",
       "</table>\n",
       "</div>"
      ],
      "text/plain": [
       "         longest_country lifeExpectancy        shortest_country lifeExpectancy\n",
       "region                                                                        \n",
       "Americas  Cayman Islands       82.19024                   Haiti         41.762\n",
       "Asia           Hong Kong       85.07805                Cambodia         18.907\n",
       "Africa           Algeria          76.88                  Rwanda         26.172\n",
       "Europe        San Marino       85.41707  Bosnia and Herzegovina         60.353\n",
       "Oceania        Australia           82.9        Papua New Guinea         38.935"
      ]
     },
     "execution_count": 44,
     "metadata": {},
     "output_type": "execute_result"
    }
   ],
   "source": [
    "final_result.columns = [\"region\", \"longest_country\", \"lifeExpectancy\",\"shortest_country\", \"lifeExpectancy\"]\n",
    "final_result.set_index(\"region\")"
   ]
  },
  {
   "cell_type": "markdown",
   "id": "7705ee18",
   "metadata": {},
   "source": [
    "The graph here has the info or country with longest and shortest LE for each continent"
   ]
  },
  {
   "cell_type": "markdown",
   "id": "db00f8da",
   "metadata": {},
   "source": [
    "7.5"
   ]
  },
  {
   "cell_type": "code",
   "execution_count": 55,
   "id": "0d4f2cbc",
   "metadata": {},
   "outputs": [
    {
     "data": {
      "text/plain": [
       "name\n",
       "Afghanistan                 60\n",
       "Albania                    182\n",
       "Algeria                   3251\n",
       "Angola                     120\n",
       "Antigua and Barbuda        544\n",
       "                         ...  \n",
       "Viet Nam                 12634\n",
       "Virgin Islands (U.S.)    12574\n",
       "Yemen                    12815\n",
       "Zambia                   12935\n",
       "Zimbabwe                 12995\n",
       "Name: time, Length: 204, dtype: int64"
      ]
     },
     "execution_count": 55,
     "metadata": {},
     "output_type": "execute_result"
    }
   ],
   "source": [
    "data_good = data_le.dropna(subset=[\"lifeExpectancy\"], axis=0)\n",
    "index = data_good.groupby(\"name\").time.idxmin()\n",
    "index"
   ]
  },
  {
   "cell_type": "code",
   "execution_count": 63,
   "id": "4e36cafb",
   "metadata": {},
   "outputs": [
    {
     "data": {
      "text/html": [
       "<div>\n",
       "<style scoped>\n",
       "    .dataframe tbody tr th:only-of-type {\n",
       "        vertical-align: middle;\n",
       "    }\n",
       "\n",
       "    .dataframe tbody tr th {\n",
       "        vertical-align: top;\n",
       "    }\n",
       "\n",
       "    .dataframe thead th {\n",
       "        text-align: right;\n",
       "    }\n",
       "</style>\n",
       "<table border=\"1\" class=\"dataframe\">\n",
       "  <thead>\n",
       "    <tr style=\"text-align: right;\">\n",
       "      <th></th>\n",
       "      <th>name</th>\n",
       "      <th>time</th>\n",
       "      <th>lifeExpectancy</th>\n",
       "    </tr>\n",
       "  </thead>\n",
       "  <tbody>\n",
       "    <tr>\n",
       "      <th>60</th>\n",
       "      <td>Afghanistan</td>\n",
       "      <td>1960.0</td>\n",
       "      <td>32.44600</td>\n",
       "    </tr>\n",
       "    <tr>\n",
       "      <th>182</th>\n",
       "      <td>Albania</td>\n",
       "      <td>1960.0</td>\n",
       "      <td>62.28300</td>\n",
       "    </tr>\n",
       "    <tr>\n",
       "      <th>3251</th>\n",
       "      <td>Algeria</td>\n",
       "      <td>1960.0</td>\n",
       "      <td>46.14100</td>\n",
       "    </tr>\n",
       "    <tr>\n",
       "      <th>120</th>\n",
       "      <td>Angola</td>\n",
       "      <td>1960.0</td>\n",
       "      <td>37.52400</td>\n",
       "    </tr>\n",
       "    <tr>\n",
       "      <th>544</th>\n",
       "      <td>Antigua and Barbuda</td>\n",
       "      <td>1960.0</td>\n",
       "      <td>61.96800</td>\n",
       "    </tr>\n",
       "    <tr>\n",
       "      <th>...</th>\n",
       "      <td>...</td>\n",
       "      <td>...</td>\n",
       "      <td>...</td>\n",
       "    </tr>\n",
       "    <tr>\n",
       "      <th>12634</th>\n",
       "      <td>Viet Nam</td>\n",
       "      <td>1960.0</td>\n",
       "      <td>59.03900</td>\n",
       "    </tr>\n",
       "    <tr>\n",
       "      <th>12574</th>\n",
       "      <td>Virgin Islands (U.S.)</td>\n",
       "      <td>1960.0</td>\n",
       "      <td>66.22485</td>\n",
       "    </tr>\n",
       "    <tr>\n",
       "      <th>12815</th>\n",
       "      <td>Yemen</td>\n",
       "      <td>1960.0</td>\n",
       "      <td>29.91900</td>\n",
       "    </tr>\n",
       "    <tr>\n",
       "      <th>12935</th>\n",
       "      <td>Zambia</td>\n",
       "      <td>1960.0</td>\n",
       "      <td>46.68700</td>\n",
       "    </tr>\n",
       "    <tr>\n",
       "      <th>12995</th>\n",
       "      <td>Zimbabwe</td>\n",
       "      <td>1960.0</td>\n",
       "      <td>53.01900</td>\n",
       "    </tr>\n",
       "  </tbody>\n",
       "</table>\n",
       "<p>204 rows × 3 columns</p>\n",
       "</div>"
      ],
      "text/plain": [
       "                        name    time  lifeExpectancy\n",
       "60               Afghanistan  1960.0        32.44600\n",
       "182                  Albania  1960.0        62.28300\n",
       "3251                 Algeria  1960.0        46.14100\n",
       "120                   Angola  1960.0        37.52400\n",
       "544      Antigua and Barbuda  1960.0        61.96800\n",
       "...                      ...     ...             ...\n",
       "12634               Viet Nam  1960.0        59.03900\n",
       "12574  Virgin Islands (U.S.)  1960.0        66.22485\n",
       "12815                  Yemen  1960.0        29.91900\n",
       "12935                 Zambia  1960.0        46.68700\n",
       "12995               Zimbabwe  1960.0        53.01900\n",
       "\n",
       "[204 rows x 3 columns]"
      ]
     },
     "execution_count": 63,
     "metadata": {},
     "output_type": "execute_result"
    }
   ],
   "source": [
    "earliest = data_good.loc[index][[\"name\", \"time\", \"lifeExpectancy\"]]\n",
    "earliest"
   ]
  },
  {
   "cell_type": "markdown",
   "id": "9b7cf433",
   "metadata": {},
   "source": [
    "Here is the table for the first LE for each country"
   ]
  },
  {
   "cell_type": "markdown",
   "id": "029150dc",
   "metadata": {},
   "source": [
    "7.6"
   ]
  },
  {
   "cell_type": "code",
   "execution_count": 64,
   "id": "6b558a7e",
   "metadata": {},
   "outputs": [
    {
     "data": {
      "text/html": [
       "<div>\n",
       "<style scoped>\n",
       "    .dataframe tbody tr th:only-of-type {\n",
       "        vertical-align: middle;\n",
       "    }\n",
       "\n",
       "    .dataframe tbody tr th {\n",
       "        vertical-align: top;\n",
       "    }\n",
       "\n",
       "    .dataframe thead th {\n",
       "        text-align: right;\n",
       "    }\n",
       "</style>\n",
       "<table border=\"1\" class=\"dataframe\">\n",
       "  <thead>\n",
       "    <tr style=\"text-align: right;\">\n",
       "      <th></th>\n",
       "      <th>name</th>\n",
       "      <th>time</th>\n",
       "      <th>lifeExpectancy</th>\n",
       "    </tr>\n",
       "  </thead>\n",
       "  <tbody>\n",
       "    <tr>\n",
       "      <th>119</th>\n",
       "      <td>Afghanistan</td>\n",
       "      <td>2019.0</td>\n",
       "      <td>64.83300</td>\n",
       "    </tr>\n",
       "    <tr>\n",
       "      <th>241</th>\n",
       "      <td>Albania</td>\n",
       "      <td>2019.0</td>\n",
       "      <td>78.57300</td>\n",
       "    </tr>\n",
       "    <tr>\n",
       "      <th>3310</th>\n",
       "      <td>Algeria</td>\n",
       "      <td>2019.0</td>\n",
       "      <td>76.88000</td>\n",
       "    </tr>\n",
       "    <tr>\n",
       "      <th>179</th>\n",
       "      <td>Angola</td>\n",
       "      <td>2019.0</td>\n",
       "      <td>61.14700</td>\n",
       "    </tr>\n",
       "    <tr>\n",
       "      <th>603</th>\n",
       "      <td>Antigua and Barbuda</td>\n",
       "      <td>2019.0</td>\n",
       "      <td>77.01600</td>\n",
       "    </tr>\n",
       "    <tr>\n",
       "      <th>...</th>\n",
       "      <td>...</td>\n",
       "      <td>...</td>\n",
       "      <td>...</td>\n",
       "    </tr>\n",
       "    <tr>\n",
       "      <th>12693</th>\n",
       "      <td>Viet Nam</td>\n",
       "      <td>2019.0</td>\n",
       "      <td>75.40000</td>\n",
       "    </tr>\n",
       "    <tr>\n",
       "      <th>12633</th>\n",
       "      <td>Virgin Islands (U.S.)</td>\n",
       "      <td>2019.0</td>\n",
       "      <td>79.66829</td>\n",
       "    </tr>\n",
       "    <tr>\n",
       "      <th>12874</th>\n",
       "      <td>Yemen</td>\n",
       "      <td>2019.0</td>\n",
       "      <td>66.12500</td>\n",
       "    </tr>\n",
       "    <tr>\n",
       "      <th>12994</th>\n",
       "      <td>Zambia</td>\n",
       "      <td>2019.0</td>\n",
       "      <td>63.88600</td>\n",
       "    </tr>\n",
       "    <tr>\n",
       "      <th>13054</th>\n",
       "      <td>Zimbabwe</td>\n",
       "      <td>2019.0</td>\n",
       "      <td>61.49000</td>\n",
       "    </tr>\n",
       "  </tbody>\n",
       "</table>\n",
       "<p>204 rows × 3 columns</p>\n",
       "</div>"
      ],
      "text/plain": [
       "                        name    time  lifeExpectancy\n",
       "119              Afghanistan  2019.0        64.83300\n",
       "241                  Albania  2019.0        78.57300\n",
       "3310                 Algeria  2019.0        76.88000\n",
       "179                   Angola  2019.0        61.14700\n",
       "603      Antigua and Barbuda  2019.0        77.01600\n",
       "...                      ...     ...             ...\n",
       "12693               Viet Nam  2019.0        75.40000\n",
       "12633  Virgin Islands (U.S.)  2019.0        79.66829\n",
       "12874                  Yemen  2019.0        66.12500\n",
       "12994                 Zambia  2019.0        63.88600\n",
       "13054               Zimbabwe  2019.0        61.49000\n",
       "\n",
       "[204 rows x 3 columns]"
      ]
     },
     "execution_count": 64,
     "metadata": {},
     "output_type": "execute_result"
    }
   ],
   "source": [
    "lastest = data_good.loc[data_good.groupby(\"name\").time.idxmax()][[\"name\", \"time\", \"lifeExpectancy\"]]\n",
    "lastest"
   ]
  },
  {
   "cell_type": "markdown",
   "id": "d3836dc9",
   "metadata": {},
   "source": [
    "Here is the table for the most recent LE for each country"
   ]
  },
  {
   "cell_type": "markdown",
   "id": "55848062",
   "metadata": {},
   "source": [
    "7.7"
   ]
  },
  {
   "cell_type": "code",
   "execution_count": 69,
   "id": "5152dbef",
   "metadata": {},
   "outputs": [
    {
     "data": {
      "text/html": [
       "<div>\n",
       "<style scoped>\n",
       "    .dataframe tbody tr th:only-of-type {\n",
       "        vertical-align: middle;\n",
       "    }\n",
       "\n",
       "    .dataframe tbody tr th {\n",
       "        vertical-align: top;\n",
       "    }\n",
       "\n",
       "    .dataframe thead th {\n",
       "        text-align: right;\n",
       "    }\n",
       "</style>\n",
       "<table border=\"1\" class=\"dataframe\">\n",
       "  <thead>\n",
       "    <tr style=\"text-align: right;\">\n",
       "      <th></th>\n",
       "      <th>name</th>\n",
       "      <th>time_x</th>\n",
       "      <th>lifeExpectancy_x</th>\n",
       "      <th>time_y</th>\n",
       "      <th>lifeExpectancy_y</th>\n",
       "    </tr>\n",
       "  </thead>\n",
       "  <tbody>\n",
       "    <tr>\n",
       "      <th>0</th>\n",
       "      <td>Afghanistan</td>\n",
       "      <td>1960.0</td>\n",
       "      <td>32.44600</td>\n",
       "      <td>2019.0</td>\n",
       "      <td>64.83300</td>\n",
       "    </tr>\n",
       "    <tr>\n",
       "      <th>1</th>\n",
       "      <td>Albania</td>\n",
       "      <td>1960.0</td>\n",
       "      <td>62.28300</td>\n",
       "      <td>2019.0</td>\n",
       "      <td>78.57300</td>\n",
       "    </tr>\n",
       "    <tr>\n",
       "      <th>2</th>\n",
       "      <td>Algeria</td>\n",
       "      <td>1960.0</td>\n",
       "      <td>46.14100</td>\n",
       "      <td>2019.0</td>\n",
       "      <td>76.88000</td>\n",
       "    </tr>\n",
       "    <tr>\n",
       "      <th>3</th>\n",
       "      <td>Angola</td>\n",
       "      <td>1960.0</td>\n",
       "      <td>37.52400</td>\n",
       "      <td>2019.0</td>\n",
       "      <td>61.14700</td>\n",
       "    </tr>\n",
       "    <tr>\n",
       "      <th>4</th>\n",
       "      <td>Antigua and Barbuda</td>\n",
       "      <td>1960.0</td>\n",
       "      <td>61.96800</td>\n",
       "      <td>2019.0</td>\n",
       "      <td>77.01600</td>\n",
       "    </tr>\n",
       "    <tr>\n",
       "      <th>...</th>\n",
       "      <td>...</td>\n",
       "      <td>...</td>\n",
       "      <td>...</td>\n",
       "      <td>...</td>\n",
       "      <td>...</td>\n",
       "    </tr>\n",
       "    <tr>\n",
       "      <th>199</th>\n",
       "      <td>Viet Nam</td>\n",
       "      <td>1960.0</td>\n",
       "      <td>59.03900</td>\n",
       "      <td>2019.0</td>\n",
       "      <td>75.40000</td>\n",
       "    </tr>\n",
       "    <tr>\n",
       "      <th>200</th>\n",
       "      <td>Virgin Islands (U.S.)</td>\n",
       "      <td>1960.0</td>\n",
       "      <td>66.22485</td>\n",
       "      <td>2019.0</td>\n",
       "      <td>79.66829</td>\n",
       "    </tr>\n",
       "    <tr>\n",
       "      <th>201</th>\n",
       "      <td>Yemen</td>\n",
       "      <td>1960.0</td>\n",
       "      <td>29.91900</td>\n",
       "      <td>2019.0</td>\n",
       "      <td>66.12500</td>\n",
       "    </tr>\n",
       "    <tr>\n",
       "      <th>202</th>\n",
       "      <td>Zambia</td>\n",
       "      <td>1960.0</td>\n",
       "      <td>46.68700</td>\n",
       "      <td>2019.0</td>\n",
       "      <td>63.88600</td>\n",
       "    </tr>\n",
       "    <tr>\n",
       "      <th>203</th>\n",
       "      <td>Zimbabwe</td>\n",
       "      <td>1960.0</td>\n",
       "      <td>53.01900</td>\n",
       "      <td>2019.0</td>\n",
       "      <td>61.49000</td>\n",
       "    </tr>\n",
       "  </tbody>\n",
       "</table>\n",
       "<p>204 rows × 5 columns</p>\n",
       "</div>"
      ],
      "text/plain": [
       "                      name  time_x  lifeExpectancy_x  time_y  lifeExpectancy_y\n",
       "0              Afghanistan  1960.0          32.44600  2019.0          64.83300\n",
       "1                  Albania  1960.0          62.28300  2019.0          78.57300\n",
       "2                  Algeria  1960.0          46.14100  2019.0          76.88000\n",
       "3                   Angola  1960.0          37.52400  2019.0          61.14700\n",
       "4      Antigua and Barbuda  1960.0          61.96800  2019.0          77.01600\n",
       "..                     ...     ...               ...     ...               ...\n",
       "199               Viet Nam  1960.0          59.03900  2019.0          75.40000\n",
       "200  Virgin Islands (U.S.)  1960.0          66.22485  2019.0          79.66829\n",
       "201                  Yemen  1960.0          29.91900  2019.0          66.12500\n",
       "202                 Zambia  1960.0          46.68700  2019.0          63.88600\n",
       "203               Zimbabwe  1960.0          53.01900  2019.0          61.49000\n",
       "\n",
       "[204 rows x 5 columns]"
      ]
     },
     "execution_count": 69,
     "metadata": {},
     "output_type": "execute_result"
    }
   ],
   "source": [
    "merged_data = pd.merge(earliest, lastest, on=\"name\")\n",
    "merged_data"
   ]
  },
  {
   "cell_type": "code",
   "execution_count": 95,
   "id": "c0efe387",
   "metadata": {},
   "outputs": [
    {
     "data": {
      "text/html": [
       "<div>\n",
       "<style scoped>\n",
       "    .dataframe tbody tr th:only-of-type {\n",
       "        vertical-align: middle;\n",
       "    }\n",
       "\n",
       "    .dataframe tbody tr th {\n",
       "        vertical-align: top;\n",
       "    }\n",
       "\n",
       "    .dataframe thead th {\n",
       "        text-align: right;\n",
       "    }\n",
       "</style>\n",
       "<table border=\"1\" class=\"dataframe\">\n",
       "  <thead>\n",
       "    <tr style=\"text-align: right;\">\n",
       "      <th></th>\n",
       "      <th>name</th>\n",
       "      <th>earliest_year</th>\n",
       "      <th>lifeExpectancy_earliest</th>\n",
       "      <th>lastest_year</th>\n",
       "      <th>lifeExpectancy_lastest</th>\n",
       "      <th>growth_rate</th>\n",
       "    </tr>\n",
       "  </thead>\n",
       "  <tbody>\n",
       "    <tr>\n",
       "      <th>0</th>\n",
       "      <td>Afghanistan</td>\n",
       "      <td>1960.0</td>\n",
       "      <td>32.44600</td>\n",
       "      <td>2019.0</td>\n",
       "      <td>64.83300</td>\n",
       "      <td>1.180194</td>\n",
       "    </tr>\n",
       "    <tr>\n",
       "      <th>1</th>\n",
       "      <td>Albania</td>\n",
       "      <td>1960.0</td>\n",
       "      <td>62.28300</td>\n",
       "      <td>2019.0</td>\n",
       "      <td>78.57300</td>\n",
       "      <td>0.394572</td>\n",
       "    </tr>\n",
       "    <tr>\n",
       "      <th>2</th>\n",
       "      <td>Algeria</td>\n",
       "      <td>1960.0</td>\n",
       "      <td>46.14100</td>\n",
       "      <td>2019.0</td>\n",
       "      <td>76.88000</td>\n",
       "      <td>0.869083</td>\n",
       "    </tr>\n",
       "    <tr>\n",
       "      <th>3</th>\n",
       "      <td>Angola</td>\n",
       "      <td>1960.0</td>\n",
       "      <td>37.52400</td>\n",
       "      <td>2019.0</td>\n",
       "      <td>61.14700</td>\n",
       "      <td>0.831062</td>\n",
       "    </tr>\n",
       "    <tr>\n",
       "      <th>4</th>\n",
       "      <td>Antigua and Barbuda</td>\n",
       "      <td>1960.0</td>\n",
       "      <td>61.96800</td>\n",
       "      <td>2019.0</td>\n",
       "      <td>77.01600</td>\n",
       "      <td>0.369146</td>\n",
       "    </tr>\n",
       "    <tr>\n",
       "      <th>...</th>\n",
       "      <td>...</td>\n",
       "      <td>...</td>\n",
       "      <td>...</td>\n",
       "      <td>...</td>\n",
       "      <td>...</td>\n",
       "      <td>...</td>\n",
       "    </tr>\n",
       "    <tr>\n",
       "      <th>199</th>\n",
       "      <td>Viet Nam</td>\n",
       "      <td>1960.0</td>\n",
       "      <td>59.03900</td>\n",
       "      <td>2019.0</td>\n",
       "      <td>75.40000</td>\n",
       "      <td>0.415452</td>\n",
       "    </tr>\n",
       "    <tr>\n",
       "      <th>200</th>\n",
       "      <td>Virgin Islands (U.S.)</td>\n",
       "      <td>1960.0</td>\n",
       "      <td>66.22485</td>\n",
       "      <td>2019.0</td>\n",
       "      <td>79.66829</td>\n",
       "      <td>0.313738</td>\n",
       "    </tr>\n",
       "    <tr>\n",
       "      <th>201</th>\n",
       "      <td>Yemen</td>\n",
       "      <td>1960.0</td>\n",
       "      <td>29.91900</td>\n",
       "      <td>2019.0</td>\n",
       "      <td>66.12500</td>\n",
       "      <td>1.353232</td>\n",
       "    </tr>\n",
       "    <tr>\n",
       "      <th>202</th>\n",
       "      <td>Zambia</td>\n",
       "      <td>1960.0</td>\n",
       "      <td>46.68700</td>\n",
       "      <td>2019.0</td>\n",
       "      <td>63.88600</td>\n",
       "      <td>0.532999</td>\n",
       "    </tr>\n",
       "    <tr>\n",
       "      <th>203</th>\n",
       "      <td>Zimbabwe</td>\n",
       "      <td>1960.0</td>\n",
       "      <td>53.01900</td>\n",
       "      <td>2019.0</td>\n",
       "      <td>61.49000</td>\n",
       "      <td>0.251543</td>\n",
       "    </tr>\n",
       "  </tbody>\n",
       "</table>\n",
       "<p>204 rows × 6 columns</p>\n",
       "</div>"
      ],
      "text/plain": [
       "                      name  earliest_year  lifeExpectancy_earliest  \\\n",
       "0              Afghanistan         1960.0                 32.44600   \n",
       "1                  Albania         1960.0                 62.28300   \n",
       "2                  Algeria         1960.0                 46.14100   \n",
       "3                   Angola         1960.0                 37.52400   \n",
       "4      Antigua and Barbuda         1960.0                 61.96800   \n",
       "..                     ...            ...                      ...   \n",
       "199               Viet Nam         1960.0                 59.03900   \n",
       "200  Virgin Islands (U.S.)         1960.0                 66.22485   \n",
       "201                  Yemen         1960.0                 29.91900   \n",
       "202                 Zambia         1960.0                 46.68700   \n",
       "203               Zimbabwe         1960.0                 53.01900   \n",
       "\n",
       "     lastest_year  lifeExpectancy_lastest  growth_rate  \n",
       "0          2019.0                64.83300     1.180194  \n",
       "1          2019.0                78.57300     0.394572  \n",
       "2          2019.0                76.88000     0.869083  \n",
       "3          2019.0                61.14700     0.831062  \n",
       "4          2019.0                77.01600     0.369146  \n",
       "..            ...                     ...          ...  \n",
       "199        2019.0                75.40000     0.415452  \n",
       "200        2019.0                79.66829     0.313738  \n",
       "201        2019.0                66.12500     1.353232  \n",
       "202        2019.0                63.88600     0.532999  \n",
       "203        2019.0                61.49000     0.251543  \n",
       "\n",
       "[204 rows x 6 columns]"
      ]
     },
     "execution_count": 95,
     "metadata": {},
     "output_type": "execute_result"
    }
   ],
   "source": [
    "n = merged_data.time_y - merged_data.time_x\n",
    "g = 100 * ((merged_data.lifeExpectancy_y/merged_data.lifeExpectancy_x) ** (1/n) -1)\n",
    "merged_data[\"growth_rate\"] = g\n",
    "new_data = merged_data.rename({\"time_x\":\"earliest_year\",\"lifeExpectancy_x\":\"lifeExpectancy_earliest\",\"time_y\":\"lastest_year\",\"lifeExpectancy_y\":\"lifeExpectancy_lastest\"},axis=1)\n",
    "new_data"
   ]
  },
  {
   "cell_type": "code",
   "execution_count": 97,
   "id": "5d0463b7",
   "metadata": {},
   "outputs": [
    {
     "data": {
      "text/html": [
       "<div>\n",
       "<style scoped>\n",
       "    .dataframe tbody tr th:only-of-type {\n",
       "        vertical-align: middle;\n",
       "    }\n",
       "\n",
       "    .dataframe tbody tr th {\n",
       "        vertical-align: top;\n",
       "    }\n",
       "\n",
       "    .dataframe thead th {\n",
       "        text-align: right;\n",
       "    }\n",
       "</style>\n",
       "<table border=\"1\" class=\"dataframe\">\n",
       "  <thead>\n",
       "    <tr style=\"text-align: right;\">\n",
       "      <th></th>\n",
       "      <th>name</th>\n",
       "      <th>earliest_year</th>\n",
       "      <th>lifeExpectancy_earliest</th>\n",
       "      <th>lastest_year</th>\n",
       "      <th>lifeExpectancy_lastest</th>\n",
       "      <th>growth_rate</th>\n",
       "    </tr>\n",
       "  </thead>\n",
       "  <tbody>\n",
       "    <tr>\n",
       "      <th>201</th>\n",
       "      <td>Yemen</td>\n",
       "      <td>1960.0</td>\n",
       "      <td>29.919</td>\n",
       "      <td>2019.0</td>\n",
       "      <td>66.125</td>\n",
       "      <td>1.353232</td>\n",
       "    </tr>\n",
       "    <tr>\n",
       "      <th>113</th>\n",
       "      <td>Maldives</td>\n",
       "      <td>1960.0</td>\n",
       "      <td>37.343</td>\n",
       "      <td>2019.0</td>\n",
       "      <td>78.921</td>\n",
       "      <td>1.276385</td>\n",
       "    </tr>\n",
       "    <tr>\n",
       "      <th>114</th>\n",
       "      <td>Mali</td>\n",
       "      <td>1960.0</td>\n",
       "      <td>28.199</td>\n",
       "      <td>2019.0</td>\n",
       "      <td>59.306</td>\n",
       "      <td>1.268013</td>\n",
       "    </tr>\n",
       "    <tr>\n",
       "      <th>20</th>\n",
       "      <td>Bhutan</td>\n",
       "      <td>1960.0</td>\n",
       "      <td>34.526</td>\n",
       "      <td>2019.0</td>\n",
       "      <td>71.777</td>\n",
       "      <td>1.248151</td>\n",
       "    </tr>\n",
       "    <tr>\n",
       "      <th>183</th>\n",
       "      <td>Timor-Leste</td>\n",
       "      <td>1960.0</td>\n",
       "      <td>33.729</td>\n",
       "      <td>2019.0</td>\n",
       "      <td>69.495</td>\n",
       "      <td>1.232786</td>\n",
       "    </tr>\n",
       "    <tr>\n",
       "      <th>0</th>\n",
       "      <td>Afghanistan</td>\n",
       "      <td>1960.0</td>\n",
       "      <td>32.446</td>\n",
       "      <td>2019.0</td>\n",
       "      <td>64.833</td>\n",
       "      <td>1.180194</td>\n",
       "    </tr>\n",
       "    <tr>\n",
       "      <th>128</th>\n",
       "      <td>Nepal</td>\n",
       "      <td>1960.0</td>\n",
       "      <td>35.583</td>\n",
       "      <td>2019.0</td>\n",
       "      <td>70.778</td>\n",
       "      <td>1.172379</td>\n",
       "    </tr>\n",
       "    <tr>\n",
       "      <th>66</th>\n",
       "      <td>Gambia</td>\n",
       "      <td>1960.0</td>\n",
       "      <td>32.054</td>\n",
       "      <td>2019.0</td>\n",
       "      <td>62.050</td>\n",
       "      <td>1.125813</td>\n",
       "    </tr>\n",
       "    <tr>\n",
       "      <th>104</th>\n",
       "      <td>Liberia</td>\n",
       "      <td>1960.0</td>\n",
       "      <td>34.264</td>\n",
       "      <td>2019.0</td>\n",
       "      <td>64.104</td>\n",
       "      <td>1.067371</td>\n",
       "    </tr>\n",
       "    <tr>\n",
       "      <th>187</th>\n",
       "      <td>Tunisia</td>\n",
       "      <td>1960.0</td>\n",
       "      <td>42.021</td>\n",
       "      <td>2019.0</td>\n",
       "      <td>76.699</td>\n",
       "      <td>1.025081</td>\n",
       "    </tr>\n",
       "  </tbody>\n",
       "</table>\n",
       "</div>"
      ],
      "text/plain": [
       "            name  earliest_year  lifeExpectancy_earliest  lastest_year  \\\n",
       "201        Yemen         1960.0                   29.919        2019.0   \n",
       "113     Maldives         1960.0                   37.343        2019.0   \n",
       "114         Mali         1960.0                   28.199        2019.0   \n",
       "20        Bhutan         1960.0                   34.526        2019.0   \n",
       "183  Timor-Leste         1960.0                   33.729        2019.0   \n",
       "0    Afghanistan         1960.0                   32.446        2019.0   \n",
       "128        Nepal         1960.0                   35.583        2019.0   \n",
       "66        Gambia         1960.0                   32.054        2019.0   \n",
       "104      Liberia         1960.0                   34.264        2019.0   \n",
       "187      Tunisia         1960.0                   42.021        2019.0   \n",
       "\n",
       "     lifeExpectancy_lastest  growth_rate  \n",
       "201                  66.125     1.353232  \n",
       "113                  78.921     1.276385  \n",
       "114                  59.306     1.268013  \n",
       "20                   71.777     1.248151  \n",
       "183                  69.495     1.232786  \n",
       "0                    64.833     1.180194  \n",
       "128                  70.778     1.172379  \n",
       "66                   62.050     1.125813  \n",
       "104                  64.104     1.067371  \n",
       "187                  76.699     1.025081  "
      ]
     },
     "execution_count": 97,
     "metadata": {},
     "output_type": "execute_result"
    }
   ],
   "source": [
    "la_index = g.nlargest(10).index #top 10 fastest growers\n",
    "new_data.loc[la_index]"
   ]
  },
  {
   "cell_type": "code",
   "execution_count": 98,
   "id": "cc21bdc4",
   "metadata": {},
   "outputs": [
    {
     "data": {
      "text/html": [
       "<div>\n",
       "<style scoped>\n",
       "    .dataframe tbody tr th:only-of-type {\n",
       "        vertical-align: middle;\n",
       "    }\n",
       "\n",
       "    .dataframe tbody tr th {\n",
       "        vertical-align: top;\n",
       "    }\n",
       "\n",
       "    .dataframe thead th {\n",
       "        text-align: right;\n",
       "    }\n",
       "</style>\n",
       "<table border=\"1\" class=\"dataframe\">\n",
       "  <thead>\n",
       "    <tr style=\"text-align: right;\">\n",
       "      <th></th>\n",
       "      <th>name</th>\n",
       "      <th>earliest_year</th>\n",
       "      <th>lifeExpectancy_earliest</th>\n",
       "      <th>lastest_year</th>\n",
       "      <th>lifeExpectancy_lastest</th>\n",
       "      <th>growth_rate</th>\n",
       "    </tr>\n",
       "  </thead>\n",
       "  <tbody>\n",
       "    <tr>\n",
       "      <th>116</th>\n",
       "      <td>Marshall Islands</td>\n",
       "      <td>1987.0</td>\n",
       "      <td>72.14146</td>\n",
       "      <td>2000.0</td>\n",
       "      <td>65.23902</td>\n",
       "      <td>-0.770640</td>\n",
       "    </tr>\n",
       "    <tr>\n",
       "      <th>33</th>\n",
       "      <td>Cayman Islands</td>\n",
       "      <td>2010.0</td>\n",
       "      <td>82.19024</td>\n",
       "      <td>2010.0</td>\n",
       "      <td>82.19024</td>\n",
       "      <td>0.000000</td>\n",
       "    </tr>\n",
       "    <tr>\n",
       "      <th>158</th>\n",
       "      <td>San Marino</td>\n",
       "      <td>2012.0</td>\n",
       "      <td>85.41707</td>\n",
       "      <td>2012.0</td>\n",
       "      <td>85.41707</td>\n",
       "      <td>0.000000</td>\n",
       "    </tr>\n",
       "    <tr>\n",
       "      <th>139</th>\n",
       "      <td>Palau</td>\n",
       "      <td>1990.0</td>\n",
       "      <td>69.06927</td>\n",
       "      <td>2005.0</td>\n",
       "      <td>69.12927</td>\n",
       "      <td>0.005789</td>\n",
       "    </tr>\n",
       "    <tr>\n",
       "      <th>191</th>\n",
       "      <td>Ukraine</td>\n",
       "      <td>1960.0</td>\n",
       "      <td>68.29954</td>\n",
       "      <td>2019.0</td>\n",
       "      <td>71.82732</td>\n",
       "      <td>0.085396</td>\n",
       "    </tr>\n",
       "    <tr>\n",
       "      <th>101</th>\n",
       "      <td>Latvia</td>\n",
       "      <td>1960.0</td>\n",
       "      <td>69.78683</td>\n",
       "      <td>2019.0</td>\n",
       "      <td>75.23902</td>\n",
       "      <td>0.127581</td>\n",
       "    </tr>\n",
       "    <tr>\n",
       "      <th>26</th>\n",
       "      <td>Bulgaria</td>\n",
       "      <td>1960.0</td>\n",
       "      <td>69.24756</td>\n",
       "      <td>2019.0</td>\n",
       "      <td>74.91463</td>\n",
       "      <td>0.133413</td>\n",
       "    </tr>\n",
       "    <tr>\n",
       "      <th>107</th>\n",
       "      <td>Lithuania</td>\n",
       "      <td>1960.0</td>\n",
       "      <td>69.84732</td>\n",
       "      <td>2019.0</td>\n",
       "      <td>76.13415</td>\n",
       "      <td>0.146183</td>\n",
       "    </tr>\n",
       "    <tr>\n",
       "      <th>163</th>\n",
       "      <td>Seychelles</td>\n",
       "      <td>1980.0</td>\n",
       "      <td>69.59756</td>\n",
       "      <td>2019.0</td>\n",
       "      <td>73.94390</td>\n",
       "      <td>0.155447</td>\n",
       "    </tr>\n",
       "    <tr>\n",
       "      <th>15</th>\n",
       "      <td>Belarus</td>\n",
       "      <td>1960.0</td>\n",
       "      <td>67.70810</td>\n",
       "      <td>2019.0</td>\n",
       "      <td>74.22683</td>\n",
       "      <td>0.155918</td>\n",
       "    </tr>\n",
       "  </tbody>\n",
       "</table>\n",
       "</div>"
      ],
      "text/plain": [
       "                 name  earliest_year  lifeExpectancy_earliest  lastest_year  \\\n",
       "116  Marshall Islands         1987.0                 72.14146        2000.0   \n",
       "33     Cayman Islands         2010.0                 82.19024        2010.0   \n",
       "158        San Marino         2012.0                 85.41707        2012.0   \n",
       "139             Palau         1990.0                 69.06927        2005.0   \n",
       "191           Ukraine         1960.0                 68.29954        2019.0   \n",
       "101            Latvia         1960.0                 69.78683        2019.0   \n",
       "26           Bulgaria         1960.0                 69.24756        2019.0   \n",
       "107         Lithuania         1960.0                 69.84732        2019.0   \n",
       "163        Seychelles         1980.0                 69.59756        2019.0   \n",
       "15            Belarus         1960.0                 67.70810        2019.0   \n",
       "\n",
       "     lifeExpectancy_lastest  growth_rate  \n",
       "116                65.23902    -0.770640  \n",
       "33                 82.19024     0.000000  \n",
       "158                85.41707     0.000000  \n",
       "139                69.12927     0.005789  \n",
       "191                71.82732     0.085396  \n",
       "101                75.23902     0.127581  \n",
       "26                 74.91463     0.133413  \n",
       "107                76.13415     0.146183  \n",
       "163                73.94390     0.155447  \n",
       "15                 74.22683     0.155918  "
      ]
     },
     "execution_count": 98,
     "metadata": {},
     "output_type": "execute_result"
    }
   ],
   "source": [
    "sm_index = g.nsmallest(10).index #top 10 slowest growers\n",
    "new_data.loc[sm_index]"
   ]
  },
  {
   "cell_type": "markdown",
   "id": "4dde3bc5",
   "metadata": {},
   "source": [
    "Here are two tables of 10 fastest and 10 slowest growers"
   ]
  },
  {
   "cell_type": "markdown",
   "id": "46a0fac7",
   "metadata": {},
   "source": [
    "7.8"
   ]
  },
  {
   "cell_type": "markdown",
   "id": "6bcf77f4",
   "metadata": {},
   "source": [
    "One pattern that I noticed is that countries with high growth rate, they tend to have lower life expectancy at the beginning of the period. However, countries with low growth rate, they tend to have high life expectancy at the beginning of the period."
   ]
  },
  {
   "cell_type": "markdown",
   "id": "02975908",
   "metadata": {},
   "source": [
    "# Total Time: 10hrs"
   ]
  },
  {
   "cell_type": "code",
   "execution_count": null,
   "id": "3a1066c2",
   "metadata": {},
   "outputs": [],
   "source": []
  }
 ],
 "metadata": {
  "kernelspec": {
   "display_name": "Python 3.9.7 64-bit ('base': conda)",
   "language": "python",
   "name": "python397jvsc74a57bd025e8d9c885e4760474dd506b9eb880e7adcf62a08caceaf2616c71b6e9fbb3b0"
  },
  "language_info": {
   "codemirror_mode": {
    "name": "ipython",
    "version": 3
   },
   "file_extension": ".py",
   "mimetype": "text/x-python",
   "name": "python",
   "nbconvert_exporter": "python",
   "pygments_lexer": "ipython3",
   "version": "3.9.7"
  }
 },
 "nbformat": 4,
 "nbformat_minor": 5
}

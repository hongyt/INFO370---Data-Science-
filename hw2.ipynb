{
 "cells": [
  {
   "cell_type": "code",
   "execution_count": 2,
   "metadata": {},
   "outputs": [],
   "source": [
    "import pandas as pd"
   ]
  },
  {
   "cell_type": "markdown",
   "metadata": {},
   "source": [
    "# Q1"
   ]
  },
  {
   "cell_type": "code",
   "execution_count": 3,
   "metadata": {},
   "outputs": [
    {
     "data": {
      "text/html": [
       "<div>\n",
       "<style scoped>\n",
       "    .dataframe tbody tr th:only-of-type {\n",
       "        vertical-align: middle;\n",
       "    }\n",
       "\n",
       "    .dataframe tbody tr th {\n",
       "        vertical-align: top;\n",
       "    }\n",
       "\n",
       "    .dataframe thead th {\n",
       "        text-align: right;\n",
       "    }\n",
       "</style>\n",
       "<table border=\"1\" class=\"dataframe\">\n",
       "  <thead>\n",
       "    <tr style=\"text-align: right;\">\n",
       "      <th></th>\n",
       "      <th>Population</th>\n",
       "      <th>Income</th>\n",
       "      <th>Illiteracy</th>\n",
       "      <th>LifeExp</th>\n",
       "      <th>Murder</th>\n",
       "      <th>HSGrad</th>\n",
       "      <th>Frost</th>\n",
       "      <th>Area</th>\n",
       "    </tr>\n",
       "  </thead>\n",
       "  <tbody>\n",
       "    <tr>\n",
       "      <th>0</th>\n",
       "      <td>3615</td>\n",
       "      <td>3624</td>\n",
       "      <td>2.1</td>\n",
       "      <td>69.05</td>\n",
       "      <td>15.1</td>\n",
       "      <td>41.3</td>\n",
       "      <td>20</td>\n",
       "      <td>50708</td>\n",
       "    </tr>\n",
       "    <tr>\n",
       "      <th>1</th>\n",
       "      <td>365</td>\n",
       "      <td>6315</td>\n",
       "      <td>1.5</td>\n",
       "      <td>69.31</td>\n",
       "      <td>11.3</td>\n",
       "      <td>66.7</td>\n",
       "      <td>152</td>\n",
       "      <td>566432</td>\n",
       "    </tr>\n",
       "    <tr>\n",
       "      <th>2</th>\n",
       "      <td>2212</td>\n",
       "      <td>4530</td>\n",
       "      <td>1.8</td>\n",
       "      <td>70.55</td>\n",
       "      <td>7.8</td>\n",
       "      <td>58.1</td>\n",
       "      <td>15</td>\n",
       "      <td>113417</td>\n",
       "    </tr>\n",
       "    <tr>\n",
       "      <th>3</th>\n",
       "      <td>2110</td>\n",
       "      <td>3378</td>\n",
       "      <td>1.9</td>\n",
       "      <td>70.66</td>\n",
       "      <td>10.1</td>\n",
       "      <td>39.9</td>\n",
       "      <td>65</td>\n",
       "      <td>51945</td>\n",
       "    </tr>\n",
       "    <tr>\n",
       "      <th>4</th>\n",
       "      <td>21198</td>\n",
       "      <td>5114</td>\n",
       "      <td>1.1</td>\n",
       "      <td>71.71</td>\n",
       "      <td>10.3</td>\n",
       "      <td>62.6</td>\n",
       "      <td>20</td>\n",
       "      <td>156361</td>\n",
       "    </tr>\n",
       "  </tbody>\n",
       "</table>\n",
       "</div>"
      ],
      "text/plain": [
       "   Population  Income  Illiteracy  LifeExp  Murder  HSGrad  Frost    Area\n",
       "0        3615    3624         2.1    69.05    15.1    41.3     20   50708\n",
       "1         365    6315         1.5    69.31    11.3    66.7    152  566432\n",
       "2        2212    4530         1.8    70.55     7.8    58.1     15  113417\n",
       "3        2110    3378         1.9    70.66    10.1    39.9     65   51945\n",
       "4       21198    5114         1.1    71.71    10.3    62.6     20  156361"
      ]
     },
     "execution_count": 3,
     "metadata": {},
     "output_type": "execute_result"
    }
   ],
   "source": [
    "df = pd.read_csv(\"../data/states.csv.bz2\", sep=\"\\t\")\n",
    "df.head()"
   ]
  },
  {
   "cell_type": "markdown",
   "metadata": {},
   "source": [
    "## 1.3"
   ]
  },
  {
   "cell_type": "code",
   "execution_count": 4,
   "metadata": {},
   "outputs": [
    {
     "name": "stdout",
     "output_type": "stream",
     "text": [
      "Population max: 21198\n",
      "Population min: 365\n",
      "Income max: 6315\n",
      "Income min: 3098\n",
      "Illiteracy max: 2.8\n",
      "Illiteracy min: 0.5\n",
      "LifeExp max: 73.6\n",
      "LifeExp min: 67.96\n",
      "Murder max: 15.1\n",
      "Murder min: 1.4\n",
      "HSGrad max: 67.3\n",
      "HSGrad min: 37.8\n",
      "Frost max: 188\n",
      "Frost min: 0\n",
      "Area max: 566432\n",
      "Area min: 1049\n"
     ]
    }
   ],
   "source": [
    "for i in list(df.columns):\n",
    "    print(i,\"max:\",df[i].max())\n",
    "    print(i,\"min:\",df[i].min())"
   ]
  },
  {
   "cell_type": "markdown",
   "metadata": {},
   "source": [
    "## 1.4"
   ]
  },
  {
   "cell_type": "markdown",
   "metadata": {},
   "source": [
    "## 1.5"
   ]
  },
  {
   "cell_type": "markdown",
   "metadata": {},
   "source": [
    "## 1.6"
   ]
  },
  {
   "cell_type": "code",
   "execution_count": 5,
   "metadata": {},
   "outputs": [
    {
     "data": {
      "text/plain": [
       "<matplotlib.collections.PathCollection at 0x7fc58eeb4fa0>"
      ]
     },
     "execution_count": 5,
     "metadata": {},
     "output_type": "execute_result"
    },
    {
     "data": {
      "image/png": "[encoded data removed]",
      "text/plain": [
       "<Figure size 432x288 with 1 Axes>"
      ]
     },
     "metadata": {
      "needs_background": "light"
     },
     "output_type": "display_data"
    }
   ],
   "source": [
    "import matplotlib.pyplot as plt\n",
    "plt.scatter(df.HSGrad, df.Income)\n"
   ]
  },
  {
   "cell_type": "code",
   "execution_count": 6,
   "metadata": {},
   "outputs": [
    {
     "data": {
      "text/plain": [
       "<matplotlib.collections.PathCollection at 0x7fc58f172a90>"
      ]
     },
     "execution_count": 6,
     "metadata": {},
     "output_type": "execute_result"
    },
    {
     "data": {
      "image/png": "[encoded data removed]",
      "text/plain": [
       "<Figure size 432x288 with 1 Axes>"
      ]
     },
     "metadata": {
      "needs_background": "light"
     },
     "output_type": "display_data"
    }
   ],
   "source": [
    "plt.scatter(df.Income, df.HSGrad)"
   ]
  },
  {
   "cell_type": "markdown",
   "metadata": {},
   "source": [
    "## 1.7"
   ]
  },
  {
   "cell_type": "code",
   "execution_count": 7,
   "metadata": {},
   "outputs": [],
   "source": [
    "df[\"highly_educated\"] = df.HSGrad > df.HSGrad.median()"
   ]
  },
  {
   "cell_type": "markdown",
   "metadata": {},
   "source": [
    "## 1.8"
   ]
  },
  {
   "cell_type": "code",
   "execution_count": 8,
   "metadata": {},
   "outputs": [
    {
     "data": {
      "text/plain": [
       "highly_educated\n",
       "False    4269.88\n",
       "True     4601.72\n",
       "Name: Income, dtype: float64"
      ]
     },
     "execution_count": 8,
     "metadata": {},
     "output_type": "execute_result"
    }
   ],
   "source": [
    "df.groupby(\"highly_educated\").Income.mean()"
   ]
  },
  {
   "cell_type": "markdown",
   "metadata": {},
   "source": [
    "# 2"
   ]
  },
  {
   "cell_type": "markdown",
   "metadata": {},
   "source": [
    "## 2.11"
   ]
  },
  {
   "cell_type": "code",
   "execution_count": 9,
   "metadata": {},
   "outputs": [
    {
     "name": "stdout",
     "output_type": "stream",
     "text": [
      "(2675, 10)\n",
      "(30000, 3)\n",
      "(8716, 82)\n"
     ]
    }
   ],
   "source": [
    "treat = pd.read_csv(\"../data/treatment.csv.bz2\",sep = \"\\t\")\n",
    "mag = pd.read_csv(\"../data/mag-30k-citations.csv.bz2\",sep = \"\\t\")\n",
    "lunar = pd.read_csv(\"../data/lunar-impact-craters_v08-2015-09.csv.bz2\",sep=\"\\t\")\n",
    "print(treat.shape)\n",
    "print(mag.shape)\n",
    "print(lunar.shape)"
   ]
  },
  {
   "cell_type": "code",
   "execution_count": 10,
   "metadata": {},
   "outputs": [],
   "source": [
    "income = treat.re78.dropna()\n",
    "citations = mag.citations.dropna()\n",
    "radius = lunar[[lunar.columns[6],lunar.columns[7]]].dropna()"
   ]
  },
  {
   "cell_type": "code",
   "execution_count": 11,
   "metadata": {},
   "outputs": [
    {
     "name": "stdout",
     "output_type": "stream",
     "text": [
      "(2675,)\n",
      "(30000,)\n",
      "(8716, 2)\n"
     ]
    }
   ],
   "source": [
    "print(income.shape)\n",
    "print(citations.shape)\n",
    "print(radius.shape)"
   ]
  },
  {
   "cell_type": "code",
   "execution_count": 12,
   "metadata": {},
   "outputs": [
    {
     "data": {
      "text/plain": [
       "count      2675.000000\n",
       "mean      20502.376079\n",
       "std       15632.519774\n",
       "min           0.000000\n",
       "25%        9243.400000\n",
       "50%       19432.100000\n",
       "75%       28815.700000\n",
       "max      121174.000000\n",
       "Name: re78, dtype: float64"
      ]
     },
     "execution_count": 12,
     "metadata": {},
     "output_type": "execute_result"
    }
   ],
   "source": [
    "income.describe()"
   ]
  },
  {
   "cell_type": "code",
   "execution_count": 13,
   "metadata": {},
   "outputs": [
    {
     "data": {
      "text/plain": [
       "count    30000.000000\n",
       "mean        15.605633\n",
       "std         79.178103\n",
       "min          0.000000\n",
       "25%          0.000000\n",
       "50%          2.000000\n",
       "75%         12.000000\n",
       "max       7241.000000\n",
       "Name: citations, dtype: float64"
      ]
     },
     "execution_count": 13,
     "metadata": {},
     "output_type": "execute_result"
    }
   ],
   "source": [
    "citations.describe()"
   ]
  },
  {
   "cell_type": "code",
   "execution_count": 14,
   "metadata": {},
   "outputs": [
    {
     "data": {
      "text/html": [
       "<div>\n",
       "<style scoped>\n",
       "    .dataframe tbody tr th:only-of-type {\n",
       "        vertical-align: middle;\n",
       "    }\n",
       "\n",
       "    .dataframe tbody tr th {\n",
       "        vertical-align: top;\n",
       "    }\n",
       "\n",
       "    .dataframe thead th {\n",
       "        text-align: right;\n",
       "    }\n",
       "</style>\n",
       "<table border=\"1\" class=\"dataframe\">\n",
       "  <thead>\n",
       "    <tr style=\"text-align: right;\">\n",
       "      <th></th>\n",
       "      <th>7. Radius [m]</th>\n",
       "      <th>8. Apparent diameter [km]</th>\n",
       "    </tr>\n",
       "  </thead>\n",
       "  <tbody>\n",
       "    <tr>\n",
       "      <th>count</th>\n",
       "      <td>8.716000e+03</td>\n",
       "      <td>8716.000000</td>\n",
       "    </tr>\n",
       "    <tr>\n",
       "      <th>mean</th>\n",
       "      <td>1.371149e+04</td>\n",
       "      <td>23.439611</td>\n",
       "    </tr>\n",
       "    <tr>\n",
       "      <th>std</th>\n",
       "      <td>2.750554e+04</td>\n",
       "      <td>47.352918</td>\n",
       "    </tr>\n",
       "    <tr>\n",
       "      <th>min</th>\n",
       "      <td>5.000000e+00</td>\n",
       "      <td>0.010000</td>\n",
       "    </tr>\n",
       "    <tr>\n",
       "      <th>25%</th>\n",
       "      <td>3.585000e+03</td>\n",
       "      <td>5.950000</td>\n",
       "    </tr>\n",
       "    <tr>\n",
       "      <th>50%</th>\n",
       "      <td>7.770000e+03</td>\n",
       "      <td>12.900000</td>\n",
       "    </tr>\n",
       "    <tr>\n",
       "      <th>75%</th>\n",
       "      <td>1.581500e+04</td>\n",
       "      <td>27.200000</td>\n",
       "    </tr>\n",
       "    <tr>\n",
       "      <th>max</th>\n",
       "      <td>1.250000e+06</td>\n",
       "      <td>2150.000000</td>\n",
       "    </tr>\n",
       "  </tbody>\n",
       "</table>\n",
       "</div>"
      ],
      "text/plain": [
       "       7. Radius [m]  8. Apparent diameter [km]\n",
       "count   8.716000e+03                8716.000000\n",
       "mean    1.371149e+04                  23.439611\n",
       "std     2.750554e+04                  47.352918\n",
       "min     5.000000e+00                   0.010000\n",
       "25%     3.585000e+03                   5.950000\n",
       "50%     7.770000e+03                  12.900000\n",
       "75%     1.581500e+04                  27.200000\n",
       "max     1.250000e+06                2150.000000"
      ]
     },
     "execution_count": 14,
     "metadata": {},
     "output_type": "execute_result"
    }
   ],
   "source": [
    "radius.describe()"
   ]
  },
  {
   "cell_type": "markdown",
   "metadata": {},
   "source": [
    "## 2.12"
   ]
  },
  {
   "cell_type": "markdown",
   "metadata": {},
   "source": [
    "### (a)"
   ]
  },
  {
   "cell_type": "code",
   "execution_count": 15,
   "metadata": {},
   "outputs": [
    {
     "ename": "SyntaxError",
     "evalue": "invalid syntax (<ipython-input-15-23e13a8ed1b8>, line 1)",
     "output_type": "error",
     "traceback": [
      "\u001b[0;36m  File \u001b[0;32m\"<ipython-input-15-23e13a8ed1b8>\"\u001b[0;36m, line \u001b[0;32m1\u001b[0m\n\u001b[0;31m    _ = ax[]plt.hist(income, edgecolor =\"black\",alpha = 0.7,bins = 30)\u001b[0m\n\u001b[0m           ^\u001b[0m\n\u001b[0;31mSyntaxError\u001b[0m\u001b[0;31m:\u001b[0m invalid syntax\n"
     ]
    }
   ],
   "source": [
    "_ = ax[]plt.hist(income, edgecolor =\"black\",alpha = 0.7,bins = 30)\n",
    "_ = plt.xlabel(\"Income\")\n",
    "_ = plt.ylabel(\"counts\")"
   ]
  },
  {
   "cell_type": "code",
   "execution_count": 16,
   "metadata": {},
   "outputs": [
    {
     "data": {
      "image/png": "[encoded data removed]",
      "text/plain": [
       "<Figure size 432x288 with 1 Axes>"
      ]
     },
     "metadata": {
      "needs_background": "light"
     },
     "output_type": "display_data"
    }
   ],
   "source": [
    "import numpy as np\n",
    "_ = plt.hist(np.log(citations+1), edgecolor =\"black\",alpha=0.7, bins = 30)"
   ]
  },
  {
   "cell_type": "code",
   "execution_count": 17,
   "metadata": {},
   "outputs": [
    {
     "data": {
      "image/png": "[encoded data removed]",
      "text/plain": [
       "<Figure size 432x288 with 1 Axes>"
      ]
     },
     "metadata": {
      "needs_background": "light"
     },
     "output_type": "display_data"
    }
   ],
   "source": [
    "_ = plt.hist(np.log(1+radius[radius.columns[1]]), edgecolor =\"black\",alpha=0.7)"
   ]
  },
  {
   "cell_type": "markdown",
   "metadata": {},
   "source": [
    "## 2. 14"
   ]
  },
  {
   "cell_type": "code",
   "execution_count": 18,
   "metadata": {},
   "outputs": [
    {
     "name": "stdout",
     "output_type": "stream",
     "text": [
      "20502.37607865417\n",
      "15632.519774212507\n"
     ]
    },
    {
     "data": {
      "text/plain": [
       "-4869.856304441664"
      ]
     },
     "execution_count": 18,
     "metadata": {},
     "output_type": "execute_result"
    }
   ],
   "source": [
    "print(income.mean())\n",
    "print(income.std())\n",
    "\n",
    "income.std() - income.mean()"
   ]
  },
  {
   "cell_type": "code",
   "execution_count": 19,
   "metadata": {},
   "outputs": [
    {
     "name": "stdout",
     "output_type": "stream",
     "text": [
      "15.605633333333333\n",
      "79.17810312200979\n"
     ]
    },
    {
     "data": {
      "text/plain": [
       "63.57246978867646"
      ]
     },
     "execution_count": 19,
     "metadata": {},
     "output_type": "execute_result"
    }
   ],
   "source": [
    "print(citations.mean())\n",
    "print(citations.std())\n",
    "\n",
    "citations.std() - citations.mean()"
   ]
  },
  {
   "cell_type": "code",
   "execution_count": 20,
   "metadata": {},
   "outputs": [
    {
     "name": "stdout",
     "output_type": "stream",
     "text": [
      "23.439611060119205\n",
      "47.35291784277997\n"
     ]
    },
    {
     "data": {
      "text/plain": [
       "23.91330678266077"
      ]
     },
     "execution_count": 20,
     "metadata": {},
     "output_type": "execute_result"
    }
   ],
   "source": [
    "print(radius[radius.columns[1]].mean())\n",
    "print(radius[radius.columns[1]].std())\n",
    "\n",
    "radius[radius.columns[1]].std() - radius[radius.columns[1]].mean()"
   ]
  },
  {
   "cell_type": "markdown",
   "metadata": {},
   "source": [
    "## 2.21"
   ]
  },
  {
   "cell_type": "markdown",
   "metadata": {},
   "source": [
    "### a"
   ]
  },
  {
   "cell_type": "code",
   "execution_count": 21,
   "metadata": {},
   "outputs": [
    {
     "data": {
      "text/plain": [
       "54843856.0104"
      ]
     },
     "execution_count": 21,
     "metadata": {},
     "output_type": "execute_result"
    }
   ],
   "source": [
    "income.sum()"
   ]
  },
  {
   "cell_type": "markdown",
   "metadata": {},
   "source": [
    "### b"
   ]
  },
  {
   "cell_type": "code",
   "execution_count": 36,
   "metadata": {},
   "outputs": [
    {
     "data": {
      "text/plain": [
       "38007.09999999998"
      ]
     },
     "execution_count": 36,
     "metadata": {},
     "output_type": "execute_result"
    }
   ],
   "source": [
    "np.percentile(income,90)"
   ]
  },
  {
   "cell_type": "markdown",
   "metadata": {},
   "source": [
    "### c"
   ]
  },
  {
   "cell_type": "code",
   "execution_count": 39,
   "metadata": {},
   "outputs": [
    {
     "data": {
      "text/plain": [
       "13869983.6"
      ]
     },
     "execution_count": 39,
     "metadata": {},
     "output_type": "execute_result"
    }
   ],
   "source": [
    "ninty = income[income > np.percentile(income,90)].sum()\n",
    "ninty"
   ]
  },
  {
   "cell_type": "markdown",
   "metadata": {},
   "source": [
    "### d"
   ]
  },
  {
   "cell_type": "code",
   "execution_count": 31,
   "metadata": {},
   "outputs": [
    {
     "data": {
      "text/plain": [
       "0.9112436476115588"
      ]
     },
     "execution_count": 31,
     "metadata": {},
     "output_type": "execute_result"
    }
   ],
   "source": [
    "ninty/income.sum()\n",
    "\n",
    "income[income > np.percentile(income,90)].sum()/income.sum()"
   ]
  },
  {
   "cell_type": "markdown",
   "metadata": {},
   "source": [
    "### e"
   ]
  },
  {
   "cell_type": "code",
   "execution_count": 47,
   "metadata": {},
   "outputs": [
    {
     "data": {
      "text/plain": [
       "array([[0.04234557],\n",
       "       [0.07508823],\n",
       "       [0.10343367],\n",
       "       [0.12400107],\n",
       "       [0.14576886],\n",
       "       [0.17428824],\n",
       "       [0.18985211],\n",
       "       [0.20932051],\n",
       "       [0.22964975],\n",
       "       [0.2528995 ],\n",
       "       [0.25769072],\n",
       "       [0.25769072],\n",
       "       [0.29728254],\n",
       "       [0.32379382],\n",
       "       [0.33138848],\n",
       "       [0.35612645],\n",
       "       [0.36575691],\n",
       "       [0.36575691],\n",
       "       [0.40456308],\n",
       "       [0.43398742],\n",
       "       [0.43455304],\n",
       "       [0.44667032],\n",
       "       [0.44667032],\n",
       "       [0.47792562],\n",
       "       [0.48858446],\n",
       "       [0.50113271],\n",
       "       [0.50113271],\n",
       "       [0.53325047],\n",
       "       [0.54664312],\n",
       "       [0.55201597],\n",
       "       [0.55201597],\n",
       "       [0.58546272],\n",
       "       [0.59451549],\n",
       "       [0.61096143],\n",
       "       [0.6146526 ],\n",
       "       [0.63480694],\n",
       "       [0.64745626],\n",
       "       [0.65629522],\n",
       "       [0.65629522],\n",
       "       [0.68172938],\n",
       "       [0.69109712],\n",
       "       [0.70446492],\n",
       "       [0.70773189],\n",
       "       [0.70773189],\n",
       "       [0.73641335],\n",
       "       [0.74784762],\n",
       "       [0.75400824],\n",
       "       [0.75400824],\n",
       "       [0.77807782],\n",
       "       [0.78746673]])"
      ]
     },
     "execution_count": 47,
     "metadata": {},
     "output_type": "execute_result"
    }
   ],
   "source": [
    "total_income = income.sum()\n",
    "total_citation = citations.sum()\n",
    "total_radius = radius[radius.columns[1]].sum()\n",
    "\n",
    "ratio_income = np.zeros((50,1))\n",
    "ratio_citation = np.zeros((50,1))\n",
    "ratio_radius = np.zeros((50,1))\n",
    "for i in range(1,51):\n",
    "    top_income = np.percentile(income,100-i)\n",
    "    top_citations = np.percentile(citations,100-i)\n",
    "    top_radius = np.percentile(radius[radius.columns[1]],100-i)\n",
    "    ratio_income[i-1] = income[income > top_income].sum()/total_income\n",
    "    ratio_citation[i-1] = citations[citations > top_citations].sum()/total_citation\n",
    "    ratio_radius[i-1] = radius[radius > top_radius][radius.columns[1]].sum()/total_radius\n",
    " top_citations = np.percentile(citations,100-i)\n",
    "    top_radius = np.percentile(radius[radius.columns[1]],100-i)"
   ]
  },
  {
   "cell_type": "code",
   "execution_count": 42,
   "metadata": {},
   "outputs": [
    {
     "data": {
      "text/plain": [
       "array([[-0.75765443],\n",
       "       [-0.72491177],\n",
       "       [-0.69656633],\n",
       "       [-0.67599893],\n",
       "       [-0.65423114],\n",
       "       [-0.62571176],\n",
       "       [-0.61014789],\n",
       "       [-0.59067949],\n",
       "       [-0.57035025],\n",
       "       [-0.5471005 ],\n",
       "       [-0.54230928],\n",
       "       [-0.54230928],\n",
       "       [-0.50271746],\n",
       "       [-0.47620618],\n",
       "       [-0.46861152],\n",
       "       [-0.44387355],\n",
       "       [-0.43424309],\n",
       "       [-0.43424309],\n",
       "       [-0.39543692],\n",
       "       [-0.36601258],\n",
       "       [-0.36544696],\n",
       "       [-0.35332968],\n",
       "       [-0.35332968],\n",
       "       [-0.32207438],\n",
       "       [-0.31141554],\n",
       "       [-0.29886729],\n",
       "       [-0.29886729],\n",
       "       [-0.26674953],\n",
       "       [-0.25335688],\n",
       "       [-0.24798403],\n",
       "       [-0.24798403],\n",
       "       [-0.21453728],\n",
       "       [-0.20548451],\n",
       "       [-0.18903857],\n",
       "       [-0.1853474 ],\n",
       "       [-0.16519306],\n",
       "       [-0.15254374],\n",
       "       [-0.14370478],\n",
       "       [-0.14370478],\n",
       "       [-0.11827062],\n",
       "       [-0.10890288],\n",
       "       [-0.09553508],\n",
       "       [-0.09226811],\n",
       "       [-0.09226811],\n",
       "       [-0.06358665],\n",
       "       [-0.05215238],\n",
       "       [-0.04599176],\n",
       "       [-0.04599176],\n",
       "       [-0.02192218],\n",
       "       [-0.01253327],\n",
       "       [-0.01112144],\n",
       "       [-0.01112144],\n",
       "       [ 0.0157317 ],\n",
       "       [ 0.02441702],\n",
       "       [ 0.02506653],\n",
       "       [ 0.02506653],\n",
       "       [ 0.05060084],\n",
       "       [ 0.05628079],\n",
       "       [ 0.06241861],\n",
       "       [ 0.06241861],\n",
       "       [ 0.08095511],\n",
       "       [ 0.08734911],\n",
       "       [ 0.08734911],\n",
       "       [ 0.10375396],\n",
       "       [ 0.11124365],\n",
       "       [ 0.11444709],\n",
       "       [ 0.12414472],\n",
       "       [ 0.12979296],\n",
       "       [ 0.13633816],\n",
       "       [ 0.1374278 ],\n",
       "       [ 0.14734017],\n",
       "       [ 0.15328558],\n",
       "       [ 0.15676897],\n",
       "       [ 0.16343661],\n",
       "       [-0.8       ]])"
      ]
     },
     "execution_count": 42,
     "metadata": {},
     "output_type": "execute_result"
    }
   ],
   "source": [
    " top_citations = np.percentile(citations,100-i)\n",
    "    top_radius = np.percentile(radius[radius.columns[1]],100-i)"
   ]
  },
  {
   "cell_type": "code",
   "execution_count": null,
   "metadata": {},
   "outputs": [],
   "source": []
  },
  {
   "cell_type": "code",
   "execution_count": null,
   "metadata": {},
   "outputs": [],
   "source": []
  }
 ],
 "metadata": {
  "kernelspec": {
   "display_name": "Python 3",
   "language": "python",
   "name": "python3"
  },
  "language_info": {
   "codemirror_mode": {
    "name": "ipython",
    "version": 3
   },
   "file_extension": ".py",
   "mimetype": "text/x-python",
   "name": "python",
   "nbconvert_exporter": "python",
   "pygments_lexer": "ipython3",
   "version": "3.8.5"
  }
 },
 "nbformat": 4,
 "nbformat_minor": 4
}
